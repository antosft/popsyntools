{
 "cells": [
  {
   "cell_type": "code",
   "execution_count": null,
   "metadata": {},
   "outputs": [],
   "source": [
    "cd '/home/schlecker/repos/planeteScripts'"
   ]
  },
  {
   "cell_type": "code",
   "execution_count": null,
   "metadata": {},
   "outputs": [],
   "source": [
    "%load_ext autoreload\n",
    "%autoreload 2\n",
    "from make_list import *\n",
    "from planeteOutput import *\n",
    "import matplotlib.pyplot as plt"
   ]
  },
  {
   "cell_type": "code",
   "execution_count": null,
   "metadata": {},
   "outputs": [],
   "source": [
    "from planetePlots import *\n",
    "import utils"
   ]
  },
  {
   "cell_type": "code",
   "execution_count": null,
   "metadata": {
    "scrolled": true
   },
   "outputs": [],
   "source": [
    "# load an example population\n",
    "popfile = '/home/schlecker/phd/planete/outputs/bernNov17/popu/popu.hdf5'\n",
    "j35file = '/home/schlecker/phd/planete/outputs/J35/pop04f_J35.hd5'\n",
    "pop = read_popHdf5(j35file, hierarchical=False, nSample=5)"
   ]
  },
  {
   "cell_type": "code",
   "execution_count": null,
   "metadata": {},
   "outputs": [],
   "source": [
    "# load single simulation with 70 embryos\n",
    "T1simFile = '/home/schlecker/phd/planete/outputs/singleruns/01Trappist1/'\n",
    "T1sim = read_simFromFolder(T1simFile)"
   ]
  },
  {
   "cell_type": "code",
   "execution_count": null,
   "metadata": {},
   "outputs": [],
   "source": [
    "T1sim['planet013'].status.tail(1) == -1"
   ]
  },
  {
   "cell_type": "code",
   "execution_count": null,
   "metadata": {},
   "outputs": [],
   "source": [
    "truths = utils.get_Trappist1data()\n",
    "fig, ax = plot_planetTracks(T1sim, truths)\n",
    "# fig.savefig('/home/schlecker/Desktop/T1.svg', rasterized=True)"
   ]
  },
  {
   "cell_type": "code",
   "execution_count": null,
   "metadata": {},
   "outputs": [],
   "source": [
    "# ax.scatter([7e6 for i in range(len(truths))], truths['a'])\n",
    "plt.scatter([x*9e5 for x in range(8)], [x*.4 for x in range(8)], s=40, edgecolors='white', linewidth=1.5, zorder=10)\n",
    "# plt.scatter([x*8e5 for x in range(8)], [x*.5 for x in range(8)], s=40, zorder=10)"
   ]
  },
  {
   "cell_type": "code",
   "execution_count": null,
   "metadata": {
    "collapsed": true
   },
   "outputs": [],
   "source": []
  }
 ],
 "metadata": {
  "kernelspec": {
   "display_name": "Python 3",
   "language": "python",
   "name": "python3"
  },
  "language_info": {
   "codemirror_mode": {
    "name": "ipython",
    "version": 3
   },
   "file_extension": ".py",
   "mimetype": "text/x-python",
   "name": "python",
   "nbconvert_exporter": "python",
   "pygments_lexer": "ipython3",
   "version": "3.6.3"
  }
 },
 "nbformat": 4,
 "nbformat_minor": 2
}
