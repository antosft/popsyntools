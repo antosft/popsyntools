{
 "cells": [
  {
   "cell_type": "code",
   "execution_count": 4,
   "metadata": {},
   "outputs": [
    {
     "name": "stdout",
     "output_type": "stream",
     "text": [
      "/home/schlecker/repos/planeteScripts\n"
     ]
    }
   ],
   "source": [
    "cd '/home/schlecker/repos/planeteScripts'"
   ]
  },
  {
   "cell_type": "code",
   "execution_count": 5,
   "metadata": {},
   "outputs": [
    {
     "name": "stdout",
     "output_type": "stream",
     "text": [
      "The autoreload extension is already loaded. To reload it, use:\n",
      "  %reload_ext autoreload\n"
     ]
    }
   ],
   "source": [
    "%load_ext autoreload\n",
    "%autoreload 2\n",
    "from make_list import *\n",
    "from planeteOutput import *\n",
    "import matplotlib.pyplot as plt"
   ]
  },
  {
   "cell_type": "code",
   "execution_count": 6,
   "metadata": {
    "scrolled": true
   },
   "outputs": [
    {
     "name": "stdout",
     "output_type": "stream",
     "text": [
      "SIM1515\n",
      "SIM6010\n",
      "SIM8511\n",
      "SIM9792\n",
      "SIM9845\n"
     ]
    }
   ],
   "source": [
    "# load an example population\n",
    "popfile = '/home/schlecker/phd/planete/outputs/bernNov17/popu/popu.hdf5'\n",
    "j35file = '/home/schlecker/phd/planete/outputs/J35/pop04f_J35.hd5'\n",
    "pop = read_popHdf5(j35file, hierarchical=False, nSample=5)"
   ]
  },
  {
   "cell_type": "code",
   "execution_count": 31,
   "metadata": {},
   "outputs": [
    {
     "name": "stdout",
     "output_type": "stream",
     "text": [
      "Reading files: /home/schlecker/phd/planete/outputs/singleruns/01Trappist1//tracks*.outputdat\n",
      "Reading planet001...\n",
      "Reading planet002...\n",
      "Reading planet003...\n",
      "Reading planet004...\n",
      "Reading planet005...\n",
      "Reading planet006...\n",
      "Reading planet007...\n",
      "Reading planet008...\n",
      "Reading planet009...\n",
      "Reading planet010...\n",
      "Reading planet011...\n",
      "Reading planet012...\n",
      "Reading planet013...\n",
      "Reading planet014...\n",
      "Reading planet015...\n",
      "Reading planet016...\n",
      "Reading planet017...\n",
      "Reading planet018...\n",
      "Reading planet019...\n",
      "Reading planet020...\n",
      "Reading planet021...\n",
      "Reading planet022...\n",
      "Reading planet023...\n",
      "Reading planet024...\n",
      "Reading planet025...\n",
      "Reading planet026...\n",
      "Reading planet027...\n",
      "Reading planet028...\n",
      "Reading planet029...\n",
      "Reading planet030...\n",
      "Reading planet031...\n",
      "Reading planet032...\n",
      "Reading planet033...\n",
      "Reading planet034...\n",
      "Reading planet035...\n",
      "Reading planet036...\n",
      "Reading planet037...\n",
      "Reading planet038...\n",
      "Reading planet039...\n",
      "Reading planet040...\n",
      "Reading planet041...\n",
      "Reading planet042...\n",
      "Reading planet043...\n",
      "Reading planet044...\n",
      "Reading planet045...\n",
      "Reading planet046...\n",
      "Reading planet047...\n",
      "Reading planet048...\n",
      "Reading planet049...\n",
      "Reading planet050...\n",
      "Reading planet051...\n",
      "Reading planet052...\n",
      "Reading planet053...\n",
      "Reading planet054...\n",
      "Reading planet055...\n",
      "Reading planet056...\n",
      "Reading planet057...\n",
      "Reading planet058...\n",
      "Reading planet059...\n",
      "Reading planet060...\n",
      "Reading planet061...\n",
      "Reading planet062...\n",
      "Reading planet063...\n",
      "Reading planet064...\n",
      "Reading planet065...\n",
      "Reading planet066...\n",
      "Reading planet067...\n",
      "Reading planet068...\n",
      "Reading planet069...\n"
     ]
    }
   ],
   "source": [
    "T1simFile = '/home/schlecker/phd/planete/outputs/singleruns/01Trappist1/'\n",
    "T1sim = read_simFromFolder(T1simFile)"
   ]
  },
  {
   "cell_type": "code",
   "execution_count": 36,
   "metadata": {
    "collapsed": true
   },
   "outputs": [],
   "source": [
    "def plot_planetTracks(simulation):\n",
    "\n",
    "    # dirty hack to get round line caps\n",
    "    from matplotlib.backend_bases import GraphicsContextBase, RendererBase\n",
    "    class GC(GraphicsContextBase):\n",
    "        def __init__(self):\n",
    "            super().__init__()\n",
    "            self._capstyle = 'round'\n",
    "\n",
    "    def custom_new_gc(self):\n",
    "        return GC()\n",
    "    RendererBase.new_gc = types.MethodType(custom_new_gc, RendererBase)\n",
    "    \n",
    "    \n",
    "    from matplotlib.collections import LineCollection\n",
    "    fig, ax = plt.subplots()\n",
    "\n",
    "    for df in simulation:\n",
    "        planet = simulation[df]\n",
    "        \n",
    "        # exclude planets that never grew\n",
    "        if max(planet['m']) < 50.0:\n",
    "            print('exclude {}: too small'.format(planet.name))\n",
    "            continue\n",
    "        \n",
    "        t = planet['t'][::10]\n",
    "        a = planet['a'][::10]\n",
    "        m = planet['m'][::10]\n",
    "        r = planet['r'][::10]\n",
    "        \n",
    "        # linearly transform widths into different range\n",
    "        rRange = (min(r), max(r))\n",
    "        lwRange = (0., 5.)\n",
    "        lw = (r - rRange[0])/(rRange[1] - rRange[0])*(lwRange[1] - lwRange[0]) + lwRange[0] \n",
    "        \n",
    "        # create a set of line segments\n",
    "        points = np.array([t, a]).T.reshape(-1, 1, 2)\n",
    "        segments = np.concatenate([points[:-1], points[1:]], axis=1)\n",
    "        lc = LineCollection(segments, linewidths=lw, cmap='inferno_r', norm=plt.Normalize(min(m), max(m)))\n",
    "        lc.set_array(m)\n",
    "        ax.add_collection(lc)\n",
    "    \n",
    "    # add a colorbar\n",
    "    cbar = plt.colorbar(segments)\n",
    "    cbar.set_label('Planet Mass [$\\mathrm{M_{Earth}}$]')\n",
    "    \n",
    "    ax.set_xscale('log')\n",
    "    return fig, ax"
   ]
  },
  {
   "cell_type": "code",
   "execution_count": 37,
   "metadata": {},
   "outputs": [
    {
     "name": "stdout",
     "output_type": "stream",
     "text": [
      "exclude planet001: too small\n",
      "exclude planet002: too small\n",
      "exclude planet003: too small\n",
      "exclude planet004: too small\n",
      "exclude planet005: too small\n",
      "exclude planet006: too small\n",
      "exclude planet007: too small\n",
      "exclude planet008: too small\n",
      "exclude planet009: too small\n",
      "exclude planet010: too small\n",
      "exclude planet011: too small\n",
      "exclude planet012: too small\n",
      "exclude planet013: too small\n",
      "exclude planet014: too small\n",
      "exclude planet015: too small\n",
      "exclude planet016: too small\n",
      "exclude planet017: too small\n",
      "exclude planet018: too small\n",
      "exclude planet019: too small\n",
      "exclude planet020: too small\n",
      "exclude planet021: too small\n",
      "exclude planet022: too small\n",
      "exclude planet023: too small\n",
      "exclude planet024: too small\n",
      "exclude planet025: too small\n",
      "exclude planet026: too small\n",
      "exclude planet027: too small\n",
      "exclude planet028: too small\n",
      "exclude planet029: too small\n",
      "exclude planet030: too small\n",
      "exclude planet031: too small\n",
      "exclude planet032: too small\n",
      "exclude planet033: too small\n",
      "exclude planet034: too small\n",
      "exclude planet035: too small\n",
      "exclude planet036: too small\n",
      "exclude planet037: too small\n",
      "exclude planet038: too small\n",
      "exclude planet039: too small\n",
      "exclude planet040: too small\n",
      "exclude planet041: too small\n",
      "exclude planet042: too small\n",
      "exclude planet043: too small\n",
      "exclude planet044: too small\n",
      "exclude planet045: too small\n",
      "exclude planet046: too small\n",
      "exclude planet047: too small\n",
      "exclude planet048: too small\n",
      "exclude planet049: too small\n",
      "exclude planet050: too small\n",
      "exclude planet051: too small\n",
      "exclude planet052: too small\n",
      "exclude planet053: too small\n",
      "exclude planet054: too small\n",
      "exclude planet055: too small\n",
      "exclude planet056: too small\n",
      "exclude planet057: too small\n",
      "exclude planet058: too small\n",
      "exclude planet059: too small\n",
      "exclude planet060: too small\n",
      "exclude planet061: too small\n",
      "exclude planet062: too small\n",
      "exclude planet063: too small\n",
      "exclude planet064: too small\n",
      "exclude planet065: too small\n",
      "exclude planet066: too small\n",
      "exclude planet067: too small\n",
      "exclude planet068: too small\n",
      "exclude planet069: too small\n"
     ]
    },
    {
     "ename": "UnboundLocalError",
     "evalue": "local variable 'segments' referenced before assignment",
     "output_type": "error",
     "traceback": [
      "\u001b[0;31m---------------------------------------------------------------------------\u001b[0m",
      "\u001b[0;31mUnboundLocalError\u001b[0m                         Traceback (most recent call last)",
      "\u001b[0;32m<ipython-input-37-f7aa006dc510>\u001b[0m in \u001b[0;36m<module>\u001b[0;34m()\u001b[0m\n\u001b[0;32m----> 1\u001b[0;31m \u001b[0mfig\u001b[0m\u001b[0;34m,\u001b[0m \u001b[0max\u001b[0m \u001b[0;34m=\u001b[0m \u001b[0mplot_planetTracks\u001b[0m\u001b[0;34m(\u001b[0m\u001b[0mT1sim\u001b[0m\u001b[0;34m)\u001b[0m\u001b[0;34m\u001b[0m\u001b[0m\n\u001b[0m\u001b[1;32m      2\u001b[0m \u001b[0mfig\u001b[0m\u001b[0;34m.\u001b[0m\u001b[0msavefig\u001b[0m\u001b[0;34m(\u001b[0m\u001b[0;34m'/home/schlecker/Desktop/T1.svg'\u001b[0m\u001b[0;34m,\u001b[0m \u001b[0mrasterized\u001b[0m\u001b[0;34m=\u001b[0m\u001b[0;32mTrue\u001b[0m\u001b[0;34m)\u001b[0m\u001b[0;34m\u001b[0m\u001b[0m\n",
      "\u001b[0;32m<ipython-input-36-38c8bd1ecbd1>\u001b[0m in \u001b[0;36mplot_planetTracks\u001b[0;34m(simulation)\u001b[0m\n\u001b[1;32m     42\u001b[0m \u001b[0;34m\u001b[0m\u001b[0m\n\u001b[1;32m     43\u001b[0m     \u001b[0;31m# add a colorbar\u001b[0m\u001b[0;34m\u001b[0m\u001b[0;34m\u001b[0m\u001b[0m\n\u001b[0;32m---> 44\u001b[0;31m     \u001b[0mcbar\u001b[0m \u001b[0;34m=\u001b[0m \u001b[0mplt\u001b[0m\u001b[0;34m.\u001b[0m\u001b[0mcolorbar\u001b[0m\u001b[0;34m(\u001b[0m\u001b[0msegments\u001b[0m\u001b[0;34m)\u001b[0m\u001b[0;34m\u001b[0m\u001b[0m\n\u001b[0m\u001b[1;32m     45\u001b[0m     \u001b[0mcbar\u001b[0m\u001b[0;34m.\u001b[0m\u001b[0mset_label\u001b[0m\u001b[0;34m(\u001b[0m\u001b[0;34m'Planet Mass [$\\mathrm{M_{Earth}}$]'\u001b[0m\u001b[0;34m)\u001b[0m\u001b[0;34m\u001b[0m\u001b[0m\n\u001b[1;32m     46\u001b[0m \u001b[0;34m\u001b[0m\u001b[0m\n",
      "\u001b[0;31mUnboundLocalError\u001b[0m: local variable 'segments' referenced before assignment"
     ]
    }
   ],
   "source": [
    "fig, ax = plot_planetTracks(T1sim)\n",
    "fig.savefig('/home/schlecker/Desktop/T1.svg', rasterized=True)"
   ]
  },
  {
   "cell_type": "code",
   "execution_count": 58,
   "metadata": {},
   "outputs": [
    {
     "data": {
      "image/png": "[encoded data removed]",
      "text/plain": [
       "<matplotlib.figure.Figure at 0x7f6ac5a33ac8>"
      ]
     },
     "metadata": {},
     "output_type": "display_data"
    },
    {
     "data": {
      "image/png": "[encoded data removed]",
      "text/plain": [
       "<matplotlib.figure.Figure at 0x7f6ac5c8ae10>"
      ]
     },
     "metadata": {},
     "output_type": "display_data"
    }
   ],
   "source": [
    "import numpy as np\n",
    "import matplotlib.pyplot as plt\n",
    "from matplotlib.collections import LineCollection\n",
    "from matplotlib.colors import ListedColormap, BoundaryNorm\n",
    "\n",
    "x = np.linspace(0, 3 * np.pi, 500)\n",
    "y = np.sin(x)\n",
    "z = np.cos(0.5 * (x[:-1] + x[1:]))  # first derivative\n",
    "\n",
    "# Create a colormap for red, green and blue and a norm to color\n",
    "# f' < -0.5 red, f' > 0.5 blue, and the rest green\n",
    "cmap = ListedColormap(['r', 'g', 'b'])\n",
    "norm = BoundaryNorm([-1, -0.5, 0.5, 1], cmap.N)\n",
    "\n",
    "# Create a set of line segments so that we can color them individually\n",
    "# This creates the points as a N x 1 x 2 array so that we can stack points\n",
    "# together easily to get the segments. The segments array for line collection\n",
    "# needs to be numlines x points per line x 2 (x and y)\n",
    "points = np.array([x, y]).T.reshape(-1, 1, 2)\n",
    "segments = np.concatenate([points[:-1], points[1:]], axis=1)\n",
    "\n",
    "# Create the line collection object, setting the colormapping parameters.\n",
    "# Have to set the actual values used for colormapping separately.\n",
    "lc = LineCollection(segments, cmap=cmap, norm=norm)\n",
    "lc.set_array(z)\n",
    "lc.set_linewidth(3)\n",
    "\n",
    "fig1 = plt.figure()\n",
    "plt.gca().add_collection(lc)\n",
    "plt.xlim(x.min(), x.max())\n",
    "plt.ylim(-1.1, 1.1)\n",
    "\n",
    "# Now do a second plot coloring the curve using a continuous colormap\n",
    "t = np.linspace(0, 10, 200)\n",
    "x = np.cos(np.pi * t)\n",
    "y = np.sin(t)\n",
    "points = np.array([x, y]).T.reshape(-1, 1, 2)\n",
    "segments = np.concatenate([points[:-1], points[1:]], axis=1)\n",
    "\n",
    "lc = LineCollection(segments, cmap=plt.get_cmap('viridis'),\n",
    "                    norm=plt.Normalize(0, 10))\n",
    "lc.set_array(t)\n",
    "lc.set_linewidth(3)\n",
    "\n",
    "fig2 = plt.figure()\n",
    "plt.gca().add_collection(lc)\n",
    "plt.xlim(-1, 1)\n",
    "plt.ylim(-1, 1)\n",
    "plt.show()"
   ]
  },
  {
   "cell_type": "code",
   "execution_count": null,
   "metadata": {
    "collapsed": true
   },
   "outputs": [],
   "source": []
  }
 ],
 "metadata": {
  "kernelspec": {
   "display_name": "Python 3",
   "language": "python",
   "name": "python3"
  },
  "language_info": {
   "codemirror_mode": {
    "name": "ipython",
    "version": 3
   },
   "file_extension": ".py",
   "mimetype": "text/x-python",
   "name": "python",
   "nbconvert_exporter": "python",
   "pygments_lexer": "ipython3",
   "version": "3.6.3"
  }
 },
 "nbformat": 4,
 "nbformat_minor": 2
}
