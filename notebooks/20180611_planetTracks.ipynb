{
 "cells": [
  {
   "cell_type": "code",
   "execution_count": 4,
   "metadata": {},
   "outputs": [
    {
     "name": "stdout",
     "output_type": "stream",
     "text": [
      "/home/schlecker/repos/planeteScripts\n"
     ]
    }
   ],
   "source": [
    "cd '/home/schlecker/repos/planeteScripts'"
   ]
  },
  {
   "cell_type": "code",
   "execution_count": 5,
   "metadata": {},
   "outputs": [
    {
     "name": "stdout",
     "output_type": "stream",
     "text": [
      "The autoreload extension is already loaded. To reload it, use:\n",
      "  %reload_ext autoreload\n"
     ]
    }
   ],
   "source": [
    "%load_ext autoreload\n",
    "%autoreload 2\n",
    "from make_list import *\n",
    "from planeteOutput import *\n",
    "import matplotlib.pyplot as plt"
   ]
  },
  {
   "cell_type": "code",
   "execution_count": 182,
   "metadata": {},
   "outputs": [],
   "source": [
    "import seaborn as sns\n",
    "\n",
    "##### Settings for papers/theses:\n",
    "# Set plot style\n",
    "sns.set(context='notebook', style='ticks', font_scale=1.3, palette='pastel',\\\n",
    "    rc={\n",
    "'text.usetex':True,\n",
    "'text.latex.unicode':True,\n",
    "'font.family' : 'sans-serif',\n",
    "#'font.serif':'Computer Modern',\n",
    "'font.style'         : 'normal',\n",
    "'font.variant'        : 'normal',\n",
    "'font.weight'         : 'normal',\n",
    "'font.stretch'        : 'normal',\n",
    "'savefig.dpi'         : 400,\n",
    "'lines.linewidth'     : 1.0,  \n",
    "'figure.subplot.left'    : 0.14,    # the left side of the subplots of the figure\n",
    "'figure.subplot.right'   : 0.96,   # the right side of the subplots of the figure\n",
    "'figure.subplot.bottom'  : 0.13,   # the bottom of the subplots of the figure\n",
    "'figure.subplot.top'     : 0.96,    # the top of the subplots of the figure\n",
    "'figure.subplot.hspace'  : 0.0,    # height reserved for space between subplots\n",
    "'axes.xmargin' : 0.02,             # default margin for autoscale\n",
    "'axes.ymargin' : 0.02,\n",
    "'legend.handletextpad' : 0.5,\n",
    "'legend.handlelength' : 0.75,\n",
    "'xtick.minor.size'     : 2.,\n",
    "'ytick.minor.size'     : 2.\n",
    "})\n"
   ]
  },
  {
   "cell_type": "code",
   "execution_count": 6,
   "metadata": {
    "scrolled": true
   },
   "outputs": [
    {
     "name": "stdout",
     "output_type": "stream",
     "text": [
      "SIM1515\n",
      "SIM6010\n",
      "SIM8511\n",
      "SIM9792\n",
      "SIM9845\n"
     ]
    }
   ],
   "source": [
    "# load an example population\n",
    "popfile = '/home/schlecker/phd/planete/outputs/bernNov17/popu/popu.hdf5'\n",
    "j35file = '/home/schlecker/phd/planete/outputs/J35/pop04f_J35.hd5'\n",
    "pop = read_popHdf5(j35file, hierarchical=False, nSample=5)"
   ]
  },
  {
   "cell_type": "code",
   "execution_count": 31,
   "metadata": {},
   "outputs": [
    {
     "name": "stdout",
     "output_type": "stream",
     "text": [
      "Reading files: /home/schlecker/phd/planete/outputs/singleruns/01Trappist1//tracks*.outputdat\n",
      "Reading planet001...\n",
      "Reading planet002...\n",
      "Reading planet003...\n",
      "Reading planet004...\n",
      "Reading planet005...\n",
      "Reading planet006...\n",
      "Reading planet007...\n",
      "Reading planet008...\n",
      "Reading planet009...\n",
      "Reading planet010...\n",
      "Reading planet011...\n",
      "Reading planet012...\n",
      "Reading planet013...\n",
      "Reading planet014...\n",
      "Reading planet015...\n",
      "Reading planet016...\n",
      "Reading planet017...\n",
      "Reading planet018...\n",
      "Reading planet019...\n",
      "Reading planet020...\n",
      "Reading planet021...\n",
      "Reading planet022...\n",
      "Reading planet023...\n",
      "Reading planet024...\n",
      "Reading planet025...\n",
      "Reading planet026...\n",
      "Reading planet027...\n",
      "Reading planet028...\n",
      "Reading planet029...\n",
      "Reading planet030...\n",
      "Reading planet031...\n",
      "Reading planet032...\n",
      "Reading planet033...\n",
      "Reading planet034...\n",
      "Reading planet035...\n",
      "Reading planet036...\n",
      "Reading planet037...\n",
      "Reading planet038...\n",
      "Reading planet039...\n",
      "Reading planet040...\n",
      "Reading planet041...\n",
      "Reading planet042...\n",
      "Reading planet043...\n",
      "Reading planet044...\n",
      "Reading planet045...\n",
      "Reading planet046...\n",
      "Reading planet047...\n",
      "Reading planet048...\n",
      "Reading planet049...\n",
      "Reading planet050...\n",
      "Reading planet051...\n",
      "Reading planet052...\n",
      "Reading planet053...\n",
      "Reading planet054...\n",
      "Reading planet055...\n",
      "Reading planet056...\n",
      "Reading planet057...\n",
      "Reading planet058...\n",
      "Reading planet059...\n",
      "Reading planet060...\n",
      "Reading planet061...\n",
      "Reading planet062...\n",
      "Reading planet063...\n",
      "Reading planet064...\n",
      "Reading planet065...\n",
      "Reading planet066...\n",
      "Reading planet067...\n",
      "Reading planet068...\n",
      "Reading planet069...\n"
     ]
    }
   ],
   "source": [
    "T1simFile = '/home/schlecker/phd/planete/outputs/singleruns/01Trappist1/'\n",
    "T1sim = read_simFromFolder(T1simFile)"
   ]
  },
  {
   "cell_type": "code",
   "execution_count": 82,
   "metadata": {},
   "outputs": [
    {
     "data": {
      "text/plain": [
       "39920    False\n",
       "Name: status, dtype: bool"
      ]
     },
     "execution_count": 82,
     "metadata": {},
     "output_type": "execute_result"
    }
   ],
   "source": [
    "T1sim['planet013'].status.tail(1) == -1"
   ]
  },
  {
   "cell_type": "code",
   "execution_count": 87,
   "metadata": {
    "collapsed": true
   },
   "outputs": [],
   "source": [
    "pd.DataFrame?"
   ]
  },
  {
   "cell_type": "code",
   "execution_count": 138,
   "metadata": {
    "collapsed": true
   },
   "outputs": [],
   "source": [
    "def get_Trappist1data():\n",
    "    \"\"\"\n",
    "    Masses, semimajor axes, and radii are from Grimm et al. 2018\n",
    "    \"\"\"\n",
    "    T1data = {'name': ['b', 'c', 'd', 'e', 'f', 'g', 'h'], \n",
    "              'a': [0.01155, 0.01582, 0.02228, 0.02928, 0.03853, 0.04688, 0.06193],\n",
    "             'r': [1.12, 1.10, .766, .913, 1.05, 1.15, .775],\n",
    "             'm': [1.017,1.156,0.297, 0.772,0.934,1.148,0.331]}\n",
    "    return pd.DataFrame(T1data, index=T1data['name'])\n",
    "\n",
    "\n",
    "def plot_planetTracks(simulation, truths=None, lwRange = (2., 40.)):\n",
    "    import matplotlib.colors as colors\n",
    "    from matplotlib.backend_bases import GraphicsContextBase, RendererBase\n",
    " \n",
    "    # dirty hack to get round line caps\n",
    "    class GC(GraphicsContextBase):\n",
    "        def __init__(self):\n",
    "            super().__init__()\n",
    "            self._capstyle = 'round'\n",
    "\n",
    "    def custom_new_gc(self):\n",
    "        return GC()\n",
    "    RendererBase.new_gc = types.MethodType(custom_new_gc, RendererBase)\n",
    "    \n",
    "    \n",
    "    from matplotlib.collections import LineCollection\n",
    "    fig, ax = plt.subplots()\n",
    "\n",
    "    # find max planet mass for color code, radius range for line width\n",
    "    maxM = max([max(simulation[df]['m']) for df in simulation])\n",
    "    print(maxM)\n",
    "    colorNorm = colors.LogNorm(0.01, maxM)\n",
    "    rRange = (min([min(simulation[df]['r']) for df in simulation]),\n",
    "              max([max(simulation[df]['r']) for df in simulation]))\n",
    "    \n",
    "    def radius2linewidth(r):\n",
    "        return (r - rRange[0])/(rRange[1] - rRange[0])*(lwRange[1] - lwRange[0]) + lwRange[0] \n",
    "    \n",
    "    for df in simulation:\n",
    "        planet = simulation[df]\n",
    "        \n",
    "        # exclude planets that never grew\n",
    "        if max(planet['m']) < .2:\n",
    "            print('exclude {}: too small'.format(planet.name))\n",
    "            continue\n",
    "        \n",
    "        # restrict data to times with planet status = 0\n",
    "        planet = planet[planet['status'] == 0]\n",
    "        \n",
    "        t = planet['t'][::10]\n",
    "        a = planet['a'][::10]\n",
    "        m = planet['m'][::10]\n",
    "        r = planet['r'][::10]\n",
    "        \n",
    "        # linearly transform line widths into radius range\n",
    "        lw = radius2linewidth(r)\n",
    "        \n",
    "        # create a set of line segments\n",
    "        points = np.array([t, a]).T.reshape(-1, 1, 2)\n",
    "        segments = np.concatenate([points[:-1], points[1:]], axis=1)\n",
    "        lc = LineCollection(segments, linewidths=lw, cmap='inferno_r', norm=colorNorm)\n",
    "        lc.set_array(m)\n",
    "        ax.add_collection(lc)\n",
    "    \n",
    "    if not truths is None:\n",
    "        ax.scatter([max(t) + 1e6 for i in range(len(truths))], truths['a'], s=radius2linewidth(truths['r']), \n",
    "                   c=truths['m'], cmap='inferno_r', norm=colorNorm)\n",
    "        \n",
    "    # add a colorbar\n",
    "    cbar = fig.colorbar(lc)\n",
    "    cbar.set_label('Planet Mass [$\\mathrm{M_{Earth}}$]')\n",
    "    \n",
    "    ax.set_xscale('log')\n",
    "    ax.set_yscale('log')\n",
    "    ax.set_xlabel('Time [yr]')\n",
    "    ax.set_ylabel('Semimajor Axis [au]')\n",
    "\n",
    "    return fig, ax"
   ]
  },
  {
   "cell_type": "code",
   "execution_count": 160,
   "metadata": {},
   "outputs": [
    {
     "name": "stdout",
     "output_type": "stream",
     "text": [
      "3.0695888\n",
      "exclude planet001: too small\n",
      "exclude planet002: too small\n",
      "exclude planet003: too small\n",
      "exclude planet004: too small\n",
      "exclude planet005: too small\n",
      "exclude planet007: too small\n",
      "exclude planet008: too small\n",
      "exclude planet009: too small\n",
      "exclude planet010: too small\n",
      "exclude planet011: too small\n",
      "exclude planet012: too small\n",
      "exclude planet013: too small\n",
      "exclude planet014: too small\n",
      "exclude planet015: too small\n",
      "exclude planet016: too small\n",
      "exclude planet017: too small\n",
      "exclude planet018: too small\n",
      "exclude planet019: too small\n",
      "exclude planet020: too small\n",
      "exclude planet021: too small\n",
      "exclude planet022: too small\n",
      "exclude planet023: too small\n",
      "exclude planet025: too small\n",
      "exclude planet026: too small\n",
      "exclude planet027: too small\n",
      "exclude planet028: too small\n",
      "exclude planet029: too small\n",
      "exclude planet030: too small\n",
      "exclude planet031: too small\n",
      "exclude planet032: too small\n",
      "exclude planet033: too small\n",
      "exclude planet035: too small\n",
      "exclude planet036: too small\n",
      "exclude planet037: too small\n",
      "exclude planet038: too small\n",
      "exclude planet039: too small\n",
      "exclude planet040: too small\n",
      "exclude planet041: too small\n",
      "exclude planet042: too small\n",
      "exclude planet043: too small\n",
      "exclude planet045: too small\n",
      "exclude planet047: too small\n",
      "exclude planet048: too small\n",
      "exclude planet049: too small\n",
      "exclude planet050: too small\n",
      "exclude planet052: too small\n",
      "exclude planet053: too small\n",
      "exclude planet065: too small\n",
      "exclude planet066: too small\n",
      "exclude planet067: too small\n",
      "exclude planet068: too small\n",
      "exclude planet069: too small\n"
     ]
    }
   ],
   "source": [
    "truths = get_Trappist1data()\n",
    "fig, ax = plot_planetTracks(T1sim, truths)\n",
    "# fig.savefig('/home/schlecker/Desktop/T1.svg', rasterized=True)"
   ]
  },
  {
   "cell_type": "code",
   "execution_count": 185,
   "metadata": {},
   "outputs": [
    {
     "data": {
      "text/plain": [
       "<matplotlib.collections.PathCollection at 0x7f5238d49198>"
      ]
     },
     "execution_count": 185,
     "metadata": {},
     "output_type": "execute_result"
    }
   ],
   "source": [
    "# ax.scatter([7e6 for i in range(len(truths))], truths['a'])\n",
    "plt.scatter([x*9e5 for x in range(8)], [x*.4 for x in range(8)], s=40, edgecolors='white', linewidth=1.5, zorder=10)\n",
    "# plt.scatter([x*8e5 for x in range(8)], [x*.5 for x in range(8)], s=40, zorder=10)"
   ]
  },
  {
   "cell_type": "code",
   "execution_count": null,
   "metadata": {
    "collapsed": true
   },
   "outputs": [],
   "source": []
  }
 ],
 "metadata": {
  "kernelspec": {
   "display_name": "Python 3",
   "language": "python",
   "name": "python3"
  },
  "language_info": {
   "codemirror_mode": {
    "name": "ipython",
    "version": 3
   },
   "file_extension": ".py",
   "mimetype": "text/x-python",
   "name": "python",
   "nbconvert_exporter": "python",
   "pygments_lexer": "ipython3",
   "version": "3.6.3"
  }
 },
 "nbformat": 4,
 "nbformat_minor": 2
}
