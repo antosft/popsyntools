{
 "cells": [
  {
   "cell_type": "code",
   "execution_count": 1,
   "metadata": {},
   "outputs": [
    {
     "name": "stdout",
     "output_type": "stream",
     "text": [
      "/home/schlecker/repos/planeteScripts\n"
     ]
    }
   ],
   "source": [
    "cd '/home/schlecker/repos/planeteScripts'"
   ]
  },
  {
   "cell_type": "code",
   "execution_count": 10,
   "metadata": {},
   "outputs": [
    {
     "name": "stdout",
     "output_type": "stream",
     "text": [
      "The autoreload extension is already loaded. To reload it, use:\n",
      "  %reload_ext autoreload\n"
     ]
    }
   ],
   "source": [
    "%load_ext autoreload\n",
    "%autoreload 2\n",
    "from make_list import *\n",
    "from output import *\n",
    "import matplotlib.pyplot as plt"
   ]
  },
  {
   "cell_type": "code",
   "execution_count": 3,
   "metadata": {
    "collapsed": true
   },
   "outputs": [],
   "source": [
    "from plots import *\n",
    "import utils"
   ]
  },
  {
   "cell_type": "code",
   "execution_count": null,
   "metadata": {
    "collapsed": true,
    "scrolled": true
   },
   "outputs": [],
   "source": [
    "# load an example population\n",
    "popfile = '/home/schlecker/phd/planete/outputs/bernNov17/popu/popu.hdf5'\n",
    "j35file = '/home/schlecker/phd/planete/outputs/J35/pop04f_J35.hd5'\n",
    "pop = read_popHdf5(j35file, hierarchical=False, nSample=5)"
   ]
  },
  {
   "cell_type": "code",
   "execution_count": 4,
   "metadata": {},
   "outputs": [
    {
     "name": "stdout",
     "output_type": "stream",
     "text": [
      "Reading files: /home/schlecker/phd/planete/outputs/singleruns/01Trappist1//tracks*.outputdat\n",
      "Reading planet001...\n",
      "Reading planet002...\n",
      "Reading planet003...\n",
      "Reading planet004...\n",
      "Reading planet005...\n",
      "Reading planet006...\n",
      "Reading planet007...\n",
      "Reading planet008...\n",
      "Reading planet009...\n",
      "Reading planet010...\n",
      "Reading planet011...\n",
      "Reading planet012...\n",
      "Reading planet013...\n",
      "Reading planet014...\n",
      "Reading planet015...\n",
      "Reading planet016...\n",
      "Reading planet017...\n",
      "Reading planet018...\n",
      "Reading planet019...\n",
      "Reading planet020...\n",
      "Reading planet021...\n",
      "Reading planet022...\n",
      "Reading planet023...\n",
      "Reading planet024...\n",
      "Reading planet025...\n",
      "Reading planet026...\n",
      "Reading planet027...\n",
      "Reading planet028...\n",
      "Reading planet029...\n",
      "Reading planet030...\n",
      "Reading planet031...\n",
      "Reading planet032...\n",
      "Reading planet033...\n",
      "Reading planet034...\n",
      "Reading planet035...\n",
      "Reading planet036...\n",
      "Reading planet037...\n",
      "Reading planet038...\n",
      "Reading planet039...\n",
      "Reading planet040...\n",
      "Reading planet041...\n",
      "Reading planet042...\n",
      "Reading planet043...\n",
      "Reading planet044...\n",
      "Reading planet045...\n",
      "Reading planet046...\n",
      "Reading planet047...\n",
      "Reading planet048...\n",
      "Reading planet049...\n",
      "Reading planet050...\n",
      "Reading planet051...\n",
      "Reading planet052...\n",
      "Reading planet053...\n",
      "Reading planet054...\n",
      "Reading planet055...\n",
      "Reading planet056...\n",
      "Reading planet057...\n",
      "Reading planet058...\n",
      "Reading planet059...\n",
      "Reading planet060...\n",
      "Reading planet061...\n",
      "Reading planet062...\n",
      "Reading planet063...\n",
      "Reading planet064...\n",
      "Reading planet065...\n",
      "Reading planet066...\n",
      "Reading planet067...\n",
      "Reading planet068...\n",
      "Reading planet069...\n"
     ]
    }
   ],
   "source": [
    "# load single simulation with 70 embryos\n",
    "T1simFile = '/home/schlecker/phd/planete/outputs/singleruns/01Trappist1/'\n",
    "T1sim = read_simFromFolder(T1simFile)"
   ]
  },
  {
   "cell_type": "code",
   "execution_count": 7,
   "metadata": {},
   "outputs": [
    {
     "name": "stdout",
     "output_type": "stream",
     "text": [
      "Using matplotlib backend: Qt5Agg\n",
      "Populating the interactive namespace from numpy and matplotlib\n"
     ]
    },
    {
     "name": "stderr",
     "output_type": "stream",
     "text": [
      "/home/schlecker/bin/anaconda3/lib/python3.6/site-packages/IPython/core/magics/pylab.py:160: UserWarning: pylab import has clobbered these variables: ['grid']\n",
      "`%matplotlib` prevents importing * from pylab and numpy\n",
      "  \"\\n`%matplotlib` prevents importing * from pylab and numpy\"\n"
     ]
    }
   ],
   "source": [
    "%pylab"
   ]
  },
  {
   "cell_type": "code",
   "execution_count": 11,
   "metadata": {},
   "outputs": [
    {
     "name": "stdout",
     "output_type": "stream",
     "text": [
      "3.0695888\n",
      "exclude planet001: too small\n",
      "exclude planet002: too small\n",
      "exclude planet003: too small\n",
      "exclude planet004: too small\n",
      "exclude planet005: too small\n",
      "exclude planet007: too small\n",
      "exclude planet008: too small\n",
      "exclude planet009: too small\n",
      "exclude planet010: too small\n",
      "exclude planet011: too small\n",
      "exclude planet012: too small\n",
      "exclude planet013: too small\n",
      "exclude planet014: too small\n",
      "exclude planet015: too small\n",
      "exclude planet016: too small\n",
      "exclude planet017: too small\n",
      "exclude planet018: too small\n",
      "exclude planet019: too small\n",
      "exclude planet020: too small\n",
      "exclude planet021: too small\n",
      "exclude planet022: too small\n",
      "exclude planet023: too small\n",
      "exclude planet025: too small\n",
      "exclude planet026: too small\n",
      "exclude planet027: too small\n",
      "exclude planet028: too small\n",
      "exclude planet029: too small\n",
      "exclude planet030: too small\n",
      "exclude planet031: too small\n",
      "exclude planet032: too small\n",
      "exclude planet033: too small\n",
      "exclude planet035: too small\n",
      "exclude planet036: too small\n",
      "exclude planet037: too small\n",
      "exclude planet038: too small\n",
      "exclude planet039: too small\n",
      "exclude planet040: too small\n",
      "exclude planet041: too small\n",
      "exclude planet042: too small\n",
      "exclude planet043: too small\n",
      "exclude planet045: too small\n",
      "exclude planet047: too small\n",
      "exclude planet048: too small\n",
      "exclude planet049: too small\n",
      "exclude planet050: too small\n",
      "exclude planet052: too small\n",
      "exclude planet053: too small\n",
      "exclude planet065: too small\n",
      "exclude planet066: too small\n",
      "exclude planet067: too small\n",
      "exclude planet068: too small\n",
      "exclude planet069: too small\n"
     ]
    }
   ],
   "source": [
    "truths = utils.get_Trappist1data()\n",
    "fig, ax = plot_planetTracks(T1sim, truths)"
   ]
  },
  {
   "cell_type": "code",
   "execution_count": 12,
   "metadata": {},
   "outputs": [],
   "source": [
    "fig.savefig('/home/schlecker/phd/planete/outputs/singleruns/01Trappist1/T1tracks_2.jpg', rasterized=True)"
   ]
  },
  {
   "cell_type": "code",
   "execution_count": null,
   "metadata": {
    "collapsed": true
   },
   "outputs": [],
   "source": [
    "# ax.scatter([7e6 for i in range(len(truths))], truths['a'])\n",
    "plt.scatter([x*9e5 for x in range(8)], [x*.4 for x in range(8)], s=40, edgecolors='white', linewidth=1.5, zorder=10)\n",
    "# plt.scatter([x*8e5 for x in range(8)], [x*.5 for x in range(8)], s=40, zorder=10)"
   ]
  },
  {
   "cell_type": "code",
   "execution_count": null,
   "metadata": {
    "collapsed": true
   },
   "outputs": [],
   "source": []
  }
 ],
 "metadata": {
  "kernelspec": {
   "display_name": "Python 3",
   "language": "python",
   "name": "python3"
  },
  "language_info": {
   "codemirror_mode": {
    "name": "ipython",
    "version": 3
   },
   "file_extension": ".py",
   "mimetype": "text/x-python",
   "name": "python",
   "nbconvert_exporter": "python",
   "pygments_lexer": "ipython3",
   "version": "3.6.3"
  }
 },
 "nbformat": 4,
 "nbformat_minor": 2
}
