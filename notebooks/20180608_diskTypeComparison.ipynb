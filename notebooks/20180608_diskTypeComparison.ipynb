{
 "cells": [
  {
   "cell_type": "code",
   "execution_count": 1,
   "metadata": {},
   "outputs": [
    {
     "name": "stdout",
     "output_type": "stream",
     "text": [
      "/home/schlecker/repos/planeteScripts\n"
     ]
    }
   ],
   "source": [
    "cd /home/schlecker/repos/planeteScripts/"
   ]
  },
  {
   "cell_type": "code",
   "execution_count": 50,
   "metadata": {},
   "outputs": [
    {
     "name": "stdout",
     "output_type": "stream",
     "text": [
      "The autoreload extension is already loaded. To reload it, use:\n",
      "  %reload_ext autoreload\n"
     ]
    }
   ],
   "source": [
    "%load_ext autoreload\n",
    "%autoreload 2\n",
    "\n",
    "import matplotlib.pyplot as plt\n",
    "from make_list import *\n",
    "from output import *\n",
    "\n",
    "pd.set_option('display.max_columns', 200)"
   ]
  },
  {
   "cell_type": "code",
   "execution_count": 55,
   "metadata": {
    "collapsed": true
   },
   "outputs": [],
   "source": [
    "disk2file = '/home/schlecker/phd/planete/outputs/pop06_MstarGrid/diskTypeCompare/structure_diskType2.outputdat'\n",
    "disk3file = '/home/schlecker/phd/planete/outputs/pop06_MstarGrid/diskTypeCompare/structure_diskType3.outputdat'\n",
    "\n",
    "disk2 = pd.read_csv(disk2file, delim_whitespace=True, header=None).rename(columns={9:'t', 1:'r', 2:'sigma'})\n",
    "disk3 = pd.read_csv(disk3file, delim_whitespace=True, header=None).rename(columns={9:'t', 1:'r', 2:'sigma'})"
   ]
  },
  {
   "cell_type": "code",
   "execution_count": 4,
   "metadata": {
    "collapsed": true
   },
   "outputs": [],
   "source": [
    "T2 = [t for t in disk2.t.unique()]\n",
    "T3 = [t for t in disk3.t.unique()]"
   ]
  },
  {
   "cell_type": "code",
   "execution_count": 5,
   "metadata": {
    "collapsed": true
   },
   "outputs": [],
   "source": [
    "disk2['sigDiff'] = disk3['sigma'] - disk2['sigma']"
   ]
  },
  {
   "cell_type": "code",
   "execution_count": 6,
   "metadata": {},
   "outputs": [
    {
     "name": "stdout",
     "output_type": "stream",
     "text": [
      "Using matplotlib backend: Qt5Agg\n",
      "Populating the interactive namespace from numpy and matplotlib\n"
     ]
    },
    {
     "name": "stderr",
     "output_type": "stream",
     "text": [
      "/home/schlecker/bin/anaconda3/lib/python3.6/site-packages/IPython/core/magics/pylab.py:160: UserWarning: pylab import has clobbered these variables: ['grid']\n",
      "`%matplotlib` prevents importing * from pylab and numpy\n",
      "  \"\\n`%matplotlib` prevents importing * from pylab and numpy\"\n"
     ]
    }
   ],
   "source": [
    "%pylab\n",
    "from matplotlib import cm"
   ]
  },
  {
   "cell_type": "code",
   "execution_count": 44,
   "metadata": {},
   "outputs": [
    {
     "data": {
      "text/plain": [
       "Text(0,0.5,'$\\\\Delta \\\\Sigma$ [$\\\\mathrm{g}/\\\\mathrm{cm}^2$]')"
      ]
     },
     "execution_count": 44,
     "metadata": {},
     "output_type": "execute_result"
    }
   ],
   "source": [
    "fig, ax = plt.subplots(2, sharex=True)\n",
    "for t2 in T2:\n",
    "    ax[0].plot(disk2[disk2['t'] == t2]['r'], disk2[disk2['t'] == t2]['sigma'], c=cm.Blues(t2/.4/max(T2)), label='{:1.0E}'.format(t2))\n",
    "    ax[0].plot(disk3[disk3['t'] == t2]['r'], disk3[disk3['t'] == t2]['sigma'], c=cm.Greens(t2/.4/max(T2)))\n",
    "ax[0].set_xscale('log')\n",
    "ax[0].set_yscale('log')\n",
    "\n",
    "# plot difference\n",
    "for t2 in T2:\n",
    "    ax[1].plot(disk2[disk2['t'] == t2]['r'], disk2[disk2['t'] == t2]['sigDiff'], c=cm.Reds(t2/.4/max(T2)))\n",
    "\n",
    "ax[1].set_xlabel('r [au]')\n",
    "ax[0].set_ylabel('$\\Sigma$ [$\\mathrm{g}/\\mathrm{cm}^2$]')\n",
    "ax[1].set_ylabel('$\\Delta \\Sigma$ [$\\mathrm{g}/\\mathrm{cm}^2$]')"
   ]
  },
  {
   "cell_type": "code",
   "execution_count": 40,
   "metadata": {},
   "outputs": [
    {
     "data": {
      "text/plain": [
       "<matplotlib.legend.Legend at 0x7f2065130ef0>"
      ]
     },
     "execution_count": 40,
     "metadata": {},
     "output_type": "execute_result"
    }
   ],
   "source": [
    "# custom legend\n",
    "from matplotlib.lines import Line2D\n",
    "custom_lines = [Line2D([0], [0], color=cm.Blues(0.5), lw=2),\n",
    "                Line2D([0], [0], color=cm.Greens(0.5), lw=2),\n",
    "                Line2D([0], [0.5], color=cm.Reds(0.5), lw=2)]\n",
    "ax[0].legend(custom_lines[:2], ['$\\Sigma$ (Type 2)', '$\\Sigma$ (Type 3)'])\n",
    "ax[1].legend(custom_lines[2:], ['$\\Sigma$ (Type 3) - $\\Sigma$ (Type 2)'])"
   ]
  },
  {
   "cell_type": "code",
   "execution_count": 45,
   "metadata": {},
   "outputs": [
    {
     "data": {
      "text/plain": [
       "<matplotlib.legend.Legend at 0x7f2063c9b358>"
      ]
     },
     "execution_count": 45,
     "metadata": {},
     "output_type": "execute_result"
    }
   ],
   "source": [
    "ax[0].legend()"
   ]
  },
  {
   "cell_type": "code",
   "execution_count": 48,
   "metadata": {},
   "outputs": [],
   "source": [
    "from plots import *"
   ]
  },
  {
   "cell_type": "code",
   "execution_count": 58,
   "metadata": {},
   "outputs": [
    {
     "data": {
      "text/plain": [
       "(<matplotlib.figure.Figure at 0x7f20691774e0>,\n",
       " array([<matplotlib.axes._subplots.AxesSubplot object at 0x7f20691ddcc0>,\n",
       "        <matplotlib.axes._subplots.AxesSubplot object at 0x7f206917e6a0>], dtype=object))"
      ]
     },
     "execution_count": 58,
     "metadata": {},
     "output_type": "execute_result"
    }
   ],
   "source": [
    "compare_surfaceDensity(disk2file, disk3file, sim1name='aaaaaaaaa')"
   ]
  },
  {
   "cell_type": "code",
   "execution_count": null,
   "metadata": {
    "collapsed": true
   },
   "outputs": [],
   "source": []
  }
 ],
 "metadata": {
  "kernelspec": {
   "display_name": "Python 3",
   "language": "python",
   "name": "python3"
  },
  "language_info": {
   "codemirror_mode": {
    "name": "ipython",
    "version": 3
   },
   "file_extension": ".py",
   "mimetype": "text/x-python",
   "name": "python",
   "nbconvert_exporter": "python",
   "pygments_lexer": "ipython3",
   "version": "3.6.3"
  }
 },
 "nbformat": 4,
 "nbformat_minor": 2
}
