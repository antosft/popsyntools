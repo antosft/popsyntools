{
 "cells": [
  {
   "cell_type": "code",
   "execution_count": 2,
   "metadata": {},
   "outputs": [
    {
     "name": "stdout",
     "output_type": "stream",
     "text": [
      "/home/schlecker/repos/planeteScripts\n"
     ]
    }
   ],
   "source": [
    "cd /home/schlecker/repos/planeteScripts"
   ]
  },
  {
   "cell_type": "code",
   "execution_count": 3,
   "metadata": {},
   "outputs": [],
   "source": [
    "import planeteOutput\n",
    "from planetePlots import *\n",
    "import stats\n",
    "import utils\n",
    "import numpy as np\n",
    "import matplotlib.pyplot as plt\n",
    "\n",
    "%load_ext autoreload\n",
    "%autoreload 2"
   ]
  },
  {
   "cell_type": "markdown",
   "metadata": {},
   "source": [
    "### read ref_red 5e9yr"
   ]
  },
  {
   "cell_type": "code",
   "execution_count": 4,
   "metadata": {
    "collapsed": true
   },
   "outputs": [],
   "source": [
    "# file = '/home/schlecker/phd/planete/outputs/J39/ref_red5e9.dat'\n",
    "file03M = '/home/schlecker/phd/planete/outputs/pop06_MstarGrid/ref_red5e9_0.3Msol.dat'\n",
    "rr = planeteOutput.read_ref_red(file03M)"
   ]
  },
  {
   "cell_type": "markdown",
   "metadata": {},
   "source": [
    "### some very basic stats"
   ]
  },
  {
   "cell_type": "code",
   "execution_count": 5,
   "metadata": {},
   "outputs": [
    {
     "name": "stdout",
     "output_type": "stream",
     "text": [
      "giant mass Mgiant = 300.0\n",
      "number of planets: 9988\n",
      "number of ejected planets: 0\n",
      "Number of planets more massive than M_Earth: 3536\n",
      "Number of planets more massive than M_Earth and ejected: 0\n",
      "Number of planets more massive than M_giant: 110\n",
      "Number of planets more massive than M_giant and ejected: 0\n"
     ]
    },
    {
     "data": {
      "text/plain": [
       "{'Ngiants': 110,\n",
       " 'Ngiants_ejected': 0,\n",
       " 'NltEarth': 3536,\n",
       " 'NltEarth_ejected': 0,\n",
       " 'Nplanets': 9988,\n",
       " 'Nplanets_ejected': 0}"
      ]
     },
     "execution_count": 5,
     "metadata": {},
     "output_type": "execute_result"
    }
   ],
   "source": [
    "stats.categorize(rr)"
   ]
  },
  {
   "cell_type": "markdown",
   "metadata": {},
   "source": [
    "object-oriented approach\n",
    "=============="
   ]
  },
  {
   "cell_type": "markdown",
   "metadata": {},
   "source": [
    "### initialize population, populate with content of ref_red"
   ]
  },
  {
   "cell_type": "code",
   "execution_count": 6,
   "metadata": {
    "collapsed": true
   },
   "outputs": [],
   "source": [
    "pop = planeteOutput.population()"
   ]
  },
  {
   "cell_type": "code",
   "execution_count": 7,
   "metadata": {
    "collapsed": true
   },
   "outputs": [],
   "source": [
    "pop.readData(file03M)"
   ]
  },
  {
   "cell_type": "code",
   "execution_count": 8,
   "metadata": {},
   "outputs": [
    {
     "data": {
      "text/plain": [
       "{'Nplanets': 1656,\n",
       " 'Nsystems': 1656,\n",
       " 'fractionSystems': 0.1657989587505006,\n",
       " 'meanEccentricity': 0.0,\n",
       " 'meanMetallicity': 0.014832876064528657,\n",
       " 'multiplicity': 1.0,\n",
       " 'occurrence': 0.1657989587505006,\n",
       " 'stdEccentricity': 0.0,\n",
       " 'stdMetallicity': 0.20631009524813482}"
      ]
     },
     "execution_count": 8,
     "metadata": {},
     "output_type": "execute_result"
    }
   ],
   "source": [
    "# as a check: show Super Earths\n",
    "popSE = stats.filterPlanets(pop.data, 'SuperEarth')\n",
    "stats.get_typeStats(pop.data, popSE)"
   ]
  },
  {
   "cell_type": "code",
   "execution_count": 9,
   "metadata": {},
   "outputs": [
    {
     "data": {
      "text/plain": [
       "count    9988.000000\n",
       "mean       13.647614\n",
       "std       109.209462\n",
       "min         0.012296\n",
       "25%         0.038858\n",
       "50%         0.257534\n",
       "75%         2.666205\n",
       "max      2774.850000\n",
       "Name: m, dtype: float64"
      ]
     },
     "execution_count": 9,
     "metadata": {},
     "output_type": "execute_result"
    }
   ],
   "source": [
    "pop.data.m.describe()"
   ]
  },
  {
   "cell_type": "code",
   "execution_count": 10,
   "metadata": {
    "collapsed": true
   },
   "outputs": [],
   "source": [
    "pop.get_typeStats()"
   ]
  },
  {
   "cell_type": "code",
   "execution_count": 11,
   "metadata": {
    "collapsed": true
   },
   "outputs": [],
   "source": [
    "stats03 = pop.typeStats"
   ]
  },
  {
   "cell_type": "code",
   "execution_count": 12,
   "metadata": {},
   "outputs": [
    {
     "data": {
      "text/html": [
       "<div>\n",
       "<style>\n",
       "    .dataframe thead tr:only-child th {\n",
       "        text-align: right;\n",
       "    }\n",
       "\n",
       "    .dataframe thead th {\n",
       "        text-align: left;\n",
       "    }\n",
       "\n",
       "    .dataframe tbody tr th {\n",
       "        vertical-align: top;\n",
       "    }\n",
       "</style>\n",
       "<table border=\"1\" class=\"dataframe\">\n",
       "  <thead>\n",
       "    <tr style=\"text-align: right;\">\n",
       "      <th></th>\n",
       "      <th>Earth</th>\n",
       "      <th>SuperEarth</th>\n",
       "      <th>all</th>\n",
       "      <th>ltEarth</th>\n",
       "    </tr>\n",
       "  </thead>\n",
       "  <tbody>\n",
       "    <tr>\n",
       "      <th>Nplanets</th>\n",
       "      <td>1518.000000</td>\n",
       "      <td>1656.000000</td>\n",
       "      <td>9988.000000</td>\n",
       "      <td>3536.000000</td>\n",
       "    </tr>\n",
       "    <tr>\n",
       "      <th>Nsystems</th>\n",
       "      <td>1518.000000</td>\n",
       "      <td>1656.000000</td>\n",
       "      <td>9988.000000</td>\n",
       "      <td>3536.000000</td>\n",
       "    </tr>\n",
       "    <tr>\n",
       "      <th>fractionSystems</th>\n",
       "      <td>0.151982</td>\n",
       "      <td>0.165799</td>\n",
       "      <td>1.000000</td>\n",
       "      <td>0.354025</td>\n",
       "    </tr>\n",
       "    <tr>\n",
       "      <th>meanEccentricity</th>\n",
       "      <td>0.000000</td>\n",
       "      <td>0.000000</td>\n",
       "      <td>0.000000</td>\n",
       "      <td>0.000000</td>\n",
       "    </tr>\n",
       "    <tr>\n",
       "      <th>meanMetallicity</th>\n",
       "      <td>-0.010152</td>\n",
       "      <td>0.014833</td>\n",
       "      <td>-0.018050</td>\n",
       "      <td>0.040599</td>\n",
       "    </tr>\n",
       "    <tr>\n",
       "      <th>multiplicity</th>\n",
       "      <td>1.000000</td>\n",
       "      <td>1.000000</td>\n",
       "      <td>1.000000</td>\n",
       "      <td>1.000000</td>\n",
       "    </tr>\n",
       "    <tr>\n",
       "      <th>occurrence</th>\n",
       "      <td>0.151982</td>\n",
       "      <td>0.165799</td>\n",
       "      <td>1.000000</td>\n",
       "      <td>0.354025</td>\n",
       "    </tr>\n",
       "    <tr>\n",
       "      <th>stdEccentricity</th>\n",
       "      <td>0.000000</td>\n",
       "      <td>0.000000</td>\n",
       "      <td>0.000000</td>\n",
       "      <td>0.000000</td>\n",
       "    </tr>\n",
       "    <tr>\n",
       "      <th>stdMetallicity</th>\n",
       "      <td>0.209806</td>\n",
       "      <td>0.206310</td>\n",
       "      <td>0.219432</td>\n",
       "      <td>0.212772</td>\n",
       "    </tr>\n",
       "  </tbody>\n",
       "</table>\n",
       "</div>"
      ],
      "text/plain": [
       "                        Earth   SuperEarth          all      ltEarth\n",
       "Nplanets          1518.000000  1656.000000  9988.000000  3536.000000\n",
       "Nsystems          1518.000000  1656.000000  9988.000000  3536.000000\n",
       "fractionSystems      0.151982     0.165799     1.000000     0.354025\n",
       "meanEccentricity     0.000000     0.000000     0.000000     0.000000\n",
       "meanMetallicity     -0.010152     0.014833    -0.018050     0.040599\n",
       "multiplicity         1.000000     1.000000     1.000000     1.000000\n",
       "occurrence           0.151982     0.165799     1.000000     0.354025\n",
       "stdEccentricity      0.000000     0.000000     0.000000     0.000000\n",
       "stdMetallicity       0.209806     0.206310     0.219432     0.212772"
      ]
     },
     "execution_count": 12,
     "metadata": {},
     "output_type": "execute_result"
    }
   ],
   "source": [
    "stats03"
   ]
  },
  {
   "cell_type": "code",
   "execution_count": 13,
   "metadata": {},
   "outputs": [
    {
     "data": {
      "text/plain": [
       "<matplotlib.axes._subplots.AxesSubplot at 0x7f1a89e23240>"
      ]
     },
     "execution_count": 13,
     "metadata": {},
     "output_type": "execute_result"
    },
    {
     "data": {
      "image/png": "[encoded data removed]",
      "text/plain": [
       "<matplotlib.figure.Figure at 0x7f1a88151b00>"
      ]
     },
     "metadata": {},
     "output_type": "display_data"
    }
   ],
   "source": [
    "stats03.loc['Nplanets',:].plot(kind='bar')"
   ]
  },
  {
   "cell_type": "code",
   "execution_count": null,
   "metadata": {
    "collapsed": true
   },
   "outputs": [],
   "source": []
  }
 ],
 "metadata": {
  "kernelspec": {
   "display_name": "Python 3",
   "language": "python",
   "name": "python3"
  },
  "language_info": {
   "codemirror_mode": {
    "name": "ipython",
    "version": 3
   },
   "file_extension": ".py",
   "mimetype": "text/x-python",
   "name": "python",
   "nbconvert_exporter": "python",
   "pygments_lexer": "ipython3",
   "version": "3.6.3"
  }
 },
 "nbformat": 4,
 "nbformat_minor": 2
}
