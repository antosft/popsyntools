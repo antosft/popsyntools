{
 "cells": [
  {
   "cell_type": "code",
   "execution_count": 1,
   "metadata": {},
   "outputs": [
    {
     "name": "stdout",
     "output_type": "stream",
     "text": [
      "[Errno 2] No such file or directory: '/home/schlecker/repos/planeteScripts'\n",
      "/media/martin/Daten/phd/planeteScripts/notebooks\n"
     ]
    }
   ],
   "source": [
    "cd /home/schlecker/repos/planeteScripts"
   ]
  },
  {
   "cell_type": "code",
   "execution_count": 31,
   "metadata": {},
   "outputs": [
    {
     "name": "stdout",
     "output_type": "stream",
     "text": [
      "The autoreload extension is already loaded. To reload it, use:\n",
      "  %reload_ext autoreload\n"
     ]
    }
   ],
   "source": [
    "import planeteOutput\n",
    "from planetePlots import *\n",
    "import stats\n",
    "import numpy as np\n",
    "import matplotlib.pyplot as plt\n",
    "\n",
    "%load_ext autoreload\n",
    "%autoreload 2"
   ]
  },
  {
   "cell_type": "markdown",
   "metadata": {},
   "source": [
    "### read ref_red 5e9yr of J31"
   ]
  },
  {
   "cell_type": "code",
   "execution_count": 8,
   "metadata": {},
   "outputs": [],
   "source": [
    "file = '/media/martin/Daten/phd/planete/outputs/J39/ref_red5e9.dat'\n",
    "rr = read_ref_red(file)"
   ]
  },
  {
   "cell_type": "markdown",
   "metadata": {},
   "source": [
    "### some very basic stats"
   ]
  },
  {
   "cell_type": "code",
   "execution_count": 9,
   "metadata": {},
   "outputs": [
    {
     "name": "stdout",
     "output_type": "stream",
     "text": [
      "giant mass Mgiant = 300.0\n",
      "number of planets: 10134\n",
      "number of ejected planets: 985\n",
      "Number of planets more massive than M_Earth: 1246\n",
      "Number of planets more massive than M_Earth and ejected: 350\n",
      "Number of planets more massive than M_giant: 86\n",
      "Number of planets more massive than M_giant and ejected: 9\n"
     ]
    }
   ],
   "source": [
    "stats.categorize(rr)"
   ]
  },
  {
   "cell_type": "code",
   "execution_count": 51,
   "metadata": {},
   "outputs": [],
   "source": [
    "pop = planeteOutput.population()"
   ]
  },
  {
   "cell_type": "code",
   "execution_count": 52,
   "metadata": {},
   "outputs": [],
   "source": [
    "pop.readData(file)"
   ]
  },
  {
   "cell_type": "code",
   "execution_count": 54,
   "metadata": {},
   "outputs": [
    {
     "name": "stdout",
     "output_type": "stream",
     "text": [
      "giant mass Mgiant = 300.0\n",
      "number of planets: 10134\n",
      "number of ejected planets: 985\n",
      "Number of planets more massive than M_Earth: 1246\n",
      "Number of planets more massive than M_Earth and ejected: 350\n",
      "Number of planets more massive than M_giant: 86\n",
      "Number of planets more massive than M_giant and ejected: 9\n"
     ]
    }
   ],
   "source": [
    "pop.categorize()"
   ]
  }
 ],
 "metadata": {
  "kernelspec": {
   "display_name": "Python 3",
   "language": "python",
   "name": "python3"
  },
  "language_info": {
   "codemirror_mode": {
    "name": "ipython",
    "version": 3
   },
   "file_extension": ".py",
   "mimetype": "text/x-python",
   "name": "python",
   "nbconvert_exporter": "python",
   "pygments_lexer": "ipython3",
   "version": "3.6.3"
  }
 },
 "nbformat": 4,
 "nbformat_minor": 2
}
