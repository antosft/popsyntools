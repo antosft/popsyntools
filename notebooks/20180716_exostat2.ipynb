{
 "cells": [
  {
   "cell_type": "code",
   "execution_count": 123,
   "metadata": {},
   "outputs": [
    {
     "name": "stdout",
     "output_type": "stream",
     "text": [
      "[Errno 2] No such file or directory: '/home/schlecker/repos/planeteScripts'\n",
      "/media/martin/Daten/phd/planeteScripts\n"
     ]
    }
   ],
   "source": [
    "cd /home/schlecker/repos/planeteScripts"
   ]
  },
  {
   "cell_type": "code",
   "execution_count": 124,
   "metadata": {},
   "outputs": [
    {
     "name": "stdout",
     "output_type": "stream",
     "text": [
      "The autoreload extension is already loaded. To reload it, use:\n",
      "  %reload_ext autoreload\n"
     ]
    }
   ],
   "source": [
    "import planeteOutput\n",
    "from planetePlots import *\n",
    "import stats\n",
    "import utils\n",
    "import numpy as np\n",
    "import matplotlib.pyplot as plt\n",
    "\n",
    "%load_ext autoreload\n",
    "%autoreload 2"
   ]
  },
  {
   "cell_type": "markdown",
   "metadata": {},
   "source": [
    "### read ref_red 5e9yr of J31"
   ]
  },
  {
   "cell_type": "code",
   "execution_count": 125,
   "metadata": {
    "collapsed": true
   },
   "outputs": [],
   "source": [
    "file = '/media/martin/Daten/phd/planete/outputs/J39/ref_red5e9.dat'\n",
    "rr = read_ref_red(file)"
   ]
  },
  {
   "cell_type": "markdown",
   "metadata": {},
   "source": [
    "### some very basic stats"
   ]
  },
  {
   "cell_type": "code",
   "execution_count": 9,
   "metadata": {},
   "outputs": [
    {
     "name": "stdout",
     "output_type": "stream",
     "text": [
      "giant mass Mgiant = 300.0\n",
      "number of planets: 10134\n",
      "number of ejected planets: 985\n",
      "Number of planets more massive than M_Earth: 1246\n",
      "Number of planets more massive than M_Earth and ejected: 350\n",
      "Number of planets more massive than M_giant: 86\n",
      "Number of planets more massive than M_giant and ejected: 9\n"
     ]
    }
   ],
   "source": [
    "stats.categorize(rr)"
   ]
  },
  {
   "cell_type": "markdown",
   "metadata": {},
   "source": [
    "object-oriented approach\n",
    "=============="
   ]
  },
  {
   "cell_type": "markdown",
   "metadata": {},
   "source": [
    "### initialize population, populate with content of ref_red"
   ]
  },
  {
   "cell_type": "code",
   "execution_count": 126,
   "metadata": {
    "collapsed": true
   },
   "outputs": [],
   "source": [
    "pop = planeteOutput.population()"
   ]
  },
  {
   "cell_type": "code",
   "execution_count": 127,
   "metadata": {
    "collapsed": true
   },
   "outputs": [],
   "source": [
    "pop.readData(file)"
   ]
  },
  {
   "cell_type": "code",
   "execution_count": 122,
   "metadata": {},
   "outputs": [
    {
     "data": {
      "text/plain": [
       "{'Nplanets': 501,\n",
       " 'Nsystems': 128,\n",
       " 'fractionSystems': 0.5267489711934157,\n",
       " 'meanEccentricity': 0.11866021938742523,\n",
       " 'meanMetallicity': -0.00649576348942315,\n",
       " 'multiplicity': 1.0,\n",
       " 'occurrence': 0.020617283950617283,\n",
       " 'stdEccentricity': 0.10727934158581884,\n",
       " 'stdMetallicity': 0.18643234630864894}"
      ]
     },
     "execution_count": 122,
     "metadata": {},
     "output_type": "execute_result"
    }
   ],
   "source": [
    "# as a check: show Super Earths\n",
    "popSE = stats.filterPlanets(pop.data, 'SuperEarth')\n",
    "stats.get_typeStats(pop.data, popSE)"
   ]
  },
  {
   "cell_type": "code",
   "execution_count": 128,
   "metadata": {},
   "outputs": [
    {
     "data": {
      "text/plain": [
       "count    24300.000000\n",
       "mean         9.888969\n",
       "std        186.650115\n",
       "min          0.009997\n",
       "25%          0.046909\n",
       "50%          0.130489\n",
       "75%          0.449478\n",
       "max      12492.000000\n",
       "Name: m, dtype: float64"
      ]
     },
     "execution_count": 128,
     "metadata": {},
     "output_type": "execute_result"
    }
   ],
   "source": [
    "pop.data.m.describe()"
   ]
  },
  {
   "cell_type": "code",
   "execution_count": 143,
   "metadata": {},
   "outputs": [],
   "source": [
    "pop.get_typeStats()"
   ]
  },
  {
   "cell_type": "code",
   "execution_count": 151,
   "metadata": {},
   "outputs": [
    {
     "data": {
      "text/html": [
       "<div>\n",
       "<style>\n",
       "    .dataframe thead tr:only-child th {\n",
       "        text-align: right;\n",
       "    }\n",
       "\n",
       "    .dataframe thead th {\n",
       "        text-align: left;\n",
       "    }\n",
       "\n",
       "    .dataframe tbody tr th {\n",
       "        vertical-align: top;\n",
       "    }\n",
       "</style>\n",
       "<table border=\"1\" class=\"dataframe\">\n",
       "  <thead>\n",
       "    <tr style=\"text-align: right;\">\n",
       "      <th></th>\n",
       "      <th>Earth</th>\n",
       "      <th>SuperEarth</th>\n",
       "      <th>all</th>\n",
       "      <th>ltEarth</th>\n",
       "    </tr>\n",
       "  </thead>\n",
       "  <tbody>\n",
       "    <tr>\n",
       "      <th>Nplanets</th>\n",
       "      <td>1117.000000</td>\n",
       "      <td>501.000000</td>\n",
       "      <td>10134.000000</td>\n",
       "      <td>1246.000000</td>\n",
       "    </tr>\n",
       "    <tr>\n",
       "      <th>Nsystems</th>\n",
       "      <td>208.000000</td>\n",
       "      <td>128.000000</td>\n",
       "      <td>243.000000</td>\n",
       "      <td>219.000000</td>\n",
       "    </tr>\n",
       "    <tr>\n",
       "      <th>fractionSystems</th>\n",
       "      <td>0.855967</td>\n",
       "      <td>0.526749</td>\n",
       "      <td>1.000000</td>\n",
       "      <td>0.901235</td>\n",
       "    </tr>\n",
       "    <tr>\n",
       "      <th>meanEccentricity</th>\n",
       "      <td>0.129498</td>\n",
       "      <td>0.118660</td>\n",
       "      <td>0.123241</td>\n",
       "      <td>0.129265</td>\n",
       "    </tr>\n",
       "    <tr>\n",
       "      <th>meanMetallicity</th>\n",
       "      <td>-0.045775</td>\n",
       "      <td>-0.006496</td>\n",
       "      <td>-0.054122</td>\n",
       "      <td>0.004173</td>\n",
       "    </tr>\n",
       "    <tr>\n",
       "      <th>multiplicity</th>\n",
       "      <td>1.000000</td>\n",
       "      <td>1.000000</td>\n",
       "      <td>1.000000</td>\n",
       "      <td>1.000000</td>\n",
       "    </tr>\n",
       "    <tr>\n",
       "      <th>occurrence</th>\n",
       "      <td>0.045967</td>\n",
       "      <td>0.020617</td>\n",
       "      <td>0.417037</td>\n",
       "      <td>0.051276</td>\n",
       "    </tr>\n",
       "    <tr>\n",
       "      <th>stdEccentricity</th>\n",
       "      <td>0.128735</td>\n",
       "      <td>0.107279</td>\n",
       "      <td>0.160888</td>\n",
       "      <td>0.131206</td>\n",
       "    </tr>\n",
       "    <tr>\n",
       "      <th>stdMetallicity</th>\n",
       "      <td>0.188652</td>\n",
       "      <td>0.186432</td>\n",
       "      <td>0.196986</td>\n",
       "      <td>0.190504</td>\n",
       "    </tr>\n",
       "  </tbody>\n",
       "</table>\n",
       "</div>"
      ],
      "text/plain": [
       "                        Earth  SuperEarth           all      ltEarth\n",
       "Nplanets          1117.000000  501.000000  10134.000000  1246.000000\n",
       "Nsystems           208.000000  128.000000    243.000000   219.000000\n",
       "fractionSystems      0.855967    0.526749      1.000000     0.901235\n",
       "meanEccentricity     0.129498    0.118660      0.123241     0.129265\n",
       "meanMetallicity     -0.045775   -0.006496     -0.054122     0.004173\n",
       "multiplicity         1.000000    1.000000      1.000000     1.000000\n",
       "occurrence           0.045967    0.020617      0.417037     0.051276\n",
       "stdEccentricity      0.128735    0.107279      0.160888     0.131206\n",
       "stdMetallicity       0.188652    0.186432      0.196986     0.190504"
      ]
     },
     "execution_count": 151,
     "metadata": {},
     "output_type": "execute_result"
    }
   ],
   "source": [
    "pop.typeStats"
   ]
  },
  {
   "cell_type": "code",
   "execution_count": null,
   "metadata": {
    "collapsed": true
   },
   "outputs": [],
   "source": []
  }
 ],
 "metadata": {
  "kernelspec": {
   "display_name": "Python 3",
   "language": "python",
   "name": "python3"
  },
  "language_info": {
   "codemirror_mode": {
    "name": "ipython",
    "version": 3
   },
   "file_extension": ".py",
   "mimetype": "text/x-python",
   "name": "python",
   "nbconvert_exporter": "python",
   "pygments_lexer": "ipython3",
   "version": "3.6.3"
  }
 },
 "nbformat": 4,
 "nbformat_minor": 2
}
