{
 "cells": [
  {
   "cell_type": "code",
   "execution_count": 2,
   "metadata": {},
   "outputs": [
    {
     "name": "stdout",
     "output_type": "stream",
     "text": [
      "Using matplotlib backend: Qt5Agg\n",
      "Populating the interactive namespace from numpy and matplotlib\n"
     ]
    }
   ],
   "source": [
    "%pylab\n",
    "%load_ext autoreload\n",
    "%autoreload 2"
   ]
  },
  {
   "cell_type": "code",
   "execution_count": 4,
   "metadata": {},
   "outputs": [],
   "source": [
    "from make_list import *"
   ]
  },
  {
   "cell_type": "code",
   "execution_count": 114,
   "metadata": {},
   "outputs": [
    {
     "data": {
      "text/plain": [
       "CDnumber     object\n",
       "fgp         float64\n",
       "diskM       float64\n",
       "a_in        float64\n",
       "a_out       float64\n",
       "expo        float64\n",
       "windM       float64\n",
       "simName      object\n",
       "a_start     float64\n",
       "t_start     float64\n",
       "dtype: object"
      ]
     },
     "execution_count": 114,
     "metadata": {},
     "output_type": "execute_result"
    }
   ],
   "source": [
    "filename = 'zubehoer/simulation_list.dat_chris_0p5Msun_make_liste_V2189_amin0p1'\n",
    "simlist = read_simlist(filename)\n",
    "simlist.head(1).dtypes"
   ]
  },
  {
   "cell_type": "code",
   "execution_count": 159,
   "metadata": {
    "scrolled": true
   },
   "outputs": [
    {
     "name": "stdout",
     "output_type": "stream",
     "text": [
      "CD_00000000000000FP_0.33149750E+02SI_0.11261707E+03AI_0.99999999E-01AO_0.40349102E+02EX_0.89999998E+00MW_0.44029941E-06SIM00000000000001AS_0.00000000E+00ST_0.00000000E+00\n",
      "\n"
     ]
    }
   ],
   "source": [
    "with open(filename, 'r') as f:\n",
    "    string = f.readline()\n",
    "print(string)"
   ]
  },
  {
   "cell_type": "code",
   "execution_count": 148,
   "metadata": {},
   "outputs": [
    {
     "data": {
      "text/plain": [
       "0.89999998000000003"
      ]
     },
     "execution_count": 148,
     "metadata": {},
     "output_type": "execute_result"
    }
   ],
   "source": [
    "line = simlist.iloc[0]"
   ]
  },
  {
   "cell_type": "code",
   "execution_count": 131,
   "metadata": {
    "scrolled": true
   },
   "outputs": [
    {
     "data": {
      "text/plain": [
       "0.89999998000000003"
      ]
     },
     "execution_count": 131,
     "metadata": {},
     "output_type": "execute_result"
    }
   ],
   "source": [
    "line['expo']"
   ]
  },
  {
   "cell_type": "markdown",
   "metadata": {},
   "source": [
    "### output a line of the simlist"
   ]
  },
  {
   "cell_type": "code",
   "execution_count": 169,
   "metadata": {
    "scrolled": false
   },
   "outputs": [
    {
     "name": "stdout",
     "output_type": "stream",
     "text": [
      "00000000000000\n"
     ]
    }
   ],
   "source": [
    "# choose string format to achieve 14 characters per variable\n",
    "val = line['CDnumber']\n",
    "try:\n",
    "    lineString = '{:1.8E}'.format(val)\n",
    "except ValueError: \n",
    "    lineString = '{:14s}'.format(val)\n",
    "print(lineString)"
   ]
  },
  {
   "cell_type": "code",
   "execution_count": 174,
   "metadata": {},
   "outputs": [],
   "source": [
    "outfile = 'simlist.out'\n",
    "with open(outfile, 'a') as fileHandle:\n",
    "    write_singleSim2File(fileHandle, line)"
   ]
  },
  {
   "cell_type": "markdown",
   "metadata": {},
   "source": [
    "test write_simlist():"
   ]
  },
  {
   "cell_type": "code",
   "execution_count": 182,
   "metadata": {},
   "outputs": [
    {
     "name": "stdout",
     "output_type": "stream",
     "text": [
      "99999 simulations written to \"simlist.out\".\n"
     ]
    }
   ],
   "source": [
    "partlist = simlist.iloc[0:10]\n",
    "outfile = 'simlist.out'\n",
    "write_simlist(outfile,simlist)"
   ]
  },
  {
   "cell_type": "code",
   "execution_count": null,
   "metadata": {
    "collapsed": true
   },
   "outputs": [],
   "source": []
  }
 ],
 "metadata": {
  "kernelspec": {
   "display_name": "Python 3",
   "language": "python",
   "name": "python3"
  },
  "language_info": {
   "codemirror_mode": {
    "name": "ipython",
    "version": 3
   },
   "file_extension": ".py",
   "mimetype": "text/x-python",
   "name": "python",
   "nbconvert_exporter": "python",
   "pygments_lexer": "ipython3",
   "version": "3.6.3"
  }
 },
 "nbformat": 4,
 "nbformat_minor": 2
}
