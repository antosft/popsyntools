{
 "cells": [
  {
   "cell_type": "code",
   "execution_count": 2,
   "metadata": {},
   "outputs": [
    {
     "name": "stdout",
     "output_type": "stream",
     "text": [
      "/home/schlecker/repos/planeteScripts\n"
     ]
    }
   ],
   "source": [
    "cd /home/schlecker/repos/planeteScripts"
   ]
  },
  {
   "cell_type": "code",
   "execution_count": 3,
   "metadata": {
    "collapsed": true
   },
   "outputs": [],
   "source": [
    "from planeteOutput import *\n",
    "from planetePlots import *\n",
    "import scipy.ndimage as nd\n",
    "import numpy as np\n",
    "import matplotlib.pyplot as plt"
   ]
  },
  {
   "cell_type": "code",
   "execution_count": 4,
   "metadata": {
    "collapsed": true
   },
   "outputs": [],
   "source": [
    "%load_ext autoreload\n",
    "%autoreload 2"
   ]
  },
  {
   "cell_type": "code",
   "execution_count": 5,
   "metadata": {
    "collapsed": true
   },
   "outputs": [],
   "source": [
    "file = 'zubehoer/ref_red5e9.dat_J31_11220'\n",
    "rr = read_ref_red(file)"
   ]
  },
  {
   "cell_type": "markdown",
   "metadata": {},
   "source": [
    "## A test for get_orbitalPeriod"
   ]
  },
  {
   "cell_type": "code",
   "execution_count": null,
   "metadata": {
    "collapsed": true,
    "scrolled": false
   },
   "outputs": [],
   "source": [
    "import pandas as pd\n",
    "\n",
    "MstarRel=1.0\n",
    "a_Earth = 1.\n",
    "a_Mars = 1.523662\n",
    "test = pd.DataFrame({'a' : [a_Earth, a_Mars]})\n",
    "get_orbitalPeriod(test, MstarRel)"
   ]
  },
  {
   "cell_type": "markdown",
   "metadata": {},
   "source": [
    "## Test compute_logbins(binWidth, Range)"
   ]
  },
  {
   "cell_type": "code",
   "execution_count": null,
   "metadata": {
    "collapsed": true
   },
   "outputs": [],
   "source": [
    "binWidth_dex = 1.0\n",
    "Range = (10., 1000.)\n",
    "compute_logbins(binWidth_dex, Range)"
   ]
  },
  {
   "cell_type": "markdown",
   "metadata": {},
   "source": [
    "## Produce occurrence map for J31 (Mstar = Msol)"
   ]
  },
  {
   "cell_type": "code",
   "execution_count": 6,
   "metadata": {
    "collapsed": true
   },
   "outputs": [],
   "source": [
    "rr = get_orbitalPeriod(rr, MstarRel=1.0)"
   ]
  },
  {
   "cell_type": "code",
   "execution_count": null,
   "metadata": {
    "collapsed": true
   },
   "outputs": [],
   "source": [
    "j31Heavy = rr[rr['m'] > 1e0]\n",
    "j31Heavy.r.describe()"
   ]
  },
  {
   "cell_type": "code",
   "execution_count": 19,
   "metadata": {},
   "outputs": [
    {
     "name": "stdout",
     "output_type": "stream",
     "text": [
      "Using matplotlib backend: Qt5Agg\n",
      "Populating the interactive namespace from numpy and matplotlib\n"
     ]
    },
    {
     "name": "stderr",
     "output_type": "stream",
     "text": [
      "/home/schlecker/bin/anaconda3/lib/python3.6/site-packages/IPython/core/magics/pylab.py:160: UserWarning: pylab import has clobbered these variables: ['axis']\n",
      "`%matplotlib` prevents importing * from pylab and numpy\n",
      "  \"\\n`%matplotlib` prevents importing * from pylab and numpy\"\n"
     ]
    }
   ],
   "source": [
    "%pylab"
   ]
  },
  {
   "cell_type": "code",
   "execution_count": 21,
   "metadata": {},
   "outputs": [
    {
     "name": "stdout",
     "output_type": "stream",
     "text": [
      "using only planets with status \"0\"\n",
      "Number of Systems: 559\n"
     ]
    },
    {
     "data": {
      "text/plain": [
       "(array([[  0.        ,   0.        ,   0.17889088,   0.        ,\n",
       "           0.        ,   0.        ,   0.        ,   0.        ,\n",
       "           0.        ,   0.        ,   0.        ,   0.        ,\n",
       "           0.        ,   0.        ,   0.        ,   0.        ,\n",
       "           0.        ,   0.        ,   0.        ,   0.        ,\n",
       "           0.        ,   0.        ,   0.        ,   0.        ,\n",
       "           0.        ,   0.        ],\n",
       "        [  0.        ,   0.        ,   0.        ,   0.17889088,\n",
       "           0.        ,   0.        ,   0.        ,   0.        ,\n",
       "           0.        ,   0.        ,   0.        ,   0.        ,\n",
       "           0.        ,   0.        ,   0.        ,   0.        ,\n",
       "           0.        ,   0.        ,   0.        ,   0.        ,\n",
       "           0.        ,   0.        ,   0.        ,   0.        ,\n",
       "           0.        ,   0.        ],\n",
       "        [  0.        ,   0.        ,   0.        ,   0.        ,\n",
       "           0.        ,   0.        ,   0.        ,   0.        ,\n",
       "           0.        ,   0.        ,   0.        ,   0.        ,\n",
       "           0.        ,   0.        ,   0.        ,   0.        ,\n",
       "           0.        ,   0.        ,   0.        ,   0.        ,\n",
       "           0.        ,   0.        ,   0.        ,   0.        ,\n",
       "           0.        ,   0.        ],\n",
       "        [  0.        ,   0.        ,   0.        ,   0.        ,\n",
       "           0.        ,   0.        ,   0.        ,   0.        ,\n",
       "           0.        ,   0.        ,   0.        ,   0.        ,\n",
       "           0.        ,   0.        ,   0.        ,   0.        ,\n",
       "           0.        ,   0.        ,   0.        ,   0.        ,\n",
       "           0.        ,   0.        ,   0.        ,   0.        ,\n",
       "           0.        ,   0.        ],\n",
       "        [  0.        ,   0.        ,   0.        ,   0.        ,\n",
       "           0.        ,   0.        ,   0.        ,   0.        ,\n",
       "           0.        ,   0.        ,   0.        ,   0.        ,\n",
       "           0.        ,   0.        ,   0.        ,   0.        ,\n",
       "           0.        ,   0.        ,   0.        ,   0.        ,\n",
       "           0.        ,   0.        ,   0.        ,   0.        ,\n",
       "           0.        ,   0.        ],\n",
       "        [  0.        ,   0.        ,   0.        ,   0.        ,\n",
       "           0.        ,   0.        ,   0.        ,   0.        ,\n",
       "           0.        ,   0.        ,   0.        ,   0.        ,\n",
       "           0.        ,   0.        ,   0.        ,   0.        ,\n",
       "           0.        ,   0.        ,   0.        ,   0.        ,\n",
       "           0.        ,   0.        ,   0.        ,   0.        ,\n",
       "           0.        ,   0.        ],\n",
       "        [  0.        ,   0.        ,   0.        ,   0.        ,\n",
       "           0.        ,   0.        ,   0.        ,   0.        ,\n",
       "           0.        ,   0.        ,   0.        ,   0.        ,\n",
       "           0.        ,   0.        ,   0.        ,   0.        ,\n",
       "           0.        ,   0.        ,   0.        ,   0.        ,\n",
       "           0.        ,   0.        ,   0.        ,   0.        ,\n",
       "           0.        ,   0.        ],\n",
       "        [  0.        ,   0.        ,   0.        ,   0.        ,\n",
       "           0.        ,   0.        ,   0.        ,   0.        ,\n",
       "           0.        ,   0.        ,   0.        ,   0.        ,\n",
       "           0.        ,   0.        ,   0.        ,   0.        ,\n",
       "           0.        ,   0.        ,   0.        ,   0.        ,\n",
       "           0.        ,   0.        ,   0.        ,   0.        ,\n",
       "           0.        ,   0.        ],\n",
       "        [  0.        ,   0.        ,   0.        ,   0.        ,\n",
       "           0.        ,   0.        ,   0.        ,   0.        ,\n",
       "           0.        ,   0.        ,   0.        ,   0.        ,\n",
       "           0.        ,   0.        ,   0.        ,   0.        ,\n",
       "           0.        ,   0.        ,   0.        ,   0.        ,\n",
       "           0.        ,   0.        ,   0.        ,   0.        ,\n",
       "           0.        ,   0.        ],\n",
       "        [  0.        ,   0.        ,   0.        ,   0.        ,\n",
       "           0.        ,   0.        ,   0.        ,   0.        ,\n",
       "           0.        ,   0.        ,   0.        ,   0.        ,\n",
       "           0.        ,   0.        ,   0.        ,   0.        ,\n",
       "           0.        ,   0.        ,   0.        ,   0.        ,\n",
       "           0.        ,   0.        ,   0.        ,   0.        ,\n",
       "           0.        ,   0.        ],\n",
       "        [  0.        ,   0.        ,   0.        ,   0.17889088,\n",
       "           0.        ,   0.        ,   0.        ,   4.29338104,\n",
       "           0.71556351,   0.17889088,   0.        ,   0.        ,\n",
       "           0.        ,   0.        ,   0.        ,   0.        ,\n",
       "           0.        ,   0.        ,   0.        ,   0.        ,\n",
       "           0.        ,   0.        ,   0.        ,   0.        ,\n",
       "           0.        ,   0.        ],\n",
       "        [  0.        ,   0.        ,   0.        ,   0.        ,\n",
       "           0.35778175,   2.50447227,  36.6726297 ,  61.71735242,\n",
       "          46.69051878,  30.59033989,  20.93023256,  11.4490161 ,\n",
       "           9.1234347 ,   3.93559928,   4.47227191,   7.33452594,\n",
       "           9.48121646,   0.        ,   0.35778175,   1.07334526,\n",
       "           0.89445438,   1.07334526,   0.        ,   0.89445438,\n",
       "           0.        ,   0.        ],\n",
       "        [  0.        ,   0.        ,   0.        ,   0.        ,\n",
       "           1.25223614,   3.93559928,  15.20572451,  20.03577818,\n",
       "          22.8980322 ,  22.8980322 ,  22.54025045,  24.50805009,\n",
       "          20.57245081,  21.10912343,  20.57245081,  16.10017889,\n",
       "           9.48121646,   5.18783542,  11.27012522,  13.23792487,\n",
       "          12.16457961,  10.91234347,   5.3667263 ,   4.83005367,\n",
       "           0.        ,   0.        ],\n",
       "        [  0.        ,   0.        ,   0.        ,   0.        ,\n",
       "           2.14669052,   5.54561717,   9.30232558,  11.4490161 ,\n",
       "          16.63685152,  17.88908766,  16.10017889,  15.20572451,\n",
       "          15.38461538,   8.76565295,   4.65116279,   9.66010733,\n",
       "          10.37567084,   7.69230769,  12.52236136,  28.08586762,\n",
       "          44.18604651,  46.69051878,  46.86940966,  43.64937388,\n",
       "           0.        ,   0.        ],\n",
       "        [  0.71556351,   0.        ,   0.        ,   0.53667263,\n",
       "           1.07334526,   5.00894454,   7.15563506,   6.61896243,\n",
       "          10.01788909,  14.13237925,  10.73345259,   4.11449016,\n",
       "           1.61001789,   6.61896243,   7.33452594,  10.19677996,\n",
       "          12.88014311,   7.87119857,   9.83899821,  15.92128801,\n",
       "          16.45796064,  13.95348837,  24.50805009,  22.54025045,\n",
       "           0.17889088,   0.        ],\n",
       "        [  0.17889088,   0.        ,   0.        ,   0.        ,\n",
       "           1.25223614,   2.14669052,   4.29338104,   3.57781753,\n",
       "           3.93559928,   1.61001789,   1.25223614,   1.43112701,\n",
       "           4.65116279,   7.33452594,  12.16457961,   7.15563506,\n",
       "           8.22898032,  10.55456172,  11.98568873,  10.73345259,\n",
       "           7.51341682,   6.97674419,  13.59570662,  11.4490161 ,\n",
       "           0.        ,   0.        ],\n",
       "        [  0.35778175,   0.        ,   0.        ,   0.        ,\n",
       "           0.71556351,   3.22003578,   2.3255814 ,   1.43112701,\n",
       "           0.17889088,   1.61001789,   5.54561717,   3.0411449 ,\n",
       "           5.18783542,   3.75670841,   5.3667263 ,   5.00894454,\n",
       "           5.54561717,  10.37567084,   7.33452594,   8.05008945,\n",
       "           1.61001789,   9.30232558,   8.58676208,   3.93559928,\n",
       "           0.        ,   0.        ],\n",
       "        [  0.53667263,   0.        ,   0.        ,   0.        ,\n",
       "           0.53667263,   1.07334526,   0.71556351,   0.53667263,\n",
       "           1.43112701,   2.86225403,   5.18783542,   3.75670841,\n",
       "           3.22003578,   2.14669052,   3.93559928,   1.96779964,\n",
       "           4.65116279,   5.72450805,   6.44007156,   3.75670841,\n",
       "           1.96779964,   3.75670841,   1.25223614,   2.3255814 ,\n",
       "           0.        ,   0.        ],\n",
       "        [  0.71556351,   0.        ,   0.        ,   0.        ,\n",
       "           0.35778175,   0.35778175,   0.71556351,   1.43112701,\n",
       "           1.61001789,   2.14669052,   3.93559928,   6.26118068,\n",
       "           2.86225403,   1.25223614,   1.61001789,   1.96779964,\n",
       "           2.50447227,   3.22003578,   3.0411449 ,   2.68336315,\n",
       "           1.96779964,   1.78890877,   1.25223614,   1.07334526,\n",
       "           0.        ,   0.17889088],\n",
       "        [  0.        ,   0.        ,   0.        ,   0.        ,\n",
       "           0.        ,   0.        ,   0.17889088,   0.71556351,\n",
       "           1.25223614,   2.50447227,   2.14669052,   3.75670841,\n",
       "           1.61001789,   1.61001789,   0.35778175,   2.50447227,\n",
       "           3.75670841,   2.86225403,   1.78890877,   1.61001789,\n",
       "           1.07334526,   1.07334526,   1.07334526,   0.17889088,\n",
       "           0.17889088,   0.        ],\n",
       "        [  0.        ,   0.        ,   0.        ,   0.        ,\n",
       "           0.        ,   0.17889088,   0.17889088,   1.25223614,\n",
       "           1.25223614,   3.0411449 ,   2.50447227,   1.25223614,\n",
       "           1.07334526,   1.78890877,   0.89445438,   1.25223614,\n",
       "           2.50447227,   1.78890877,   1.61001789,   1.07334526,\n",
       "           0.89445438,   0.89445438,   0.89445438,   0.35778175,\n",
       "           0.        ,   0.        ],\n",
       "        [  0.        ,   0.        ,   0.        ,   0.        ,\n",
       "           0.17889088,   0.        ,   0.        ,   0.17889088,\n",
       "           1.07334526,   0.89445438,   1.78890877,   1.25223614,\n",
       "           1.25223614,   1.78890877,   1.78890877,   0.89445438,\n",
       "           1.07334526,   0.89445438,   1.43112701,   0.89445438,\n",
       "           0.89445438,   1.43112701,   0.53667263,   0.17889088,\n",
       "           0.        ,   0.        ],\n",
       "        [  0.        ,   0.        ,   0.        ,   0.        ,\n",
       "           0.        ,   0.        ,   0.        ,   0.17889088,\n",
       "           0.17889088,   0.71556351,   1.07334526,   0.53667263,\n",
       "           0.53667263,   1.96779964,   0.89445438,   0.71556351,\n",
       "           0.71556351,   1.25223614,   1.07334526,   0.89445438,\n",
       "           0.35778175,   0.35778175,   0.53667263,   0.17889088,\n",
       "           0.        ,   0.        ],\n",
       "        [  0.        ,   0.        ,   0.        ,   0.        ,\n",
       "           0.        ,   0.        ,   0.        ,   0.        ,\n",
       "           0.17889088,   0.53667263,   0.35778175,   0.53667263,\n",
       "           2.3255814 ,   0.35778175,   0.71556351,   0.89445438,\n",
       "           0.35778175,   2.14669052,   1.43112701,   0.        ,\n",
       "           0.17889088,   0.71556351,   0.        ,   0.        ,\n",
       "           0.17889088,   0.        ],\n",
       "        [  0.        ,   0.        ,   0.        ,   0.        ,\n",
       "           0.        ,   0.        ,   0.        ,   0.17889088,\n",
       "           0.35778175,   1.43112701,   3.75670841,   4.83005367,\n",
       "           7.15563506,   8.4078712 ,   9.1234347 ,   7.69230769,\n",
       "           6.79785331,   8.4078712 ,   3.75670841,   3.0411449 ,\n",
       "           1.61001789,   1.61001789,   0.        ,   0.        ,\n",
       "           0.        ,   0.        ]]),\n",
       " array([  9.98132380e-02,   1.77495826e-01,   3.15637173e-01,\n",
       "          5.61291085e-01,   9.98132380e-01,   1.77495826e+00,\n",
       "          3.15637173e+00,   5.61291085e+00,   9.98132380e+00,\n",
       "          1.77495826e+01,   3.15637173e+01,   5.61291085e+01,\n",
       "          9.98132380e+01,   1.77495826e+02,   3.15637173e+02,\n",
       "          5.61291085e+02,   9.98132380e+02,   1.77495826e+03,\n",
       "          3.15637173e+03,   5.61291085e+03,   9.98132380e+03,\n",
       "          1.77495826e+04,   3.15637173e+04,   5.61291085e+04,\n",
       "          9.98132380e+04,   1.77495826e+05,   3.15637173e+05]),\n",
       " array([  0.03838959,   0.04832963,   0.0608434 ,   0.0765973 ,\n",
       "          0.09643029,   0.12139854,   0.15283171,   0.19240372,\n",
       "          0.24222193,   0.30493935,   0.38389589,   0.48329629,\n",
       "          0.60843399,   0.76597301,   0.96430288,   1.2139854 ,\n",
       "          1.52831707,   1.9240372 ,   2.42221932,   3.04939346,\n",
       "          3.83895892,   4.83296293,   6.08433985,   7.65973005,\n",
       "          9.64302881,  12.13985402]),\n",
       " <matplotlib.axes._subplots.AxesSubplot at 0x7f6f0dad29e8>)"
      ]
     },
     "execution_count": 21,
     "metadata": {},
     "output_type": "execute_result"
    }
   ],
   "source": [
    "plot_occurrence(rr, annotated=True)"
   ]
  },
  {
   "cell_type": "code",
   "execution_count": 128,
   "metadata": {
    "scrolled": false
   },
   "outputs": [
    {
     "name": "stdout",
     "output_type": "stream",
     "text": [
      "using only planets with status \"0\"\n",
      "Number of Systems: 559\n"
     ]
    },
    {
     "data": {
      "text/plain": [
       "Text(0.5,1,'J31 at $5\\\\cdot10^9 \\\\, \\\\mathrm{yr}$')"
      ]
     },
     "execution_count": 128,
     "metadata": {},
     "output_type": "execute_result"
    }
   ],
   "source": [
    "h, xedges, yedges, ax = plot_occurrence(rr, kind='hist', logColormap=True, yAxis='m', nBins=50)#, xRange=(1.,300), yRange=(0.5,32.))\n",
    "plt.title('J31 at $5\\cdot10^9 \\, \\mathrm{yr}$')\n",
    "# ax.set_xlabel('Orbital Period [d]')\n",
    "# ax.set_ylabel('test')\n",
    "# ax.set_ylabel('Planet Size [$\\\\mathrm{R_{Earth}}$]')"
   ]
  },
  {
   "cell_type": "code",
   "execution_count": null,
   "metadata": {
    "collapsed": true
   },
   "outputs": [],
   "source": [
    "ticklabels = [None, None]\n",
    "xedges = [1.,2.,3.,4.,5.]\n",
    "for dim, edges in enumerate([xedges]):\n",
    "    ticks = [\" \" for i in range(len(edges))]\n",
    "    print(ticks)\n",
    "    print(edges)\n",
    "    print(int(len(edges)/2))\n",
    "    keptTicks = edges[::int(len(edges)/2)]\n",
    "    ticks[::int(len(edges)/2)] = keptTicks\n",
    "    ticklabels[dim] = ticks\n",
    "print(ticklabels[0])"
   ]
  },
  {
   "cell_type": "markdown",
   "metadata": {},
   "source": [
    "### produce 2D histogram with annotations"
   ]
  },
  {
   "cell_type": "code",
   "execution_count": null,
   "metadata": {
    "collapsed": true
   },
   "outputs": [],
   "source": [
    "import seaborn as sns\n",
    "ax = sns.heatmap(h, annot=True, fmt=\".1f\")\n",
    "ax.invert_yaxis()\n",
    "\n",
    "#get ticks right\n",
    "ax.set(xticks=range(len(xedges)), xticklabels=xedges)\n",
    "\n"
   ]
  },
  {
   "cell_type": "markdown",
   "metadata": {
    "collapsed": true
   },
   "source": [
    "## occurrence maps for J35 (Mstar = 0.1 Msol)"
   ]
  },
  {
   "cell_type": "code",
   "execution_count": null,
   "metadata": {
    "collapsed": true
   },
   "outputs": [],
   "source": [
    "rr9e9 = read_ref_red('/home/schlecker/phd/planete/outputs/J35/ref_red9e9.dat')\n",
    "rr9e9 = get_orbitalPeriod(rr9e9, MstarRel=0.1)\n",
    "rr9e9.r.describe()"
   ]
  },
  {
   "cell_type": "code",
   "execution_count": null,
   "metadata": {
    "collapsed": true
   },
   "outputs": [],
   "source": [
    "rr9e9_sample = rr9e9.sample(600)\n",
    "rr9e9_sample.r.describe()"
   ]
  },
  {
   "cell_type": "code",
   "execution_count": null,
   "metadata": {
    "collapsed": true,
    "scrolled": true
   },
   "outputs": [],
   "source": [
    "h, xedges, yedges, ax = plot_occurrence(rr9e9_sample, logColormap=False, yAxis='r', discreteColors=False, xRange=(1.,300), yRange=(0.5,32.), smooth=False)\n",
    "plt.title('J35 at $9\\cdot10^9 \\, \\mathrm{yr}$')"
   ]
  },
  {
   "cell_type": "code",
   "execution_count": null,
   "metadata": {
    "collapsed": true
   },
   "outputs": [],
   "source": []
  }
 ],
 "metadata": {
  "kernelspec": {
   "display_name": "Python 3",
   "language": "python",
   "name": "python3"
  },
  "language_info": {
   "codemirror_mode": {
    "name": "ipython",
    "version": 3
   },
   "file_extension": ".py",
   "mimetype": "text/x-python",
   "name": "python",
   "nbconvert_exporter": "python",
   "pygments_lexer": "ipython3",
   "version": "3.6.3"
  }
 },
 "nbformat": 4,
 "nbformat_minor": 2
}
