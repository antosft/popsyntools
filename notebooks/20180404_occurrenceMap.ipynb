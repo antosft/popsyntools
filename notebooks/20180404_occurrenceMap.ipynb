{
 "cells": [
  {
   "cell_type": "code",
   "execution_count": 7,
   "metadata": {},
   "outputs": [
    {
     "name": "stdout",
     "output_type": "stream",
     "text": [
      "/home/schlecker/repos/planeteScripts\n"
     ]
    }
   ],
   "source": [
    "cd planeteScripts/"
   ]
  },
  {
   "cell_type": "code",
   "execution_count": 8,
   "metadata": {
    "collapsed": true
   },
   "outputs": [],
   "source": [
    "from planeteOutput import *\n",
    "from planetePlots import *\n",
    "import scipy.ndimage as nd\n",
    "import numpy as np\n",
    "import matplotlib.pyplot as plt"
   ]
  },
  {
   "cell_type": "code",
   "execution_count": 9,
   "metadata": {
    "collapsed": true
   },
   "outputs": [],
   "source": [
    "%load_ext autoreload\n",
    "%autoreload 2"
   ]
  },
  {
   "cell_type": "code",
   "execution_count": 12,
   "metadata": {
    "collapsed": true
   },
   "outputs": [],
   "source": [
    "file = 'zubehoer/ref_red5e9.dat_J31_11220'\n",
    "rr = read_ref_red(file)"
   ]
  },
  {
   "cell_type": "markdown",
   "metadata": {},
   "source": [
    "## A test for get_orbitalPeriod"
   ]
  },
  {
   "cell_type": "code",
   "execution_count": null,
   "metadata": {
    "collapsed": true,
    "scrolled": false
   },
   "outputs": [],
   "source": [
    "import pandas as pd\n",
    "\n",
    "MstarRel=1.0\n",
    "a_Earth = 1.\n",
    "a_Mars = 1.523662\n",
    "test = pd.DataFrame({'a' : [a_Earth, a_Mars]})\n",
    "get_orbitalPeriod(test, MstarRel)"
   ]
  },
  {
   "cell_type": "markdown",
   "metadata": {},
   "source": [
    "## Test compute_logbins(binWidth, Range)"
   ]
  },
  {
   "cell_type": "code",
   "execution_count": null,
   "metadata": {
    "collapsed": true
   },
   "outputs": [],
   "source": [
    "binWidth_dex = 1.0\n",
    "Range = (10., 1000.)\n",
    "compute_logbins(binWidth_dex, Range)"
   ]
  },
  {
   "cell_type": "markdown",
   "metadata": {},
   "source": [
    "## Produce occurrence map for J31 (Mstar = Msol)"
   ]
  },
  {
   "cell_type": "code",
   "execution_count": 13,
   "metadata": {
    "collapsed": true
   },
   "outputs": [],
   "source": [
    "rr = get_orbitalPeriod(rr, MstarRel=1.0)"
   ]
  },
  {
   "cell_type": "code",
   "execution_count": null,
   "metadata": {
    "collapsed": true
   },
   "outputs": [],
   "source": [
    "%pylab"
   ]
  },
  {
   "cell_type": "code",
   "execution_count": 15,
   "metadata": {},
   "outputs": [
    {
     "data": {
      "text/plain": [
       "count    4052.000000\n",
       "mean        2.844088\n",
       "std        31.574655\n",
       "min         0.065410\n",
       "25%         0.159622\n",
       "50%         0.309418\n",
       "75%         1.058463\n",
       "max      1322.580000\n",
       "Name: r, dtype: float64"
      ]
     },
     "execution_count": 15,
     "metadata": {},
     "output_type": "execute_result"
    }
   ],
   "source": [
    "j31Heavy = rr[rr['m'] > 1e0]\n",
    "j31Heavy.r.describe()"
   ]
  },
  {
   "cell_type": "code",
   "execution_count": 176,
   "metadata": {},
   "outputs": [
    {
     "name": "stdout",
     "output_type": "stream",
     "text": [
      "Using matplotlib backend: Qt5Agg\n",
      "Populating the interactive namespace from numpy and matplotlib\n"
     ]
    }
   ],
   "source": [
    "%pylab"
   ]
  },
  {
   "cell_type": "code",
   "execution_count": 188,
   "metadata": {
    "scrolled": false
   },
   "outputs": [
    {
     "name": "stdout",
     "output_type": "stream",
     "text": [
      "using only planets with status \"0\"\n",
      "Number of Systems: 559\n"
     ]
    },
    {
     "data": {
      "text/plain": [
       "Text(0.5,1,'J31 at $5\\\\cdot10^9 \\\\, \\\\mathrm{yr}$')"
      ]
     },
     "execution_count": 188,
     "metadata": {},
     "output_type": "execute_result"
    },
    {
     "name": "stderr",
     "output_type": "stream",
     "text": [
      "/home/schlecker/bin/anaconda3/lib/python3.6/site-packages/matplotlib/ticker.py:1016: UserWarning: Warning: converting a masked element to nan.\n",
      "  return '%-12g' % value\n"
     ]
    }
   ],
   "source": [
    "h, xedges, yedges, ax = plot_occurrence(rr, style='annotated', logColormap=False, yAxis='r', xRange=(1.,300), yRange=(0.5,32.))\n",
    "plt.title('J31 at $5\\cdot10^9 \\, \\mathrm{yr}$')"
   ]
  },
  {
   "cell_type": "code",
   "execution_count": 131,
   "metadata": {},
   "outputs": [
    {
     "name": "stdout",
     "output_type": "stream",
     "text": [
      "[' ', ' ', ' ', ' ', ' ']\n",
      "[1.0, 2.0, 3.0, 4.0, 5.0]\n",
      "2\n",
      "[1.0, ' ', 3.0, ' ', 5.0]\n"
     ]
    }
   ],
   "source": [
    "ticklabels = [None, None]\n",
    "xedges = [1.,2.,3.,4.,5.]\n",
    "for dim, edges in enumerate([xedges]):\n",
    "    ticks = [\" \" for i in range(len(edges))]\n",
    "    print(ticks)\n",
    "    print(edges)\n",
    "    print(int(len(edges)/2))\n",
    "    keptTicks = edges[::int(len(edges)/2)]\n",
    "    ticks[::int(len(edges)/2)] = keptTicks\n",
    "    ticklabels[dim] = ticks\n",
    "print(ticklabels[0])"
   ]
  },
  {
   "cell_type": "markdown",
   "metadata": {},
   "source": [
    "### produce 2D histogram with annotations"
   ]
  },
  {
   "cell_type": "code",
   "execution_count": 72,
   "metadata": {},
   "outputs": [
    {
     "data": {
      "text/plain": [
       "[[<matplotlib.axis.XTick at 0x7f40514e0748>,\n",
       "  <matplotlib.axis.XTick at 0x7f4051509f98>,\n",
       "  <matplotlib.axis.XTick at 0x7f4051428198>,\n",
       "  <matplotlib.axis.XTick at 0x7f405141bc88>,\n",
       "  <matplotlib.axis.XTick at 0x7f4051415b70>,\n",
       "  <matplotlib.axis.XTick at 0x7f4051407d68>,\n",
       "  <matplotlib.axis.XTick at 0x7f40513fb7f0>,\n",
       "  <matplotlib.axis.XTick at 0x7f40513ae860>,\n",
       "  <matplotlib.axis.XTick at 0x7f40513aee48>,\n",
       "  <matplotlib.axis.XTick at 0x7f40513c0588>,\n",
       "  <matplotlib.axis.XTick at 0x7f4051428208>],\n",
       " [Text(0.5,0,'1.0'),\n",
       "  Text(1.5,0,'1.77827941004'),\n",
       "  Text(2.5,0,'3.16227766017'),\n",
       "  Text(3.5,0,'5.6234132519'),\n",
       "  Text(4.5,0,'10.0'),\n",
       "  Text(5.5,0,'17.7827941004'),\n",
       "  Text(6.5,0,'31.6227766017'),\n",
       "  Text(7.5,0,'56.234132519'),\n",
       "  Text(8.5,0,'100.0'),\n",
       "  Text(9.5,0,'177.827941004'),\n",
       "  Text(0,0,'316.227766017')]]"
      ]
     },
     "execution_count": 72,
     "metadata": {},
     "output_type": "execute_result"
    },
    {
     "data": {
      "image/png": "[encoded data removed]",
      "text/plain": [
       "<matplotlib.figure.Figure at 0x7f40514e5668>"
      ]
     },
     "metadata": {},
     "output_type": "display_data"
    }
   ],
   "source": [
    "import seaborn as sns\n",
    "ax = sns.heatmap(h, annot=True, fmt=\".1f\")\n",
    "ax.invert_yaxis()\n",
    "\n",
    "#get ticks right\n",
    "ax.set(xticks=range(len(xedges)), xticklabels=xedges)\n",
    "\n"
   ]
  },
  {
   "cell_type": "markdown",
   "metadata": {
    "collapsed": true
   },
   "source": [
    "## occurrence maps for J35 (Mstar = 0.1 Msol)"
   ]
  },
  {
   "cell_type": "code",
   "execution_count": 577,
   "metadata": {},
   "outputs": [
    {
     "data": {
      "text/plain": [
       "count    25800.000000\n",
       "mean         0.196506\n",
       "std          0.760679\n",
       "min          0.000000\n",
       "25%          0.031644\n",
       "50%          0.055017\n",
       "75%          0.113029\n",
       "max         67.959500\n",
       "Name: r, dtype: float64"
      ]
     },
     "execution_count": 577,
     "metadata": {},
     "output_type": "execute_result"
    }
   ],
   "source": [
    "rr9e9 = read_ref_red('/home/schlecker/phd/planete/outputs/J35/ref_red9e9.dat')\n",
    "rr9e9 = get_orbitalPeriod(rr9e9, MstarRel=0.1)\n",
    "rr9e9.r.describe()"
   ]
  },
  {
   "cell_type": "code",
   "execution_count": 588,
   "metadata": {},
   "outputs": [
    {
     "data": {
      "text/plain": [
       "count    600.000000\n",
       "mean       0.196424\n",
       "std        0.490979\n",
       "min        0.020519\n",
       "25%        0.029786\n",
       "50%        0.051640\n",
       "75%        0.112112\n",
       "max        4.394430\n",
       "Name: r, dtype: float64"
      ]
     },
     "execution_count": 588,
     "metadata": {},
     "output_type": "execute_result"
    }
   ],
   "source": [
    "rr9e9_sample = rr9e9.sample(600)\n",
    "rr9e9_sample.r.describe()"
   ]
  },
  {
   "cell_type": "code",
   "execution_count": 590,
   "metadata": {
    "scrolled": true
   },
   "outputs": [
    {
     "name": "stdout",
     "output_type": "stream",
     "text": [
      "using only planets with status \"0\"\n",
      "Number of Systems: 235\n"
     ]
    },
    {
     "data": {
      "text/plain": [
       "Text(0.5,1,'J35 at $9\\\\cdot10^9 \\\\, \\\\mathrm{yr}$')"
      ]
     },
     "execution_count": 590,
     "metadata": {},
     "output_type": "execute_result"
    }
   ],
   "source": [
    "h, xedges, yedges, ax = plot_occurrence(rr9e9_sample, logColormap=False, yAxis='r', discreteColors=False, xRange=(1.,300), yRange=(0.5,32.), smooth=False)\n",
    "plt.title('J35 at $9\\cdot10^9 \\, \\mathrm{yr}$')"
   ]
  },
  {
   "cell_type": "code",
   "execution_count": null,
   "metadata": {
    "collapsed": true
   },
   "outputs": [],
   "source": []
  }
 ],
 "metadata": {
  "kernelspec": {
   "display_name": "Python 3",
   "language": "python",
   "name": "python3"
  },
  "language_info": {
   "codemirror_mode": {
    "name": "ipython",
    "version": 3
   },
   "file_extension": ".py",
   "mimetype": "text/x-python",
   "name": "python",
   "nbconvert_exporter": "python",
   "pygments_lexer": "ipython3",
   "version": "3.6.3"
  }
 },
 "nbformat": 4,
 "nbformat_minor": 2
}
