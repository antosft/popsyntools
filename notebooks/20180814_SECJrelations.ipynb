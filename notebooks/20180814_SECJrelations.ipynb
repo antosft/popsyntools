{
 "cells": [
  {
   "cell_type": "markdown",
   "metadata": {},
   "source": [
    "# Package imports and preparations"
   ]
  },
  {
   "cell_type": "code",
   "execution_count": 35,
   "metadata": {},
   "outputs": [
    {
     "name": "stdout",
     "output_type": "stream",
     "text": [
      "/home/schlecker/repos/planeteScripts\n"
     ]
    }
   ],
   "source": [
    "cd /home/schlecker/repos/planeteScripts"
   ]
  },
  {
   "cell_type": "code",
   "execution_count": 36,
   "metadata": {},
   "outputs": [
    {
     "name": "stdout",
     "output_type": "stream",
     "text": [
      "The autoreload extension is already loaded. To reload it, use:\n",
      "  %reload_ext autoreload\n"
     ]
    }
   ],
   "source": [
    "import numpy as np\n",
    "import pandas as pd\n",
    "import seaborn as sns\n",
    "import matplotlib.pyplot as plt\n",
    "\n",
    "import output\n",
    "import plots\n",
    "import stats\n",
    "import utils\n",
    "\n",
    "%load_ext autoreload\n",
    "%autoreload 2\n",
    "\n",
    "# default output folder\n",
    "outputs = '/home/schlecker/phd/planete/outputs/'\n",
    "\n",
    "# show more columns in pandas data frames\n",
    "pd.set_option('display.max_columns', 500)"
   ]
  },
  {
   "cell_type": "markdown",
   "metadata": {},
   "source": [
    "### Read in the data\n",
    "We look at the system at t=5*10^9 yr.\n",
    "- read this snapshot\n",
    "- compute orbital period from Mstar and sma\n",
    "- for each system, draw Msin(i)\n",
    "- count the initial number of systems"
   ]
  },
  {
   "cell_type": "code",
   "execution_count": 37,
   "metadata": {
    "collapsed": true
   },
   "outputs": [],
   "source": [
    "rr5e9 = outputs + 'J34/ref_red5e9.dat'\n",
    "j34 = output.Population(rr5e9)\n",
    "pop = j34.data"
   ]
  },
  {
   "cell_type": "code",
   "execution_count": 38,
   "metadata": {
    "collapsed": true
   },
   "outputs": [],
   "source": [
    "# this is slow. \n",
    "pop['msini'] = np.nan\n",
    "for i in pop.isystem:\n",
    "    pop.loc[pop.isystem == i, 'msini'] = utils.get_sini()*pop[pop.isystem == i]['m']"
   ]
  },
  {
   "cell_type": "code",
   "execution_count": 39,
   "metadata": {},
   "outputs": [
    {
     "name": "stdout",
     "output_type": "stream",
     "text": [
      "number of systems in this population: 972\n"
     ]
    }
   ],
   "source": [
    "pop = utils.get_orbitalPeriod(pop, MstarRel=1.)\n",
    "Nsystems_initial = pop.isystem.nunique()\n",
    "print(\"number of systems in this population: {}\".format(Nsystems_initial))"
   ]
  },
  {
   "cell_type": "code",
   "execution_count": 40,
   "metadata": {},
   "outputs": [
    {
     "data": {
      "text/plain": [
       "count    48600.000000\n",
       "mean        21.252596\n",
       "std        273.069810\n",
       "min          0.000060\n",
       "25%          0.054639\n",
       "50%          0.223008\n",
       "75%          0.831225\n",
       "max      14498.561681\n",
       "Name: msini, dtype: float64"
      ]
     },
     "execution_count": 40,
     "metadata": {},
     "output_type": "execute_result"
    }
   ],
   "source": [
    "pop['msini'].describe()"
   ]
  },
  {
   "cell_type": "markdown",
   "metadata": {
    "collapsed": true
   },
   "source": [
    "# General occurrences \n",
    "In this section, we investigate occurrences of the synthetic population in planet size/orbital period"
   ]
  },
  {
   "cell_type": "code",
   "execution_count": 41,
   "metadata": {},
   "outputs": [
    {
     "data": {
      "text/plain": [
       "count    48600.000000\n",
       "mean        14.878256\n",
       "std        184.485501\n",
       "min          0.038336\n",
       "25%          0.498626\n",
       "50%          0.931980\n",
       "75%          2.485066\n",
       "max       9546.663622\n",
       "Name: r, dtype: float64"
      ]
     },
     "execution_count": 41,
     "metadata": {},
     "output_type": "execute_result"
    }
   ],
   "source": [
    "pop.r_rEarth = utils.r_Jup2r_Earth(pop['r'])\n",
    "pop.r_rEarth.describe()"
   ]
  },
  {
   "cell_type": "code",
   "execution_count": 44,
   "metadata": {},
   "outputs": [
    {
     "name": "stdout",
     "output_type": "stream",
     "text": [
      "using only planets with status \"0\"\n",
      "Number of Systems: 972\n"
     ]
    },
    {
     "data": {
      "text/plain": [
       "Text(0.5,0,'Orbital Period [d]')"
      ]
     },
     "execution_count": 44,
     "metadata": {},
     "output_type": "execute_result"
    },
    {
     "data": {
      "image/png": "[encoded data removed]",
      "text/plain": [
       "<matplotlib.figure.Figure at 0x7f1aac3607b8>"
      ]
     },
     "metadata": {},
     "output_type": "display_data"
    }
   ],
   "source": [
    "fig, ax = plt.subplots()\n",
    "J34occ = plots.plot_occurrence(pop, ax=ax, xRange=(1.,300.), yRange=(0.5, 200.), kind='annotate', binWidth_dex=(0.25, 0.1), logColormap=True)\n",
    "\n",
    "# workaround for axis labels\n",
    "J34occ[3].set_xlabel('Orbital Period [d]')\n",
    "# J34occ[3].annotate('Planet Size [$\\mathrm{R_{Earth}}$]', xy=(0.05,0.5), xytext=(0.02, 0.5), xycoords='figure fraction', textcoords='figure fraction', rotation=90, verticalalignment='center', size='larger')"
   ]
  },
  {
   "cell_type": "code",
   "execution_count": 45,
   "metadata": {
    "collapsed": true
   },
   "outputs": [],
   "source": [
    "# save as eps to avoid white lines between histogram cells\n",
    "fig.savefig(outputs + 'J34/j34occurrence.eps')"
   ]
  },
  {
   "cell_type": "markdown",
   "metadata": {
    "collapsed": true
   },
   "source": [
    "# Occurrences of different planet types"
   ]
  },
  {
   "cell_type": "markdown",
   "metadata": {},
   "source": [
    "We categorize planets into Super Earths (SE) or Cold Jupiters (CJ) according to the rules in Zhu & Wu 2018 (including the requirement for RV semi-amplitude K > 3 m/s)"
   ]
  },
  {
   "cell_type": "code",
   "execution_count": 50,
   "metadata": {
    "scrolled": false
   },
   "outputs": [
    {
     "name": "stdout",
     "output_type": "stream",
     "text": [
      "giant mass Mgiant = 95.0\n",
      "number of planets: 26919\n",
      "number of ejected planets: 1349\n",
      "Number of planets more massive than M_Earth: 6095\n",
      "Number of planets more massive than M_Earth and ejected: 842\n",
      "Number of planets more massive than M_giant: 629\n",
      "Number of planets more massive than M_giant and ejected: 29\n"
     ]
    }
   ],
   "source": [
    "pop = stats.categorizePlanets(pop, ZhuWu18=True)\n",
    "stats.print_categories(pop, Mgiant=95.)\n",
    "Nsystems = pop.isystem.nunique()"
   ]
  },
  {
   "cell_type": "markdown",
   "metadata": {},
   "source": [
    "just quickly checking the radius distribution (in Jupiter radii!) of the giants"
   ]
  },
  {
   "cell_type": "code",
   "execution_count": 51,
   "metadata": {},
   "outputs": [
    {
     "data": {
      "text/plain": [
       "<matplotlib.axes._subplots.AxesSubplot at 0x7f1ab8ec4da0>"
      ]
     },
     "execution_count": 51,
     "metadata": {},
     "output_type": "execute_result"
    },
    {
     "data": {
      "image/png": "[encoded data removed]",
      "text/plain": [
       "<matplotlib.figure.Figure at 0x7f1ab966e470>"
      ]
     },
     "metadata": {},
     "output_type": "display_data"
    }
   ],
   "source": [
    "pop[(pop.r < 10) & (pop.r > 0.5)].r.hist(bins=40)"
   ]
  },
  {
   "cell_type": "markdown",
   "metadata": {},
   "source": [
    "Extract CJ and SE from the population; count them"
   ]
  },
  {
   "cell_type": "code",
   "execution_count": 52,
   "metadata": {},
   "outputs": [
    {
     "name": "stdout",
     "output_type": "stream",
     "text": [
      "number of SE: 1104\n",
      "number of CJ: 238\n",
      "number of systems with SE: 396\n",
      "number of systems with CJ: 188\n"
     ]
    }
   ],
   "source": [
    "j34CJ = pop[pop['planetType'] == 'ColdJupiter']\n",
    "j34SE = pop[pop['planetType'] == 'SuperEarth']\n",
    "print('number of SE: {}'.format(len(j34SE)))\n",
    "print('number of CJ: {}'.format(len(j34CJ)))\n",
    "print('number of systems with SE: {}'.format(pop[pop['planetType'] == 'SuperEarth'].isystem.nunique()))\n",
    "print('number of systems with CJ: {}'.format(pop[pop['planetType'] == 'ColdJupiter'].isystem.nunique()))"
   ]
  },
  {
   "cell_type": "markdown",
   "metadata": {},
   "source": [
    "check if the CJ really are CJ"
   ]
  },
  {
   "cell_type": "code",
   "execution_count": null,
   "metadata": {
    "collapsed": true
   },
   "outputs": [],
   "source": [
    "j34CJ.r.describe()"
   ]
  },
  {
   "cell_type": "code",
   "execution_count": null,
   "metadata": {
    "collapsed": true
   },
   "outputs": [],
   "source": [
    "j34CJ.plot.scatter('period', 'r')"
   ]
  },
  {
   "cell_type": "markdown",
   "metadata": {},
   "source": [
    "the CJs are not very large, in fact they never go beyond ~1.1 Rjup."
   ]
  },
  {
   "cell_type": "markdown",
   "metadata": {},
   "source": [
    "# Occurrence Probabilities\n",
    "### Probabilities of having a SE/CJ"
   ]
  },
  {
   "cell_type": "code",
   "execution_count": null,
   "metadata": {
    "collapsed": true
   },
   "outputs": [],
   "source": [
    "P_SE = j34SE.isystem.nunique()/Nsystems\n",
    "P_CJ = j34CJ.isystem.nunique()/Nsystems\n",
    "print(P_SE)\n",
    "print(P_CJ)"
   ]
  },
  {
   "cell_type": "markdown",
   "metadata": {},
   "source": [
    "### Probability of having neither a SE nor a CJ"
   ]
  },
  {
   "cell_type": "code",
   "execution_count": null,
   "metadata": {
    "collapsed": true,
    "scrolled": false
   },
   "outputs": [],
   "source": [
    "# create a mask that is True where there is either type of planet\n",
    "SEorCJmask = {i: ((group['planetType'] == 'SuperEarth').any() | (group['planetType'] == 'ColdJupiter').any()) \n",
    "              for i, group in pop.groupby('isystem')}\n",
    "NnoSEnoCJ = sum([not i for i in SEorCJmask.values()]); print(NnoSEnoCJ)\n",
    "P_noSEnoCJ = NnoSEnoCJ/Nsystems; print(P_noSEnoCJ)"
   ]
  },
  {
   "cell_type": "markdown",
   "metadata": {},
   "source": [
    "that is quite a high rate of noSEnoCJ. Let's check with an independent second count"
   ]
  },
  {
   "cell_type": "code",
   "execution_count": null,
   "metadata": {
    "collapsed": true
   },
   "outputs": [],
   "source": [
    "NnoSEnoCJ_2 = 0\n",
    "for i, group in pop.groupby('isystem'):\n",
    "    if (not 'ColdJupiter' in group.planetType.values) and (not 'SuperEarth' in group.planetType.values):\n",
    "        NnoSEnoCJ_2 += 1\n",
    "NnoSEnoCJ_2"
   ]
  },
  {
   "cell_type": "markdown",
   "metadata": {},
   "source": [
    "OK, it is consistent."
   ]
  },
  {
   "cell_type": "markdown",
   "metadata": {},
   "source": [
    "### Probability of having both a SE *and* a CJ"
   ]
  },
  {
   "cell_type": "code",
   "execution_count": null,
   "metadata": {
    "collapsed": true,
    "scrolled": true
   },
   "outputs": [],
   "source": [
    "SEandCJmask = {i: ((group['planetType'] == 'SuperEarth').any() & (group['planetType'] == 'ColdJupiter').any()) \n",
    "               for i, group in pop.groupby('isystem')}\n",
    "N_SEandCJ = sum([i for i in SEandCJmask.values()]); print(N_SEandCJ)\n",
    "P_SEandCJ = N_SEandCJ/Nsystems; print(P_SEandCJ)"
   ]
  },
  {
   "cell_type": "markdown",
   "metadata": {},
   "source": [
    "### Probability of having at least oneSE but _no_ CJ"
   ]
  },
  {
   "cell_type": "code",
   "execution_count": null,
   "metadata": {
    "collapsed": true
   },
   "outputs": [],
   "source": [
    "SEnoCJmask = {i: ((group['planetType'] == 'SuperEarth').any() & ~(group['planetType'] == 'ColdJupiter').any()) \n",
    "              for i, group in pop.groupby('isystem')}\n",
    "N_SEnoCJ = sum([i for i in SEnoCJmask.values()]); print(N_SEnoCJ)\n",
    "P_SEnoCJ = N_SEnoCJ/Nsystems; print(P_SEnoCJ)"
   ]
  },
  {
   "cell_type": "markdown",
   "metadata": {},
   "source": [
    "### Probability of having _no_ SE but at least one CJ"
   ]
  },
  {
   "cell_type": "code",
   "execution_count": null,
   "metadata": {
    "collapsed": true
   },
   "outputs": [],
   "source": [
    "noSECJmask = {i: (~(group['planetType'] == 'SuperEarth').any() & (group['planetType'] == 'ColdJupiter').any()) \n",
    "              for i, group in pop.groupby('isystem')}\n",
    "N_noSECJ = sum([i for i in noSECJmask.values()]); print(N_noSECJ)\n",
    "P_noSECJ = N_noSECJ/Nsystems; print(P_noSECJ)"
   ]
  },
  {
   "cell_type": "markdown",
   "metadata": {},
   "source": [
    "consistency check:"
   ]
  },
  {
   "cell_type": "code",
   "execution_count": null,
   "metadata": {
    "collapsed": true,
    "scrolled": true
   },
   "outputs": [],
   "source": [
    "print(P_noSECJ + P_SEnoCJ + P_noSEnoCJ + P_SEandCJ)"
   ]
  },
  {
   "cell_type": "markdown",
   "metadata": {
    "collapsed": true
   },
   "source": [
    "## Conditional probabilities"
   ]
  },
  {
   "cell_type": "code",
   "execution_count": null,
   "metadata": {
    "collapsed": true
   },
   "outputs": [],
   "source": [
    "len(pop[pop['planetType'] == 'ColdJupiter'].isystem.unique())"
   ]
  },
  {
   "cell_type": "code",
   "execution_count": null,
   "metadata": {
    "collapsed": true
   },
   "outputs": [],
   "source": [
    "# def get_probs(pop, uniqueSystem=True):\n",
    "#     \"\"\" Calculate probabilities for certain planet types.\n",
    "    \n",
    "#     Parameters\n",
    "#     ----------\n",
    "#     pop : pandas DataFrame\n",
    "#         population or subpopulation of planets. \n",
    "#         Can be multi-planet systems (has to include a column 'isystem')\n",
    "#     uniqueSystem : Bool\n",
    "#         get probabilities for unique systems, not just considering the whole \n",
    "#         bunch of planets\n",
    "#     \"\"\"\n",
    "#     Nsystems = pop.isystem.nunique()    \n",
    "#     Nplanets = len(pop)\n",
    "    \n",
    "#     j34CJ = pop[pop['planetType'] == 'ColdJupiter']\n",
    "#     j34SE = pop[pop['planetType'] == 'SuperEarth']\n",
    "    \n",
    "#     # get systems containing >=1 SE/CJ\n",
    "#     CJsystemNo = pop[pop['planetType'] == 'ColdJupiter'].isystem.unique()\n",
    "#     SEsystemNo = pop[pop['planetType'] == 'SuperEarth'].isystem.unique()   \n",
    "#     CJsystems = pop[pop.isystem.isin(CJsystemNo)]\n",
    "#     SEsystems = pop[pop.isystem.isin(SEsystemNo)]\n",
    "    \n",
    "#     # P(SE|CJ)\n",
    "    \n",
    "    "
   ]
  },
  {
   "cell_type": "code",
   "execution_count": null,
   "metadata": {
    "collapsed": true
   },
   "outputs": [],
   "source": [
    "CJsystemNo = pop[pop['planetType'] == 'ColdJupiter'].isystem.unique()\n",
    "SEsystemNo = pop[pop['planetType'] == 'SuperEarth'].isystem.unique()   \n",
    "CJsystems = pop[pop.isystem.isin(CJsystemNo)]\n",
    "SEsystems = pop[pop.isystem.isin(SEsystemNo)]\n",
    "N_CJsystems = CJsystems.isystem.nunique()\n",
    "N_SEsystems = SEsystems.isystem.nunique()"
   ]
  },
  {
   "cell_type": "markdown",
   "metadata": {},
   "source": [
    "### What is the probability to have at least one SE(CJ) in a system with at leat one CJ(SE)?"
   ]
  },
  {
   "cell_type": "code",
   "execution_count": null,
   "metadata": {
    "collapsed": true
   },
   "outputs": [],
   "source": [
    "SEsInCJsystemsNo = CJsystems[CJsystems['planetType'] == 'SuperEarth'].isystem.unique()\n",
    "CJsInSEsystemsNo = SEsystems[SEsystems['planetType'] == 'ColdJupiter'].isystem.unique()\n",
    "SEsInCJsystems = CJsystems[CJsystems.isystem.isin(SEsInCJsystemsNo)]\n",
    "CJsInSEsystems = SEsystems[SEsystems.isystem.isin(CJsInSEsystemsNo)]\n",
    "N_SEsInCJsystems = SEsInCJsystems.isystem.nunique()\n",
    "N_CJsInSEsystems = CJsInSEsystems.isystem.nunique()"
   ]
  },
  {
   "cell_type": "markdown",
   "metadata": {},
   "source": [
    "these two sets should be the same, let's check this"
   ]
  },
  {
   "cell_type": "code",
   "execution_count": null,
   "metadata": {
    "collapsed": true
   },
   "outputs": [],
   "source": [
    "SEsInCJsystems.equals(CJsInSEsystems)"
   ]
  },
  {
   "cell_type": "markdown",
   "metadata": {},
   "source": [
    "Compute P(SE|CJ) and P(CJ|SE)"
   ]
  },
  {
   "cell_type": "code",
   "execution_count": null,
   "metadata": {
    "collapsed": true
   },
   "outputs": [],
   "source": [
    "P_CJSE = N_CJsInSEsystems/N_SEsystems; print(P_CJSE)\n",
    "\n",
    "P_SECJ = N_SEsInCJsystems/N_CJsystems; print(P_SECJ)"
   ]
  },
  {
   "cell_type": "markdown",
   "metadata": {},
   "source": [
    "P(CJ|SE) is consistent with Zu&Wu, P(SE|CJ) is not (they find 0.9+=0.2, although in an indirect approach imposing Bayes' theorem)\n",
    "___________________________\n",
    "Compute P(noSE|CJ), i.e. the probability to have no SE in systems with at least one CJ (as in the Solar System)\n",
    "\n",
    "and P(noCJ|SE)"
   ]
  },
  {
   "cell_type": "code",
   "execution_count": null,
   "metadata": {
    "collapsed": true
   },
   "outputs": [],
   "source": [
    "noSEsInCJsystems = CJsystems[~CJsystems.isystem.isin(SEsInCJsystemsNo)]\n",
    "noCJsInSEsystems = SEsystems[~SEsystems.isystem.isin(CJsInSEsystemsNo)]\n",
    "N_noSEsInCJsystems = noSEsInCJsystems.isystem.nunique()\n",
    "N_noCJsInSEsystems = noCJsInSEsystems.isystem.nunique()"
   ]
  },
  {
   "cell_type": "code",
   "execution_count": null,
   "metadata": {
    "collapsed": true,
    "scrolled": true
   },
   "outputs": [],
   "source": [
    "P_noSECJ = N_noSEsInCJsystems/N_CJsystems; print(P_noSECJ)\n",
    "P_noCJSE = N_noCJsInSEsystems/N_SEsystems; print(P_noCJSE)"
   ]
  },
  {
   "cell_type": "markdown",
   "metadata": {
    "collapsed": true
   },
   "source": [
    "Confirm P(noSE|CJ) with a different method"
   ]
  },
  {
   "cell_type": "code",
   "execution_count": null,
   "metadata": {
    "collapsed": true
   },
   "outputs": [],
   "source": [
    "N_CJsystems2 = 0\n",
    "N_noSEinCJsystem = 0\n",
    "for i, group in pop.groupby('isystem'):\n",
    "    if (group.planetType == 'ColdJupiter').any():\n",
    "        N_CJsystems2 += 1\n",
    "        if not (group.planetType == 'SuperEarth').any():\n",
    "            N_noSEinCJsystem += 1\n",
    "print(N_noSEinCJsystem/N_CJsystems2)"
   ]
  },
  {
   "cell_type": "code",
   "execution_count": null,
   "metadata": {
    "collapsed": true
   },
   "outputs": [],
   "source": [
    "Nsystems"
   ]
  },
  {
   "cell_type": "code",
   "execution_count": null,
   "metadata": {
    "collapsed": true
   },
   "outputs": [],
   "source": [
    "# test msini dist\n",
    "m = 1*np.ones(10000)\n",
    "msini= utils.get_msini(m)\n",
    "H = sns.distplot(msini)"
   ]
  },
  {
   "cell_type": "code",
   "execution_count": null,
   "metadata": {
    "collapsed": true
   },
   "outputs": [],
   "source": [
    "i = np.linspace(0.,np.pi/2, len(m))\n",
    "plt.plot(i, np.sin(i))\n",
    "\n",
    "fi = np.arcsin(utils.get_msini(m))\n",
    "plt.hist(fi, normed=True)"
   ]
  },
  {
   "cell_type": "code",
   "execution_count": null,
   "metadata": {
    "collapsed": true
   },
   "outputs": [],
   "source": []
  }
 ],
 "metadata": {
  "kernelspec": {
   "display_name": "Python 3",
   "language": "python",
   "name": "python3"
  },
  "language_info": {
   "codemirror_mode": {
    "name": "ipython",
    "version": 3
   },
   "file_extension": ".py",
   "mimetype": "text/x-python",
   "name": "python",
   "nbconvert_exporter": "python",
   "pygments_lexer": "ipython3",
   "version": "3.6.3"
  }
 },
 "nbformat": 4,
 "nbformat_minor": 2
}
