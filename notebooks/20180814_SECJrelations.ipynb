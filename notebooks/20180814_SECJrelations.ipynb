{
 "cells": [
  {
   "cell_type": "markdown",
   "metadata": {},
   "source": [
    "# Package imports and preparations"
   ]
  },
  {
   "cell_type": "code",
   "execution_count": 1,
   "metadata": {},
   "outputs": [
    {
     "name": "stdout",
     "output_type": "stream",
     "text": [
      "/home/schlecker/repos/planeteScripts\n"
     ]
    }
   ],
   "source": [
    "cd /home/schlecker/repos/planeteScripts"
   ]
  },
  {
   "cell_type": "code",
   "execution_count": 2,
   "metadata": {
    "collapsed": true
   },
   "outputs": [],
   "source": [
    "import numpy as np\n",
    "import pandas as pd\n",
    "import matplotlib.pyplot as plt\n",
    "\n",
    "import output\n",
    "import plots\n",
    "import stats\n",
    "import utils\n",
    "\n",
    "%load_ext autoreload\n",
    "%autoreload 2\n",
    "\n",
    "# default output folder\n",
    "outputs = '/home/schlecker/phd/planete/outputs/'\n",
    "\n",
    "# show more columns in pandas data frames\n",
    "pd.set_option('display.max_columns', 500)"
   ]
  },
  {
   "cell_type": "markdown",
   "metadata": {},
   "source": [
    "### Read in the data\n",
    "We look at the system at t=5*10^9 yr."
   ]
  },
  {
   "cell_type": "code",
   "execution_count": 3,
   "metadata": {
    "collapsed": true
   },
   "outputs": [],
   "source": [
    "rr5e9 = outputs + 'J34/ref_red5e9.dat'\n",
    "j34 = output.Population(rr5e9)"
   ]
  },
  {
   "cell_type": "code",
   "execution_count": 6,
   "metadata": {},
   "outputs": [
    {
     "name": "stdout",
     "output_type": "stream",
     "text": [
      "number of systems in this population: 972\n"
     ]
    }
   ],
   "source": [
    "j34.data = utils.get_orbitalPeriod(j34.data, MstarRel=1.)\n",
    "Nsystems_initial = j34.data.isystem.nunique()\n",
    "print(\"number of systems in this population: {}\".format(Nsystems_initial))"
   ]
  },
  {
   "cell_type": "markdown",
   "metadata": {
    "collapsed": true
   },
   "source": [
    "# General occurrences \n",
    "In this section, we investigate occurrences of the synthetic population in planet size/orbital period"
   ]
  },
  {
   "cell_type": "code",
   "execution_count": 7,
   "metadata": {},
   "outputs": [
    {
     "data": {
      "text/plain": [
       "count    48600.000000\n",
       "mean        14.878256\n",
       "std        184.485501\n",
       "min          0.038336\n",
       "25%          0.498626\n",
       "50%          0.931980\n",
       "75%          2.485066\n",
       "max       9546.663622\n",
       "Name: r, dtype: float64"
      ]
     },
     "execution_count": 7,
     "metadata": {},
     "output_type": "execute_result"
    }
   ],
   "source": [
    "j34.data.r_rEarth = utils.r_Jup2r_Earth(j34.data['r'])\n",
    "j34.data.r_rEarth.describe()"
   ]
  },
  {
   "cell_type": "code",
   "execution_count": 28,
   "metadata": {},
   "outputs": [
    {
     "name": "stdout",
     "output_type": "stream",
     "text": [
      "using only planets with status \"0\"\n",
      "Number of Systems: 972\n"
     ]
    },
    {
     "data": {
      "text/plain": [
       "Text(0.02,0.5,'Planet Size [$\\\\mathrm{R_{Earth}}$]')"
      ]
     },
     "execution_count": 28,
     "metadata": {},
     "output_type": "execute_result"
    },
    {
     "data": {
      "image/png": "[encoded data removed]",
      "text/plain": [
       "<matplotlib.figure.Figure at 0x7f75f4f18048>"
      ]
     },
     "metadata": {},
     "output_type": "display_data"
    }
   ],
   "source": [
    "fig, ax = plt.subplots()\n",
    "J34occ = plots.plot_occurrence(j34.data, ax=ax, xRange=(1.,300.), yRange=(0.5, 200.), kind='annotate', binWidth_dex=(0.25, 0.1), logColormap=True)\n",
    "\n",
    "# workaround for axis labels\n",
    "J34occ[3].set_xlabel('Orbital Period [d]')\n",
    "J34occ[3].annotate('Planet Size [$\\mathrm{R_{Earth}}$]', xy=(0.05,0.5), xytext=(0.02, 0.5), xycoords='figure fraction', textcoords='figure fraction', rotation=90, verticalalignment='center', size='larger')"
   ]
  },
  {
   "cell_type": "code",
   "execution_count": 9,
   "metadata": {
    "collapsed": true
   },
   "outputs": [],
   "source": [
    "# save as eps to avoid white lines between histogram cells\n",
    "fig.savefig(outputs + 'J34/j34occurrence.eps')"
   ]
  },
  {
   "cell_type": "markdown",
   "metadata": {
    "collapsed": true
   },
   "source": [
    "# Occurrences of different planet types"
   ]
  },
  {
   "cell_type": "markdown",
   "metadata": {},
   "source": [
    "We categorize planets into Super Earths (SE) or Cold Jupiters (CJ) according to the rules in Zhu & Wu 2018 (including the requirement for RV semi-amplitude K > 3 m/s)"
   ]
  },
  {
   "cell_type": "code",
   "execution_count": 10,
   "metadata": {
    "collapsed": true
   },
   "outputs": [],
   "source": [
    "pop = j34.data"
   ]
  },
  {
   "cell_type": "code",
   "execution_count": 11,
   "metadata": {
    "scrolled": false
   },
   "outputs": [
    {
     "name": "stdout",
     "output_type": "stream",
     "text": [
      "adding RV semi-amplitude using Mstar = 1.0 Msol.\n",
      "giant mass Mgiant = 95.0\n",
      "number of planets: 26919\n",
      "number of ejected planets: 1349\n",
      "Number of planets more massive than M_Earth: 6095\n",
      "Number of planets more massive than M_Earth and ejected: 842\n",
      "Number of planets more massive than M_giant: 629\n",
      "Number of planets more massive than M_giant and ejected: 29\n"
     ]
    }
   ],
   "source": [
    "pop = stats.categorizePlanets(pop, ZhuWu18=True)\n",
    "stats.print_categories(pop, Mgiant=95.)\n",
    "Nsystems = pop.isystem.nunique()"
   ]
  },
  {
   "cell_type": "markdown",
   "metadata": {},
   "source": [
    "just quickly checking the radius distribution (in Jupiter radii!) of the giants"
   ]
  },
  {
   "cell_type": "code",
   "execution_count": 12,
   "metadata": {},
   "outputs": [
    {
     "data": {
      "text/plain": [
       "<matplotlib.axes._subplots.AxesSubplot at 0x7f75f50b84e0>"
      ]
     },
     "execution_count": 12,
     "metadata": {},
     "output_type": "execute_result"
    },
    {
     "data": {
      "image/png": "[encoded data removed]",
      "text/plain": [
       "<matplotlib.figure.Figure at 0x7f75f53399e8>"
      ]
     },
     "metadata": {},
     "output_type": "display_data"
    }
   ],
   "source": [
    "pop[(pop.r < 10) & (pop.r > 0.5)].r.hist(bins=40)"
   ]
  },
  {
   "cell_type": "markdown",
   "metadata": {},
   "source": [
    "Extract CJ and SE from the population; count them"
   ]
  },
  {
   "cell_type": "code",
   "execution_count": 13,
   "metadata": {},
   "outputs": [
    {
     "name": "stdout",
     "output_type": "stream",
     "text": [
      "number of SE: 818\n",
      "number of CJ: 238\n",
      "number of systems with SE: 345\n",
      "number of systems with CJ: 188\n"
     ]
    }
   ],
   "source": [
    "j34CJ = pop[pop['planetType'] == 'ColdJupiter']\n",
    "j34SE = pop[pop['planetType'] == 'SuperEarth']\n",
    "print('number of SE: {}'.format(len(j34SE)))\n",
    "print('number of CJ: {}'.format(len(j34CJ)))\n",
    "print('number of systems with SE: {}'.format(pop[pop['planetType'] == 'SuperEarth'].isystem.nunique()))\n",
    "print('number of systems with CJ: {}'.format(pop[pop['planetType'] == 'ColdJupiter'].isystem.nunique()))"
   ]
  },
  {
   "cell_type": "markdown",
   "metadata": {},
   "source": [
    "check if the CJ really are CJ"
   ]
  },
  {
   "cell_type": "code",
   "execution_count": 14,
   "metadata": {},
   "outputs": [
    {
     "data": {
      "text/plain": [
       "count    238.000000\n",
       "mean       1.017564\n",
       "std        0.054939\n",
       "min        0.808987\n",
       "25%        0.985246\n",
       "50%        1.033905\n",
       "75%        1.060480\n",
       "max        1.083660\n",
       "Name: r, dtype: float64"
      ]
     },
     "execution_count": 14,
     "metadata": {},
     "output_type": "execute_result"
    }
   ],
   "source": [
    "j34CJ.r.describe()"
   ]
  },
  {
   "cell_type": "code",
   "execution_count": 15,
   "metadata": {},
   "outputs": [
    {
     "data": {
      "text/plain": [
       "<matplotlib.axes._subplots.AxesSubplot at 0x7f75f50ea5f8>"
      ]
     },
     "execution_count": 15,
     "metadata": {},
     "output_type": "execute_result"
    },
    {
     "data": {
      "image/png": "[encoded data removed]",
      "text/plain": [
       "<matplotlib.figure.Figure at 0x7f75f85f7be0>"
      ]
     },
     "metadata": {},
     "output_type": "display_data"
    }
   ],
   "source": [
    "j34CJ.plot.scatter('period', 'r')"
   ]
  },
  {
   "cell_type": "markdown",
   "metadata": {},
   "source": [
    "the CJs are not very large, in fact they never go beyond ~1.1 Rjup."
   ]
  },
  {
   "cell_type": "markdown",
   "metadata": {},
   "source": [
    "# Occurrence Probabilities\n",
    "### Probabilities of having a SE/CJ"
   ]
  },
  {
   "cell_type": "code",
   "execution_count": 16,
   "metadata": {},
   "outputs": [
    {
     "name": "stdout",
     "output_type": "stream",
     "text": [
      "0.3549382716049383\n",
      "0.1934156378600823\n"
     ]
    }
   ],
   "source": [
    "P_SE = j34SE.isystem.nunique()/Nsystems\n",
    "P_CJ = j34CJ.isystem.nunique()/Nsystems\n",
    "print(P_SE)\n",
    "print(P_CJ)"
   ]
  },
  {
   "cell_type": "markdown",
   "metadata": {},
   "source": [
    "### Probability of having neither a SE nor a CJ"
   ]
  },
  {
   "cell_type": "code",
   "execution_count": 17,
   "metadata": {
    "scrolled": false
   },
   "outputs": [
    {
     "name": "stdout",
     "output_type": "stream",
     "text": [
      "547\n",
      "0.5627572016460906\n"
     ]
    }
   ],
   "source": [
    "# create a mask that is True where there is either type of planet\n",
    "SEorCJmask = {i: ((group['planetType'] == 'SuperEarth').any() | (group['planetType'] == 'ColdJupiter').any()) \n",
    "              for i, group in pop.groupby('isystem')}\n",
    "NnoSEnoCJ = sum([not i for i in SEorCJmask.values()]); print(NnoSEnoCJ)\n",
    "P_noSEnoCJ = NnoSEnoCJ/Nsystems; print(P_noSEnoCJ)"
   ]
  },
  {
   "cell_type": "markdown",
   "metadata": {},
   "source": [
    "that is quite a high rate of noSEnoCJ. Let's check with an independent second count"
   ]
  },
  {
   "cell_type": "code",
   "execution_count": 18,
   "metadata": {},
   "outputs": [
    {
     "data": {
      "text/plain": [
       "547"
      ]
     },
     "execution_count": 18,
     "metadata": {},
     "output_type": "execute_result"
    }
   ],
   "source": [
    "NnoSEnoCJ_2 = 0\n",
    "for i, group in pop.groupby('isystem'):\n",
    "    if (not 'ColdJupiter' in group.planetType.values) and (not 'SuperEarth' in group.planetType.values):\n",
    "        NnoSEnoCJ_2 += 1\n",
    "NnoSEnoCJ_2"
   ]
  },
  {
   "cell_type": "markdown",
   "metadata": {},
   "source": [
    "OK, it is consistent."
   ]
  },
  {
   "cell_type": "markdown",
   "metadata": {},
   "source": [
    "### Probability of having both a SE *and* a CJ"
   ]
  },
  {
   "cell_type": "code",
   "execution_count": 29,
   "metadata": {
    "scrolled": true
   },
   "outputs": [
    {
     "name": "stdout",
     "output_type": "stream",
     "text": [
      "108\n",
      "0.111111111111\n"
     ]
    }
   ],
   "source": [
    "SEandCJmask = {i: ((group['planetType'] == 'SuperEarth').any() & (group['planetType'] == 'ColdJupiter').any()) \n",
    "               for i, group in pop.groupby('isystem')}\n",
    "N_SEandCJ = sum([i for i in SEandCJmask.values()]); print(N_SEandCJ)\n",
    "P_SEandCJ = N_SEandCJ/Nsystems; print(P_SEandCJ)"
   ]
  },
  {
   "cell_type": "markdown",
   "metadata": {},
   "source": [
    "### Probability of having at least oneSE but _no_ CJ"
   ]
  },
  {
   "cell_type": "code",
   "execution_count": 30,
   "metadata": {},
   "outputs": [
    {
     "name": "stdout",
     "output_type": "stream",
     "text": [
      "237\n",
      "0.243827160494\n"
     ]
    }
   ],
   "source": [
    "SEnoCJmask = {i: ((group['planetType'] == 'SuperEarth').any() & ~(group['planetType'] == 'ColdJupiter').any()) \n",
    "              for i, group in pop.groupby('isystem')}\n",
    "N_SEnoCJ = sum([i for i in SEnoCJmask.values()]); print(N_SEnoCJ)\n",
    "P_SEnoCJ = N_SEnoCJ/Nsystems; print(P_SEnoCJ)"
   ]
  },
  {
   "cell_type": "markdown",
   "metadata": {},
   "source": [
    "### Probability of having _no_ SE but at least one CJ"
   ]
  },
  {
   "cell_type": "code",
   "execution_count": 31,
   "metadata": {},
   "outputs": [
    {
     "name": "stdout",
     "output_type": "stream",
     "text": [
      "80\n",
      "0.082304526749\n"
     ]
    }
   ],
   "source": [
    "noSECJmask = {i: (~(group['planetType'] == 'SuperEarth').any() & (group['planetType'] == 'ColdJupiter').any()) \n",
    "              for i, group in pop.groupby('isystem')}\n",
    "N_noSECJ = sum([i for i in noSECJmask.values()]); print(N_noSECJ)\n",
    "P_noSECJ = N_noSECJ/Nsystems; print(P_noSECJ)"
   ]
  },
  {
   "cell_type": "markdown",
   "metadata": {},
   "source": [
    "consistency check:"
   ]
  },
  {
   "cell_type": "code",
   "execution_count": 32,
   "metadata": {
    "scrolled": true
   },
   "outputs": [
    {
     "name": "stdout",
     "output_type": "stream",
     "text": [
      "1.0\n"
     ]
    }
   ],
   "source": [
    "print(P_noSECJ + P_SEnoCJ + P_noSEnoCJ + P_SEandCJ)"
   ]
  },
  {
   "cell_type": "markdown",
   "metadata": {
    "collapsed": true
   },
   "source": [
    "## Conditional probabilities"
   ]
  },
  {
   "cell_type": "code",
   "execution_count": 33,
   "metadata": {},
   "outputs": [
    {
     "data": {
      "text/plain": [
       "188"
      ]
     },
     "execution_count": 33,
     "metadata": {},
     "output_type": "execute_result"
    }
   ],
   "source": [
    "len(pop[pop['planetType'] == 'ColdJupiter'].isystem.unique())"
   ]
  },
  {
   "cell_type": "code",
   "execution_count": 34,
   "metadata": {
    "collapsed": true
   },
   "outputs": [],
   "source": [
    "# def get_probs(pop, uniqueSystem=True):\n",
    "#     \"\"\" Calculate probabilities for certain planet types.\n",
    "    \n",
    "#     Parameters\n",
    "#     ----------\n",
    "#     pop : pandas DataFrame\n",
    "#         population or subpopulation of planets. \n",
    "#         Can be multi-planet systems (has to include a column 'isystem')\n",
    "#     uniqueSystem : Bool\n",
    "#         get probabilities for unique systems, not just considering the whole \n",
    "#         bunch of planets\n",
    "#     \"\"\"\n",
    "#     Nsystems = pop.isystem.nunique()    \n",
    "#     Nplanets = len(pop)\n",
    "    \n",
    "#     j34CJ = j34.data[j34.data['planetType'] == 'ColdJupiter']\n",
    "#     j34SE = j34.data[j34.data['planetType'] == 'SuperEarth']\n",
    "    \n",
    "#     # get systems containing >=1 SE/CJ\n",
    "#     CJsystemNo = pop[pop['planetType'] == 'ColdJupiter'].isystem.unique()\n",
    "#     SEsystemNo = pop[pop['planetType'] == 'SuperEarth'].isystem.unique()   \n",
    "#     CJsystems = pop[pop.isystem.isin(CJsystemNo)]\n",
    "#     SEsystems = pop[pop.isystem.isin(SEsystemNo)]\n",
    "    \n",
    "#     # P(SE|CJ)\n",
    "    \n",
    "    "
   ]
  },
  {
   "cell_type": "code",
   "execution_count": 35,
   "metadata": {
    "collapsed": true
   },
   "outputs": [],
   "source": [
    "CJsystemNo = pop[pop['planetType'] == 'ColdJupiter'].isystem.unique()\n",
    "SEsystemNo = pop[pop['planetType'] == 'SuperEarth'].isystem.unique()   \n",
    "CJsystems = pop[pop.isystem.isin(CJsystemNo)]\n",
    "SEsystems = pop[pop.isystem.isin(SEsystemNo)]\n",
    "N_CJsystems = CJsystems.isystem.nunique()\n",
    "N_SEsystems = SEsystems.isystem.nunique()"
   ]
  },
  {
   "cell_type": "markdown",
   "metadata": {},
   "source": [
    "### What is the probability to have at least one SE(CJ) in a system with at leat one CJ(SE)?"
   ]
  },
  {
   "cell_type": "code",
   "execution_count": 41,
   "metadata": {
    "collapsed": true
   },
   "outputs": [],
   "source": [
    "SEsInCJsystemsNo = CJsystems[CJsystems['planetType'] == 'SuperEarth'].isystem.unique()\n",
    "CJsInSEsystemsNo = SEsystems[SEsystems['planetType'] == 'ColdJupiter'].isystem.unique()\n",
    "SEsInCJsystems = CJsystems[CJsystems.isystem.isin(SEsInCJsystemsNo)]\n",
    "CJsInSEsystems = SEsystems[SEsystems.isystem.isin(CJsInSEsystemsNo)]\n",
    "N_SEsInCJsystems = SEsInCJsystems.isystem.nunique()\n",
    "N_CJsInSEsystems = CJsInSEsystems.isystem.nunique()"
   ]
  },
  {
   "cell_type": "markdown",
   "metadata": {},
   "source": [
    "these two sets should be the same, let's check this"
   ]
  },
  {
   "cell_type": "code",
   "execution_count": 42,
   "metadata": {},
   "outputs": [
    {
     "data": {
      "text/plain": [
       "True"
      ]
     },
     "execution_count": 42,
     "metadata": {},
     "output_type": "execute_result"
    }
   ],
   "source": [
    "SEsInCJsystems.equals(CJsInSEsystems)"
   ]
  },
  {
   "cell_type": "markdown",
   "metadata": {},
   "source": [
    "Compute P(SE|CJ) and P(CJ|SE)"
   ]
  },
  {
   "cell_type": "code",
   "execution_count": 43,
   "metadata": {},
   "outputs": [
    {
     "name": "stdout",
     "output_type": "stream",
     "text": [
      "0.3130434782608696\n",
      "0.574468085106383\n"
     ]
    }
   ],
   "source": [
    "P_CJSE = N_CJsInSEsystems/N_SEsystems; print(P_CJSE)\n",
    "\n",
    "P_SECJ = N_SEsInCJsystems/N_CJsystems; print(P_SECJ)"
   ]
  },
  {
   "cell_type": "markdown",
   "metadata": {},
   "source": [
    "P(CJ|SE) is consistent with Zu&Wu, P(SE|CJ) is not (they find 0.9+=0.2, although in an indirect approach imposing Bayes' theorem)\n",
    "___________________________\n",
    "Compute P(noSE|CJ), i.e. the probability to have no SE in systems with at least one CJ (as in the Solar System)\n",
    "\n",
    "and P(noCJ|SE)"
   ]
  },
  {
   "cell_type": "code",
   "execution_count": 44,
   "metadata": {
    "collapsed": true
   },
   "outputs": [],
   "source": [
    "noSEsInCJsystems = CJsystems[~CJsystems.isystem.isin(SEsInCJsystemsNo)]\n",
    "noCJsInSEsystems = SEsystems[~SEsystems.isystem.isin(CJsInSEsystemsNo)]\n",
    "N_noSEsInCJsystems = noSEsInCJsystems.isystem.nunique()\n",
    "N_noCJsInSEsystems = noCJsInSEsystems.isystem.nunique()"
   ]
  },
  {
   "cell_type": "code",
   "execution_count": 45,
   "metadata": {
    "scrolled": true
   },
   "outputs": [
    {
     "name": "stdout",
     "output_type": "stream",
     "text": [
      "0.425531914893617\n",
      "0.6869565217391305\n"
     ]
    }
   ],
   "source": [
    "P_noSECJ = N_noSEsInCJsystems/N_CJsystems; print(P_noSECJ)\n",
    "P_noCJSE = N_noCJsInSEsystems/N_SEsystems; print(P_noCJSE)"
   ]
  },
  {
   "cell_type": "markdown",
   "metadata": {
    "collapsed": true
   },
   "source": [
    "Confirm P(noSE|CJ) with a different method"
   ]
  },
  {
   "cell_type": "code",
   "execution_count": 51,
   "metadata": {},
   "outputs": [
    {
     "name": "stdout",
     "output_type": "stream",
     "text": [
      "0.425531914893617\n"
     ]
    }
   ],
   "source": [
    "N_CJsystems2 = 0\n",
    "N_noSEinCJsystem = 0\n",
    "for i, group in pop.groupby('isystem'):\n",
    "    if (group.planetType == 'ColdJupiter').any():\n",
    "        N_CJsystems2 += 1\n",
    "        if not (group.planetType == 'SuperEarth').any():\n",
    "            N_noSEinCJsystem += 1\n",
    "print(N_noSEinCJsystem/N_CJsystems2)"
   ]
  },
  {
   "cell_type": "code",
   "execution_count": 52,
   "metadata": {},
   "outputs": [
    {
     "data": {
      "text/plain": [
       "972"
      ]
     },
     "execution_count": 52,
     "metadata": {},
     "output_type": "execute_result"
    }
   ],
   "source": [
    "Nsystems"
   ]
  },
  {
   "cell_type": "code",
   "execution_count": null,
   "metadata": {
    "collapsed": true
   },
   "outputs": [],
   "source": []
  }
 ],
 "metadata": {
  "kernelspec": {
   "display_name": "Python 3",
   "language": "python",
   "name": "python3"
  },
  "language_info": {
   "codemirror_mode": {
    "name": "ipython",
    "version": 3
   },
   "file_extension": ".py",
   "mimetype": "text/x-python",
   "name": "python",
   "nbconvert_exporter": "python",
   "pygments_lexer": "ipython3",
   "version": "3.6.3"
  }
 },
 "nbformat": 4,
 "nbformat_minor": 2
}
