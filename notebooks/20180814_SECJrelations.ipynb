{
 "cells": [
  {
   "cell_type": "markdown",
   "metadata": {},
   "source": [
    "# Package imports and preparations"
   ]
  },
  {
   "cell_type": "code",
   "execution_count": 35,
   "metadata": {},
   "outputs": [
    {
     "name": "stdout",
     "output_type": "stream",
     "text": [
      "/home/schlecker/repos/planeteScripts\n"
     ]
    }
   ],
   "source": [
    "cd /home/schlecker/repos/planeteScripts"
   ]
  },
  {
   "cell_type": "code",
   "execution_count": 36,
   "metadata": {},
   "outputs": [
    {
     "name": "stdout",
     "output_type": "stream",
     "text": [
      "The autoreload extension is already loaded. To reload it, use:\n",
      "  %reload_ext autoreload\n"
     ]
    }
   ],
   "source": [
    "import numpy as np\n",
    "import pandas as pd\n",
    "import seaborn as sns\n",
    "import matplotlib.pyplot as plt\n",
    "\n",
    "import output\n",
    "import plots\n",
    "import stats\n",
    "import utils\n",
    "\n",
    "%load_ext autoreload\n",
    "%autoreload 2\n",
    "\n",
    "# default output folder\n",
    "outputs = '/home/schlecker/phd/planete/outputs/'\n",
    "\n",
    "# show more columns in pandas data frames\n",
    "pd.set_option('display.max_columns', 500)"
   ]
  },
  {
   "cell_type": "markdown",
   "metadata": {},
   "source": [
    "### Read in the data\n",
    "We look at the system at t=5*10^9 yr.\n",
    "- read this snapshot\n",
    "- compute orbital period from Mstar and sma\n",
    "- for each system, draw Msin(i)\n",
    "- count the initial number of systems"
   ]
  },
  {
   "cell_type": "code",
   "execution_count": 37,
   "metadata": {
    "collapsed": true
   },
   "outputs": [],
   "source": [
    "rr5e9 = outputs + 'J34/ref_red5e9.dat'\n",
    "j34 = output.Population(rr5e9)\n",
    "pop = j34.data"
   ]
  },
  {
   "cell_type": "code",
   "execution_count": 38,
   "metadata": {
    "collapsed": true
   },
   "outputs": [],
   "source": [
    "# this is slow. \n",
    "pop['msini'] = np.nan\n",
    "for i in pop.isystem:\n",
    "    pop.loc[pop.isystem == i, 'msini'] = utils.get_sini()*pop[pop.isystem == i]['m']"
   ]
  },
  {
   "cell_type": "markdown",
   "metadata": {},
   "source": [
    "distribution of inclinations for isotropically distributed orbits follow sin(i)."
   ]
  },
  {
   "cell_type": "code",
   "execution_count": 191,
   "metadata": {},
   "outputs": [
    {
     "data": {
      "text/plain": [
       "(array([ 0.09491897,  0.24820028,  0.38544797,  0.4970419 ,  0.64711648,\n",
       "         0.74524217,  0.86389088,  0.93828683,  0.97612615,  1.01717219]),\n",
       " array([ 0.01152613,  0.1674486 ,  0.32337107,  0.47929354,  0.63521601,\n",
       "         0.79113848,  0.94706095,  1.10298342,  1.25890589,  1.41482836,\n",
       "         1.57075083]),\n",
       " <a list of 10 Patch objects>)"
      ]
     },
     "execution_count": 191,
     "metadata": {},
     "output_type": "execute_result"
    },
    {
     "data": {
      "image/png": "[encoded data removed]",
      "text/plain": [
       "<matplotlib.figure.Figure at 0x7f1a5ff19f28>"
      ]
     },
     "metadata": {},
     "output_type": "display_data"
    }
   ],
   "source": [
    "i = np.linspace(0.,np.pi/2, len(m))\n",
    "plt.plot(i, np.sin(i))\n",
    "\n",
    "fi = np.arcsin(utils.get_msini(m))\n",
    "plt.hist(fi, normed=True)"
   ]
  },
  {
   "cell_type": "code",
   "execution_count": 192,
   "metadata": {},
   "outputs": [
    {
     "data": {
      "image/png": "[encoded data removed]",
      "text/plain": [
       "<matplotlib.figure.Figure at 0x7f1aa70d2c50>"
      ]
     },
     "metadata": {},
     "output_type": "display_data"
    }
   ],
   "source": [
    "h = plt.hist([utils.get_sini() for i in range(len(m))], bins=50)"
   ]
  },
  {
   "cell_type": "code",
   "execution_count": 39,
   "metadata": {},
   "outputs": [
    {
     "name": "stdout",
     "output_type": "stream",
     "text": [
      "number of systems in this population: 972\n"
     ]
    }
   ],
   "source": [
    "pop = utils.get_orbitalPeriod(pop, MstarRel=1.)\n",
    "Nsystems_initial = pop.isystem.nunique()\n",
    "print(\"number of systems in this population: {}\".format(Nsystems_initial))"
   ]
  },
  {
   "cell_type": "code",
   "execution_count": 40,
   "metadata": {},
   "outputs": [
    {
     "data": {
      "text/plain": [
       "count    48600.000000\n",
       "mean        21.252596\n",
       "std        273.069810\n",
       "min          0.000060\n",
       "25%          0.054639\n",
       "50%          0.223008\n",
       "75%          0.831225\n",
       "max      14498.561681\n",
       "Name: msini, dtype: float64"
      ]
     },
     "execution_count": 40,
     "metadata": {},
     "output_type": "execute_result"
    }
   ],
   "source": [
    "pop['msini'].describe()"
   ]
  },
  {
   "cell_type": "markdown",
   "metadata": {
    "collapsed": true
   },
   "source": [
    "# General occurrences \n",
    "In this section, we investigate occurrences of the synthetic population in planet size/orbital period"
   ]
  },
  {
   "cell_type": "code",
   "execution_count": 41,
   "metadata": {},
   "outputs": [
    {
     "data": {
      "text/plain": [
       "count    48600.000000\n",
       "mean        14.878256\n",
       "std        184.485501\n",
       "min          0.038336\n",
       "25%          0.498626\n",
       "50%          0.931980\n",
       "75%          2.485066\n",
       "max       9546.663622\n",
       "Name: r, dtype: float64"
      ]
     },
     "execution_count": 41,
     "metadata": {},
     "output_type": "execute_result"
    }
   ],
   "source": [
    "pop.r_rEarth = utils.r_Jup2r_Earth(pop['r'])\n",
    "pop.r_rEarth.describe()"
   ]
  },
  {
   "cell_type": "code",
   "execution_count": 178,
   "metadata": {},
   "outputs": [
    {
     "name": "stdout",
     "output_type": "stream",
     "text": [
      "using only planets with status \"0\"\n",
      "Number of Systems: 188\n"
     ]
    },
    {
     "data": {
      "text/plain": [
       "Text(0.5,0,'Orbital Period [d]')"
      ]
     },
     "execution_count": 178,
     "metadata": {},
     "output_type": "execute_result"
    }
   ],
   "source": [
    "fig, ax = plt.subplots()\n",
    "J34occ = plots.plot_occurrence(CJsystems, ax=ax, xRange=(1.,300.), yRange=(0.5, 200.), kind='annotate', binWidth_dex=(0.25, 0.1), logColormap=True)\n",
    "\n",
    "# workaround for axis labels\n",
    "J34occ[3].set_xlabel('Orbital Period [d]')\n",
    "# J34occ[3].annotate('Planet Size [$\\mathrm{R_{Earth}}$]', xy=(0.05,0.5), xytext=(0.02, 0.5), xycoords='figure fraction', textcoords='figure fraction', rotation=90, verticalalignment='center', size='larger')"
   ]
  },
  {
   "cell_type": "code",
   "execution_count": 45,
   "metadata": {
    "collapsed": true
   },
   "outputs": [],
   "source": [
    "# save as eps to avoid white lines between histogram cells\n",
    "fig.savefig(outputs + 'J34/j34occurrence.eps')"
   ]
  },
  {
   "cell_type": "markdown",
   "metadata": {
    "collapsed": true
   },
   "source": [
    "# Occurrences of different planet types"
   ]
  },
  {
   "cell_type": "markdown",
   "metadata": {},
   "source": [
    "We categorize planets into Super Earths (SE) or Cold Jupiters (CJ) according to the rules in Zhu & Wu 2018 (including the requirement for RV semi-amplitude K > 3 m/s)"
   ]
  },
  {
   "cell_type": "code",
   "execution_count": 222,
   "metadata": {},
   "outputs": [
    {
     "data": {
      "text/plain": [
       "<matplotlib.axes._subplots.AxesSubplot at 0x7f1aa89bf7f0>"
      ]
     },
     "execution_count": 222,
     "metadata": {},
     "output_type": "execute_result"
    },
    {
     "data": {
      "image/png": "[encoded data removed]",
      "text/plain": [
       "<matplotlib.figure.Figure at 0x7f1aa83ad7b8>"
      ]
     },
     "metadata": {},
     "output_type": "display_data"
    }
   ],
   "source": [
    "np.log10(pop.dust2gas.hist()"
   ]
  },
  {
   "cell_type": "code",
   "execution_count": 101,
   "metadata": {
    "scrolled": false
   },
   "outputs": [
    {
     "name": "stdout",
     "output_type": "stream",
     "text": [
      "giant mass Mgiant = 95.0\n",
      "number of planets: 26919\n",
      "number of ejected planets: 1349\n",
      "Number of planets more massive than M_Earth: 6095\n",
      "Number of planets more massive than M_Earth and ejected: 842\n",
      "Number of planets more massive than M_giant: 629\n",
      "Number of planets more massive than M_giant and ejected: 29\n"
     ]
    }
   ],
   "source": [
    "pop = stats.categorizePlanets(pop, ZhuWu18=True)\n",
    "stats.print_categories(pop, Mgiant=95.)\n",
    "Nsystems = pop.isystem.nunique()"
   ]
  },
  {
   "cell_type": "markdown",
   "metadata": {},
   "source": [
    "just quickly checking the radius distribution (in Jupiter radii!) of the giants"
   ]
  },
  {
   "cell_type": "code",
   "execution_count": 61,
   "metadata": {},
   "outputs": [
    {
     "data": {
      "text/plain": [
       "<matplotlib.axes._subplots.AxesSubplot at 0x7f1ab84eb160>"
      ]
     },
     "execution_count": 61,
     "metadata": {},
     "output_type": "execute_result"
    },
    {
     "data": {
      "image/png": "[encoded data removed]",
      "text/plain": [
       "<matplotlib.figure.Figure at 0x7f1ab85e5f28>"
      ]
     },
     "metadata": {},
     "output_type": "display_data"
    }
   ],
   "source": [
    "pop[(pop.r < 10) & (pop.r > 0.5)].r.hist(bins=40)"
   ]
  },
  {
   "cell_type": "markdown",
   "metadata": {},
   "source": [
    "Extract CJ and SE from the population; count them"
   ]
  },
  {
   "cell_type": "code",
   "execution_count": 62,
   "metadata": {},
   "outputs": [
    {
     "name": "stdout",
     "output_type": "stream",
     "text": [
      "number of SE: 1104\n",
      "number of CJ: 238\n",
      "number of systems with SE: 396\n",
      "number of systems with CJ: 188\n"
     ]
    }
   ],
   "source": [
    "j34CJ = pop[pop['planetType'] == 'ColdJupiter']\n",
    "j34SE = pop[pop['planetType'] == 'SuperEarth']\n",
    "print('number of SE: {}'.format(len(j34SE)))\n",
    "print('number of CJ: {}'.format(len(j34CJ)))\n",
    "print('number of systems with SE: {}'.format(pop[pop['planetType'] == 'SuperEarth'].isystem.nunique()))\n",
    "print('number of systems with CJ: {}'.format(pop[pop['planetType'] == 'ColdJupiter'].isystem.nunique()))"
   ]
  },
  {
   "cell_type": "markdown",
   "metadata": {},
   "source": [
    "check if the CJ really are CJ"
   ]
  },
  {
   "cell_type": "code",
   "execution_count": 63,
   "metadata": {},
   "outputs": [
    {
     "data": {
      "text/plain": [
       "count    238.000000\n",
       "mean       1.017564\n",
       "std        0.054939\n",
       "min        0.808987\n",
       "25%        0.985246\n",
       "50%        1.033905\n",
       "75%        1.060480\n",
       "max        1.083660\n",
       "Name: r, dtype: float64"
      ]
     },
     "execution_count": 63,
     "metadata": {},
     "output_type": "execute_result"
    }
   ],
   "source": [
    "j34CJ.r.describe()"
   ]
  },
  {
   "cell_type": "code",
   "execution_count": 64,
   "metadata": {},
   "outputs": [
    {
     "data": {
      "text/plain": [
       "<matplotlib.axes._subplots.AxesSubplot at 0x7f1ab8430c50>"
      ]
     },
     "execution_count": 64,
     "metadata": {},
     "output_type": "execute_result"
    },
    {
     "data": {
      "image/png": "[encoded data removed]",
      "text/plain": [
       "<matplotlib.figure.Figure at 0x7f1ab848a518>"
      ]
     },
     "metadata": {},
     "output_type": "display_data"
    }
   ],
   "source": [
    "j34CJ.plot.scatter('period', 'r')"
   ]
  },
  {
   "cell_type": "markdown",
   "metadata": {},
   "source": [
    "the CJs are not very large, in fact they never go beyond ~1.1 Rjup."
   ]
  },
  {
   "cell_type": "markdown",
   "metadata": {},
   "source": [
    "-------------------------"
   ]
  },
  {
   "cell_type": "markdown",
   "metadata": {},
   "source": [
    "## Recompute some probabilities of Zhu & Wu 2018"
   ]
  },
  {
   "cell_type": "markdown",
   "metadata": {},
   "source": [
    "#### Probability to have no SE, no CJ\n",
    "We are using P(SE) = .3 -- .5 and the summation rule for probabilities\n",
    "\n",
    "P(noSE+noCJ) = 1 - (P(SE) + P(CJ) - P(SE+CJ)) \n"
   ]
  },
  {
   "cell_type": "code",
   "execution_count": 202,
   "metadata": {},
   "outputs": [
    {
     "data": {
      "text/plain": [
       "array([ 0.69,  0.49])"
      ]
     },
     "execution_count": 202,
     "metadata": {},
     "output_type": "execute_result"
    }
   ],
   "source": [
    "1 - (np.array([.3, .5]) + .1 - .09)"
   ]
  },
  {
   "cell_type": "markdown",
   "metadata": {},
   "source": [
    "P(SE+noCJ) = P(SE) - P(SE+CJ)"
   ]
  },
  {
   "cell_type": "code",
   "execution_count": 203,
   "metadata": {},
   "outputs": [
    {
     "data": {
      "text/plain": [
       "array([ 0.21,  0.41])"
      ]
     },
     "execution_count": 203,
     "metadata": {},
     "output_type": "execute_result"
    }
   ],
   "source": [
    "np.array([.3, .5]) - 0.09"
   ]
  },
  {
   "cell_type": "markdown",
   "metadata": {},
   "source": [
    "--------------------------------"
   ]
  },
  {
   "cell_type": "markdown",
   "metadata": {},
   "source": [
    "# Occurrence Probabilities\n",
    "### Probabilities of having a SE/CJ"
   ]
  },
  {
   "cell_type": "code",
   "execution_count": 66,
   "metadata": {},
   "outputs": [
    {
     "name": "stdout",
     "output_type": "stream",
     "text": [
      "0.4074074074074074\n",
      "0.1934156378600823\n"
     ]
    }
   ],
   "source": [
    "P_SE = j34SE.isystem.nunique()/Nsystems\n",
    "P_CJ = j34CJ.isystem.nunique()/Nsystems\n",
    "print(P_SE)\n",
    "print(P_CJ)"
   ]
  },
  {
   "cell_type": "markdown",
   "metadata": {},
   "source": [
    "### Probability of having neither a SE nor a CJ"
   ]
  },
  {
   "cell_type": "code",
   "execution_count": 68,
   "metadata": {
    "scrolled": false
   },
   "outputs": [
    {
     "name": "stdout",
     "output_type": "stream",
     "text": [
      "502\n",
      "0.5164609053497943\n"
     ]
    }
   ],
   "source": [
    "# create a mask that is True where there is either type of planet\n",
    "SEorCJmask = {i: ((group['planetType'] == 'SuperEarth').any() | (group['planetType'] == 'ColdJupiter').any()) \n",
    "              for i, group in pop.groupby('isystem')}\n",
    "NnoSEnoCJ = sum([not i for i in SEorCJmask.values()]); print(NnoSEnoCJ)\n",
    "P_noSEnoCJ = NnoSEnoCJ/Nsystems; print(P_noSEnoCJ)"
   ]
  },
  {
   "cell_type": "markdown",
   "metadata": {},
   "source": [
    "that is quite a high rate of noSEnoCJ. Let's check with an independent second count"
   ]
  },
  {
   "cell_type": "code",
   "execution_count": 69,
   "metadata": {},
   "outputs": [
    {
     "data": {
      "text/plain": [
       "502"
      ]
     },
     "execution_count": 69,
     "metadata": {},
     "output_type": "execute_result"
    }
   ],
   "source": [
    "NnoSEnoCJ_2 = 0\n",
    "for i, group in pop.groupby('isystem'):\n",
    "    if (not 'ColdJupiter' in group.planetType.values) and (not 'SuperEarth' in group.planetType.values):\n",
    "        NnoSEnoCJ_2 += 1\n",
    "NnoSEnoCJ_2"
   ]
  },
  {
   "cell_type": "markdown",
   "metadata": {},
   "source": [
    "OK, it is consistent."
   ]
  },
  {
   "cell_type": "markdown",
   "metadata": {},
   "source": [
    "### Probability of having both a SE *and* a CJ"
   ]
  },
  {
   "cell_type": "code",
   "execution_count": 70,
   "metadata": {
    "scrolled": true
   },
   "outputs": [
    {
     "name": "stdout",
     "output_type": "stream",
     "text": [
      "114\n",
      "0.117283950617\n"
     ]
    }
   ],
   "source": [
    "SEandCJmask = {i: ((group['planetType'] == 'SuperEarth').any() & (group['planetType'] == 'ColdJupiter').any()) \n",
    "               for i, group in pop.groupby('isystem')}\n",
    "N_SEandCJ = sum([i for i in SEandCJmask.values()]); print(N_SEandCJ)\n",
    "P_SEandCJ = N_SEandCJ/Nsystems; print(P_SEandCJ)"
   ]
  },
  {
   "cell_type": "markdown",
   "metadata": {},
   "source": [
    "### Probability of having at least one SE but _no_ CJ"
   ]
  },
  {
   "cell_type": "code",
   "execution_count": 71,
   "metadata": {},
   "outputs": [
    {
     "name": "stdout",
     "output_type": "stream",
     "text": [
      "282\n",
      "0.29012345679\n"
     ]
    }
   ],
   "source": [
    "SEnoCJmask = {i: ((group['planetType'] == 'SuperEarth').any() & ~(group['planetType'] == 'ColdJupiter').any()) \n",
    "              for i, group in pop.groupby('isystem')}\n",
    "N_SEnoCJ = sum([i for i in SEnoCJmask.values()]); print(N_SEnoCJ)\n",
    "P_SEnoCJ = N_SEnoCJ/Nsystems; print(P_SEnoCJ)"
   ]
  },
  {
   "cell_type": "markdown",
   "metadata": {},
   "source": [
    "### Probability of having _no_ SE but at least one CJ"
   ]
  },
  {
   "cell_type": "code",
   "execution_count": 214,
   "metadata": {},
   "outputs": [
    {
     "name": "stdout",
     "output_type": "stream",
     "text": [
      "74\n",
      "0.0761316872428\n"
     ]
    }
   ],
   "source": [
    "noSECJmask = {i: (~(group['planetType'] == 'SuperEarth').any() & (group['planetType'] == 'ColdJupiter').any()) \n",
    "              for i, group in pop.groupby('isystem')}\n",
    "N_noSEandCJ = sum([i for i in noSECJmask.values()]); print(N_noSECJ)\n",
    "P_noSEandCJ = N_noSEandCJ/Nsystems; print(P_noSEandCJ)"
   ]
  },
  {
   "cell_type": "markdown",
   "metadata": {},
   "source": [
    "### consistency checks\n",
    "Probability of having *any* case (better be one!)"
   ]
  },
  {
   "cell_type": "code",
   "execution_count": 73,
   "metadata": {
    "scrolled": true
   },
   "outputs": [
    {
     "name": "stdout",
     "output_type": "stream",
     "text": [
      "1.0\n"
     ]
    }
   ],
   "source": [
    "print(P_noSECJ + P_SEnoCJ + P_noSEnoCJ + P_SEandCJ)"
   ]
  },
  {
   "cell_type": "markdown",
   "metadata": {},
   "source": [
    "P(noSE+noCJ) = 1 - (P(SE) + P(CJ) - P(SE+CJ)) (summation rule)"
   ]
  },
  {
   "cell_type": "code",
   "execution_count": 200,
   "metadata": {},
   "outputs": [
    {
     "data": {
      "text/plain": [
       "0.5164609053497943"
      ]
     },
     "execution_count": 200,
     "metadata": {},
     "output_type": "execute_result"
    }
   ],
   "source": [
    "P_noSEnoCJ"
   ]
  },
  {
   "cell_type": "code",
   "execution_count": 201,
   "metadata": {},
   "outputs": [
    {
     "data": {
      "text/plain": [
       "True"
      ]
     },
     "execution_count": 201,
     "metadata": {},
     "output_type": "execute_result"
    }
   ],
   "source": [
    "np.isclose(1 - (P_SE + P_CJ - P_SEandCJ), P_noSEnoCJ)"
   ]
  },
  {
   "cell_type": "markdown",
   "metadata": {
    "collapsed": true
   },
   "source": [
    "## Conditional probabilities"
   ]
  },
  {
   "cell_type": "code",
   "execution_count": 74,
   "metadata": {},
   "outputs": [
    {
     "data": {
      "text/plain": [
       "188"
      ]
     },
     "execution_count": 74,
     "metadata": {},
     "output_type": "execute_result"
    }
   ],
   "source": [
    "len(pop[pop['planetType'] == 'ColdJupiter'].isystem.unique())"
   ]
  },
  {
   "cell_type": "code",
   "execution_count": 75,
   "metadata": {
    "collapsed": true
   },
   "outputs": [],
   "source": [
    "# def get_probs(pop, uniqueSystem=True):\n",
    "#     \"\"\" Calculate probabilities for certain planet types.\n",
    "    \n",
    "#     Parameters\n",
    "#     ----------\n",
    "#     pop : pandas DataFrame\n",
    "#         population or subpopulation of planets. \n",
    "#         Can be multi-planet systems (has to include a column 'isystem')\n",
    "#     uniqueSystem : Bool\n",
    "#         get probabilities for unique systems, not just considering the whole \n",
    "#         bunch of planets\n",
    "#     \"\"\"\n",
    "#     Nsystems = pop.isystem.nunique()    \n",
    "#     Nplanets = len(pop)\n",
    "    \n",
    "#     j34CJ = pop[pop['planetType'] == 'ColdJupiter']\n",
    "#     j34SE = pop[pop['planetType'] == 'SuperEarth']\n",
    "    \n",
    "#     # get systems containing >=1 SE/CJ\n",
    "#     CJsystemNo = pop[pop['planetType'] == 'ColdJupiter'].isystem.unique()\n",
    "#     SEsystemNo = pop[pop['planetType'] == 'SuperEarth'].isystem.unique()   \n",
    "#     CJsystems = pop[pop.isystem.isin(CJsystemNo)]\n",
    "#     SEsystems = pop[pop.isystem.isin(SEsystemNo)]\n",
    "    \n",
    "#     # P(SE|CJ)\n",
    "    \n",
    "    "
   ]
  },
  {
   "cell_type": "code",
   "execution_count": 76,
   "metadata": {
    "collapsed": true
   },
   "outputs": [],
   "source": [
    "CJsystemNo = pop[pop['planetType'] == 'ColdJupiter'].isystem.unique()\n",
    "SEsystemNo = pop[pop['planetType'] == 'SuperEarth'].isystem.unique()   \n",
    "CJsystems = pop[pop.isystem.isin(CJsystemNo)]\n",
    "SEsystems = pop[pop.isystem.isin(SEsystemNo)]\n",
    "N_CJsystems = CJsystems.isystem.nunique()\n",
    "N_SEsystems = SEsystems.isystem.nunique()"
   ]
  },
  {
   "cell_type": "markdown",
   "metadata": {},
   "source": [
    "### What is the probability to have at least one SE(CJ) in a system with at leat one CJ(SE)?"
   ]
  },
  {
   "cell_type": "code",
   "execution_count": 77,
   "metadata": {
    "collapsed": true
   },
   "outputs": [],
   "source": [
    "SEsInCJsystemsNo = CJsystems[CJsystems['planetType'] == 'SuperEarth'].isystem.unique()\n",
    "CJsInSEsystemsNo = SEsystems[SEsystems['planetType'] == 'ColdJupiter'].isystem.unique()\n",
    "SEsInCJsystems = CJsystems[CJsystems.isystem.isin(SEsInCJsystemsNo)]\n",
    "CJsInSEsystems = SEsystems[SEsystems.isystem.isin(CJsInSEsystemsNo)]\n",
    "N_SEsInCJsystems = SEsInCJsystems.isystem.nunique()\n",
    "N_CJsInSEsystems = CJsInSEsystems.isystem.nunique()"
   ]
  },
  {
   "cell_type": "markdown",
   "metadata": {},
   "source": [
    "these two sets should be the same, let's check this"
   ]
  },
  {
   "cell_type": "code",
   "execution_count": 78,
   "metadata": {},
   "outputs": [
    {
     "data": {
      "text/plain": [
       "True"
      ]
     },
     "execution_count": 78,
     "metadata": {},
     "output_type": "execute_result"
    }
   ],
   "source": [
    "SEsInCJsystems.equals(CJsInSEsystems)"
   ]
  },
  {
   "cell_type": "markdown",
   "metadata": {},
   "source": [
    "Compute P(CJ|SE) and P(SE|CJ)"
   ]
  },
  {
   "cell_type": "code",
   "execution_count": 193,
   "metadata": {},
   "outputs": [
    {
     "name": "stdout",
     "output_type": "stream",
     "text": [
      "0.2878787878787879\n",
      "0.6063829787234043\n"
     ]
    }
   ],
   "source": [
    "P_CJSE = N_CJsInSEsystems/N_SEsystems; print(P_CJSE)\n",
    "P_SECJ = N_SEsInCJsystems/N_CJsystems; print(P_SECJ)"
   ]
  },
  {
   "cell_type": "markdown",
   "metadata": {},
   "source": [
    "P(CJ|SE) is consistent with Zu&Wu, P(SE|CJ) is not (they find 0.9+-0.2, although in an indirect approach imposing Bayes' theorem)\n",
    "___________________________\n",
    "Compute P(noSE|CJ), i.e. the probability to have no SE in systems with at least one CJ (as in the Solar System)\n",
    "\n",
    "and P(noCJ|SE)"
   ]
  },
  {
   "cell_type": "code",
   "execution_count": 194,
   "metadata": {
    "collapsed": true
   },
   "outputs": [],
   "source": [
    "noSEsInCJsystems = CJsystems[~CJsystems.isystem.isin(SEsInCJsystemsNo)]\n",
    "noCJsInSEsystems = SEsystems[~SEsystems.isystem.isin(CJsInSEsystemsNo)]\n",
    "N_noSEsInCJsystems = noSEsInCJsystems.isystem.nunique()\n",
    "N_noCJsInSEsystems = noCJsInSEsystems.isystem.nunique()"
   ]
  },
  {
   "cell_type": "code",
   "execution_count": 195,
   "metadata": {
    "scrolled": true
   },
   "outputs": [
    {
     "name": "stdout",
     "output_type": "stream",
     "text": [
      "0.39361702127659576\n",
      "0.7121212121212122\n"
     ]
    }
   ],
   "source": [
    "P_noSECJ = N_noSEsInCJsystems/N_CJsystems; print(P_noSECJ)\n",
    "P_noCJSE = N_noCJsInSEsystems/N_SEsystems; print(P_noCJSE)"
   ]
  },
  {
   "cell_type": "markdown",
   "metadata": {
    "collapsed": true
   },
   "source": [
    "#### Consistency Checks"
   ]
  },
  {
   "cell_type": "markdown",
   "metadata": {
    "collapsed": true
   },
   "source": [
    "Confirm P(noSE|CJ) with a different method"
   ]
  },
  {
   "cell_type": "code",
   "execution_count": 196,
   "metadata": {},
   "outputs": [
    {
     "name": "stdout",
     "output_type": "stream",
     "text": [
      "0.39361702127659576\n"
     ]
    }
   ],
   "source": [
    "N_CJsystems2 = 0\n",
    "N_noSEinCJsystem = 0\n",
    "for i, group in pop.groupby('isystem'):\n",
    "    if (group.planetType == 'ColdJupiter').any():\n",
    "        N_CJsystems2 += 1\n",
    "        if not (group.planetType == 'SuperEarth').any():\n",
    "            N_noSEinCJsystem += 1\n",
    "print(N_noSEinCJsystem/N_CJsystems2)"
   ]
  },
  {
   "cell_type": "markdown",
   "metadata": {},
   "source": [
    "the sums of exclusive conditional probabilities should yield one"
   ]
  },
  {
   "cell_type": "code",
   "execution_count": 206,
   "metadata": {},
   "outputs": [
    {
     "data": {
      "text/plain": [
       "0.6063829787234043"
      ]
     },
     "execution_count": 206,
     "metadata": {},
     "output_type": "execute_result"
    }
   ],
   "source": [
    "P_SECJ"
   ]
  },
  {
   "cell_type": "code",
   "execution_count": 207,
   "metadata": {},
   "outputs": [
    {
     "data": {
      "text/plain": [
       "0.39361702127659576"
      ]
     },
     "execution_count": 207,
     "metadata": {},
     "output_type": "execute_result"
    }
   ],
   "source": [
    "P_noSECJ"
   ]
  },
  {
   "cell_type": "markdown",
   "metadata": {},
   "source": [
    "#### Write results to a table"
   ]
  },
  {
   "cell_type": "code",
   "execution_count": 218,
   "metadata": {
    "collapsed": true
   },
   "outputs": [],
   "source": [
    "# probs_nom = [P_SE, P_CJ, P_SEandCJ, P_noSEnoCJ, P_SEnoCJ, P_noSEandCJ, P_SECJ, P_CJSE, P_noSECJ, P_noCJSE]\n"
   ]
  },
  {
   "cell_type": "code",
   "execution_count": 219,
   "metadata": {
    "collapsed": true
   },
   "outputs": [],
   "source": [
    "index = ['P_SE', 'P_CJ', 'P_SEandCJ', 'P_noSEnoCJ', 'P_SEnoCJ', 'P_noSEandCJ', 'P_SECJ', 'P_CJSE', 'P_noSECJ', 'P_noCJSE']\n",
    "results = pd.DataFrame({'nominal' : probs_nom}, index=index)"
   ]
  },
  {
   "cell_type": "code",
   "execution_count": 220,
   "metadata": {},
   "outputs": [
    {
     "data": {
      "text/html": [
       "<div>\n",
       "<style>\n",
       "    .dataframe thead tr:only-child th {\n",
       "        text-align: right;\n",
       "    }\n",
       "\n",
       "    .dataframe thead th {\n",
       "        text-align: left;\n",
       "    }\n",
       "\n",
       "    .dataframe tbody tr th {\n",
       "        vertical-align: top;\n",
       "    }\n",
       "</style>\n",
       "<table border=\"1\" class=\"dataframe\">\n",
       "  <thead>\n",
       "    <tr style=\"text-align: right;\">\n",
       "      <th></th>\n",
       "      <th>nominal</th>\n",
       "    </tr>\n",
       "  </thead>\n",
       "  <tbody>\n",
       "    <tr>\n",
       "      <th>P_SE</th>\n",
       "      <td>0.407407</td>\n",
       "    </tr>\n",
       "    <tr>\n",
       "      <th>P_CJ</th>\n",
       "      <td>0.193416</td>\n",
       "    </tr>\n",
       "    <tr>\n",
       "      <th>P_SEandCJ</th>\n",
       "      <td>0.117284</td>\n",
       "    </tr>\n",
       "    <tr>\n",
       "      <th>P_noSEnoCJ</th>\n",
       "      <td>0.516461</td>\n",
       "    </tr>\n",
       "    <tr>\n",
       "      <th>P_SEnoCJ</th>\n",
       "      <td>0.290123</td>\n",
       "    </tr>\n",
       "    <tr>\n",
       "      <th>P_noSEandCJ</th>\n",
       "      <td>0.076132</td>\n",
       "    </tr>\n",
       "    <tr>\n",
       "      <th>P_SECJ</th>\n",
       "      <td>0.606383</td>\n",
       "    </tr>\n",
       "    <tr>\n",
       "      <th>P_CJSE</th>\n",
       "      <td>0.287879</td>\n",
       "    </tr>\n",
       "    <tr>\n",
       "      <th>P_noSECJ</th>\n",
       "      <td>0.393617</td>\n",
       "    </tr>\n",
       "    <tr>\n",
       "      <th>P_noCJSE</th>\n",
       "      <td>0.712121</td>\n",
       "    </tr>\n",
       "  </tbody>\n",
       "</table>\n",
       "</div>"
      ],
      "text/plain": [
       "              nominal\n",
       "P_SE         0.407407\n",
       "P_CJ         0.193416\n",
       "P_SEandCJ    0.117284\n",
       "P_noSEnoCJ   0.516461\n",
       "P_SEnoCJ     0.290123\n",
       "P_noSEandCJ  0.076132\n",
       "P_SECJ       0.606383\n",
       "P_CJSE       0.287879\n",
       "P_noSECJ     0.393617\n",
       "P_noCJSE     0.712121"
      ]
     },
     "execution_count": 220,
     "metadata": {},
     "output_type": "execute_result"
    }
   ],
   "source": [
    "results"
   ]
  },
  {
   "cell_type": "markdown",
   "metadata": {},
   "source": [
    "--------------------------------------\n",
    "\n",
    "### Expected Detections of planet types\n",
    "\n",
    "Barbato et al. (2018) conducted an RV search for SE in 20 systems and find none. \n",
    "ZW18 claim that their zero detection is \"consistent at 95% confidence level\". \n",
    "\n",
    "Let's calculate the probability of detecting zero SEs in a sample of 20 systems assuming 50% detection probability and 30% SE occurrence. "
   ]
  },
  {
   "cell_type": "code",
   "execution_count": 223,
   "metadata": {
    "collapsed": true
   },
   "outputs": [],
   "source": [
    "def measure(p_SE, p_detect):\n",
    "    \"\"\"Detect or not detect a planet in one system.\"\"\"\n",
    "    ran = np.random.random()\n",
    "    if ran < (p_detect*p_SE):\n",
    "        return True\n",
    "    else:\n",
    "        return False\n",
    "    \n",
    "def survey(p_SE, p_detect, Nmeasurements):\n",
    "    \"\"\"Conduct a survey in Nmeasurements systems.\"\"\"\n",
    "    return [measure(p_SE, p_detect) for n in range(Nmeasurements)]"
   ]
  },
  {
   "cell_type": "code",
   "execution_count": 239,
   "metadata": {
    "collapsed": true
   },
   "outputs": [],
   "source": [
    "def plot_histDetections(ensemble, Nmeasurements):\n",
    "    \"\"\"plot a histogram showing the probabilities to detect\n",
    "    [0, 1, ...N] planets in a survey.\n",
    "    \"\"\"\n",
    "    fig, ax = plt.subplots()\n",
    "    H, bins, patches = plt.hist(ensemble, bins=[i -0.5 for i in range(max(ensemble) + 1)],\n",
    "                                density=True)\n",
    "    ax.set_xlabel('Number of SE detections per {} systems'.format(Nmeasurements))\n",
    "    ax.set_ylabel('Probability')\n",
    "    return H"
   ]
  },
  {
   "cell_type": "code",
   "execution_count": 244,
   "metadata": {},
   "outputs": [
    {
     "name": "stdout",
     "output_type": "stream",
     "text": [
      "Using matplotlib backend: Qt5Agg\n",
      "Populating the interactive namespace from numpy and matplotlib\n"
     ]
    }
   ],
   "source": [
    "%pylab"
   ]
  },
  {
   "cell_type": "code",
   "execution_count": 247,
   "metadata": {},
   "outputs": [
    {
     "data": {
      "text/plain": [
       "0.397859143657463"
      ]
     },
     "execution_count": 247,
     "metadata": {},
     "output_type": "execute_result"
    }
   ],
   "source": [
    "p_SE = .09\n",
    "p_detect = .5\n",
    "Nmeasurements = 20\n",
    "Nexperiments = 10000\n",
    "\n",
    "# Conduct Nexperiments surveys. Save the number of detected planets for each survey.\n",
    "ensemble = [sum(survey(p_SE, p_detect, Nmeasurements)) for N in range(Nexperiments)]\n",
    "\n",
    "# plot the probabilities and show the probability to detect zero planets\n",
    "H = plot_histDetections(ensemble, Nmeasurements)\n",
    "H[0]"
   ]
  },
  {
   "cell_type": "markdown",
   "metadata": {},
   "source": [
    "If P(SE) = 30%, there is only a 3.9% chance of finding zero planets in Barbato's survey.\n",
    "\n",
    "If P(SE) = ~9%, as Barbato+18 suggest, the probability for zero detection rises to 40%. "
   ]
  },
  {
   "cell_type": "markdown",
   "metadata": {},
   "source": [
    "--------------------------------"
   ]
  },
  {
   "cell_type": "code",
   "execution_count": null,
   "metadata": {
    "collapsed": true
   },
   "outputs": [],
   "source": []
  }
 ],
 "metadata": {
  "kernelspec": {
   "display_name": "Python 3",
   "language": "python",
   "name": "python3"
  },
  "language_info": {
   "codemirror_mode": {
    "name": "ipython",
    "version": 3
   },
   "file_extension": ".py",
   "mimetype": "text/x-python",
   "name": "python",
   "nbconvert_exporter": "python",
   "pygments_lexer": "ipython3",
   "version": "3.6.3"
  }
 },
 "nbformat": 4,
 "nbformat_minor": 2
}
