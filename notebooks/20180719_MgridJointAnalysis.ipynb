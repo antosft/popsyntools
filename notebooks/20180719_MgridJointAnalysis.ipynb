{
 "cells": [
  {
   "cell_type": "code",
   "execution_count": 1,
   "metadata": {},
   "outputs": [
    {
     "name": "stdout",
     "output_type": "stream",
     "text": [
      "/home/schlecker/repos/planeteScripts\n"
     ]
    }
   ],
   "source": [
    "cd /home/schlecker/repos/planeteScripts"
   ]
  },
  {
   "cell_type": "code",
   "execution_count": 2,
   "metadata": {},
   "outputs": [],
   "source": [
    "import numpy as np\n",
    "import matplotlib.pyplot as plt\n",
    "import seaborn as sns\n",
    "import pandas as pd\n",
    "from scipy.optimize import curve_fit\n",
    "\n",
    "import output\n",
    "import plots\n",
    "import stats\n",
    "import utils\n",
    "\n",
    "%load_ext autoreload\n",
    "%autoreload 2\n",
    "\n",
    "# default output folder\n",
    "outputs = '/home/schlecker/phd/planete/outputs/pop06_MstarGrid/'\n",
    "# outputs = '/media/martin/Daten/phd/planete/outputs/pop06_MstarGrid/'\n",
    "\n",
    "pd.set_option('display.max_columns', 500)"
   ]
  },
  {
   "cell_type": "markdown",
   "metadata": {},
   "source": [
    "## Basic statistics"
   ]
  },
  {
   "cell_type": "markdown",
   "metadata": {},
   "source": [
    "### initiate the 'master' population with subpopulations for each stellar mass\n",
    "All ref_red data will be in one multiindex-dataframe"
   ]
  },
  {
   "cell_type": "code",
   "execution_count": 3,
   "metadata": {
    "collapsed": true
   },
   "outputs": [],
   "source": [
    "filenames = ['ref_red5e9_0.3Msol.dat', 'ref_red5e9_0.5Msol.dat', \n",
    "             'ref_red5e9_0.7Msol.dat', 'ref_red5e9_1.0Msol.dat'] \n",
    "fileList = [outputs + f for f in filenames]\n",
    "Mgrid = output.Population(fileList, name='Mgrid')"
   ]
  },
  {
   "cell_type": "markdown",
   "metadata": {},
   "source": [
    "how about a summary plot?"
   ]
  },
  {
   "cell_type": "code",
   "execution_count": null,
   "metadata": {
    "collapsed": true
   },
   "outputs": [],
   "source": [
    "def plot_typeStats(populations):\n",
    "    \"\"\"\n",
    "    \n",
    "    \"\"\"\n",
    "    if isinstance(populations, list):\n",
    "        stats = {p.name : p.get_typeStats() for p in populations}\n",
    "        fig, ax = plt.subplots()\n",
    "        stellarMasses = [0.3, 0.5, 0.7, 1.0]\n",
    "        for M, Mstar in enumerate(stats.keys()):\n",
    "            for planetType in stats[Mstar]:\n",
    "                plt.errorbar(stellarMasses[M], stats[Mstar][planetType]['meanMetallicity'], stats[Mstar][planetType]['stdMetallicity'],\n",
    "                             capsize=40., fmt='o', label=planetType)\n",
    "        plt.legend()"
   ]
  },
  {
   "cell_type": "markdown",
   "metadata": {},
   "source": [
    "## disk lifetime analysis"
   ]
  },
  {
   "cell_type": "code",
   "execution_count": null,
   "metadata": {
    "collapsed": true
   },
   "outputs": [],
   "source": [
    "tDiskFiles = [outputs + s for s in ['ref_redtdisk_0.3Msol.dat','ref_redtdisk_0.5Msol.dat', 'ref_redtdisk_0.7Msol.dat', 'ref_redtdisk_1.0Msol.dat']]"
   ]
  },
  {
   "cell_type": "code",
   "execution_count": null,
   "metadata": {
    "collapsed": true
   },
   "outputs": [],
   "source": [
    "Mgrid = output.Population()\n",
    "Mgrid.read_tDiskData(tDiskFiles)"
   ]
  },
  {
   "cell_type": "markdown",
   "metadata": {},
   "source": [
    "compute disk fractions and store them separately for each Mstar"
   ]
  },
  {
   "cell_type": "code",
   "execution_count": null,
   "metadata": {
    "collapsed": true
   },
   "outputs": [],
   "source": [
    "diskFractions = {Mstar : utils.get_diskFractions(tDiskData, Ntimes=50) for Mstar, tDiskData in Mgrid.tDiskData.groupby(level=0)}"
   ]
  },
  {
   "cell_type": "markdown",
   "metadata": {},
   "source": [
    "fit exponential function to disk fractions"
   ]
  },
  {
   "cell_type": "markdown",
   "metadata": {},
   "source": [
    "To parametrize the fraction of remaining disks, we apply a simple exponential fit of the form f(t) = A*exp(-t/tau) + C. There is a clear trend of increasing disk lifetimes with increasing stellar mass. "
   ]
  },
  {
   "cell_type": "code",
   "execution_count": null,
   "metadata": {
    "collapsed": true
   },
   "outputs": [],
   "source": [
    "# import ipdb; ipdb.set_trace()"
   ]
  },
  {
   "cell_type": "code",
   "execution_count": null,
   "metadata": {
    "collapsed": true
   },
   "outputs": [],
   "source": [
    "ax, diskFractions, tau, std_tau = plots.plot_diskFractions(diskFractions)"
   ]
  },
  {
   "cell_type": "markdown",
   "metadata": {},
   "source": [
    "what is the trend in 'tau'?"
   ]
  },
  {
   "cell_type": "code",
   "execution_count": null,
   "metadata": {
    "collapsed": true
   },
   "outputs": [],
   "source": [
    "Mstar = [float(key[:-4]) for key in diskFractions.keys()]\n",
    "# tau = [m[2][1] for m in diskFractions.values()]"
   ]
  },
  {
   "cell_type": "code",
   "execution_count": null,
   "metadata": {
    "collapsed": true,
    "scrolled": false
   },
   "outputs": [],
   "source": [
    "ax = plots.plot_diskLifetimeComparison(Mstar, tau, std_tau, nSigma=1)"
   ]
  },
  {
   "cell_type": "markdown",
   "metadata": {},
   "source": [
    "In this plot we see that the scaling of tau is positive and linear in host star mass. This contradicts the findings of Ribas et al. (2015), who not only find a negative trend with some significance, but also report typical infrared excess decay times of ~(2-6)Myr, which is consistently lower than our values"
   ]
  },
  {
   "cell_type": "markdown",
   "metadata": {},
   "source": [
    "### Mstar-dependent histograms"
   ]
  },
  {
   "cell_type": "code",
   "execution_count": 5,
   "metadata": {
    "collapsed": true
   },
   "outputs": [],
   "source": [
    "def plot_multiHistogram(dataFrame, columnNames, ax=None, **kwargs):\n",
    "    \"\"\" Plot multiple histograms from a dataFrame into the same axis.\n",
    "    \n",
    "    Parameters\n",
    "    ----------\n",
    "    dataFrame : pandas DataFrame\n",
    "        dataFrame containing column(s) stated in 'columnNames'\n",
    "    columnNames : str or list\n",
    "        name(s) of the column(s) to plot.\n",
    "        \n",
    "    Returns\n",
    "    -------\n",
    "    ax : matplotlib axis\n",
    "        axis with the plot\n",
    "    \"\"\"\n",
    "    if ax == None:\n",
    "        fig, ax = plt.subplots()\n",
    "    \n",
    "    if not kwargs:\n",
    "        mplKwargs = {'alpha' : 0.6,\n",
    "                     'histtype' : 'stepfilled',\n",
    "                     'edgecolor' : 'black',\n",
    "                     'linewidth' : 1.2,\n",
    "                     'bins' : 50}\n",
    "    else:\n",
    "        mplKwargs = {}\n",
    "    \n",
    "    if isinstance(columnNames, list):\n",
    "        # plot different columns of the same dataFrame        \n",
    "        for name in columnNames:\n",
    "            ax.hist(dataFrame[name], label=name, **mplKwargs, **kwargs)\n",
    "    \n",
    "    elif isinstance(columnNames, str):\n",
    "        # assume that dataFrame is multiindexed, iterate over outermost level\n",
    "        for label, subpopulation in dataFrame.groupby(level=0):\n",
    "           ax.hist(subpopulation[columnNames], label=label, **mplKwargs, **kwargs)\n",
    "    ax.legend()\n",
    "    return ax\n",
    "\n",
    "\n",
    "# test\n",
    "# group = Mgrid.tDiskData.groupby(level=0)\n",
    "# tDiskData03 = group.get_group('0.3Msol')\n",
    "# plot_multiHistogram(tDiskData03, ['m', 'r', 't'], bins=50)\n",
    "\n",
    "# more tests\n",
    "# plot_multiHistogram(Mgrid.tDiskData, 'm', bins=50)"
   ]
  },
  {
   "cell_type": "markdown",
   "metadata": {},
   "source": [
    "## create occurrence maps"
   ]
  },
  {
   "cell_type": "code",
   "execution_count": null,
   "metadata": {
    "collapsed": true
   },
   "outputs": [],
   "source": [
    "plots.plot_occurrence?"
   ]
  },
  {
   "cell_type": "markdown",
   "metadata": {},
   "source": [
    "#### plot all maps into one figure"
   ]
  },
  {
   "cell_type": "code",
   "execution_count": null,
   "metadata": {
    "collapsed": true
   },
   "outputs": [],
   "source": [
    "# fix all ranges for better comparison of subpopulations\n",
    "smaRange = [1e-2, 50.] \n",
    "radRange = [2e-1, 400.]\n",
    "colRange = [0., 10.]\n",
    "\n",
    "fig, axes = plt.subplots(2,2, sharex=True, sharey=True)\n",
    "\n",
    "for (label, population), ax in zip(Mgrid.tDiskData.groupby(level=0), axes.reshape(-1)):\n",
    "\n",
    "    h, x, y, ax, im = plots.plot_occurrence(population, xAxis='a', logColormap=True, xRange=smaRange,\n",
    "                                        yRange=radRange, zRange=colRange, showColorbar=False, ax=ax)\n",
    "    ax.set_xlabel('')\n",
    "    ax.set_ylabel('')\n",
    "    \n",
    "    t = ax.text(.07, .85, label[:-4] + ' M$_\\odot$', color='white', transform=ax.transAxes)\n",
    "\n",
    "    \n",
    "fig.text(0.45, 0.01, 'Semimajor Axis [au]', ha='center')\n",
    "fig.text(0.01, 0.55, 'Planet Size [$\\mathrm{R_{Earth}}$]', va='center', rotation='vertical')\n",
    "  \n",
    "cbar_ax = fig.add_axes([0.84, 0.13, 0.04, 0.84])\n",
    "cbarlabel = r\"Planets per 100 Stars per $a-R_P$ interval\"\n",
    "cbar = fig.colorbar(im, cax=cbar_ax)\n",
    "cbar.set_label(cbarlabel, labelpad=5.)\n",
    "\n",
    "plt.subplots_adjust(left=.11, bottom=.13, right=.79, top=.97, wspace=.08, hspace=.08)"
   ]
  },
  {
   "cell_type": "markdown",
   "metadata": {},
   "source": [
    "## Joint simlist - population analysis"
   ]
  },
  {
   "cell_type": "code",
   "execution_count": null,
   "metadata": {},
   "outputs": [],
   "source": [
    "# read simulation lists into population\n",
    "simlistFiles = [outputs + s for s in ['simulation_list_0.3Msol.dat', 'simulation_list_0.5Msol.dat', 'simulation_list_0.7Msol.dat', 'simulation_list_1.0Msol.dat']]\n",
    "Mgrid.read_simlist(simlistFiles)"
   ]
  },
  {
   "cell_type": "markdown",
   "metadata": {},
   "source": [
    "### check scaling of initial disk mass"
   ]
  },
  {
   "cell_type": "code",
   "execution_count": 7,
   "metadata": {
    "scrolled": true
   },
   "outputs": [
    {
     "data": {
      "image/png": "[encoded data removed]",
      "text/plain": [
       "<matplotlib.figure.Figure at 0x7fe09bc3bda0>"
      ]
     },
     "metadata": {},
     "output_type": "display_data"
    }
   ],
   "source": [
    "ax = plot_multiHistogram(Mgrid.simlist, 'sigma0', histtype='stepfilled',\n",
    "                    edgecolor='black', linewidth=1.2, bins=50)"
   ]
  },
  {
   "cell_type": "code",
   "execution_count": 8,
   "metadata": {},
   "outputs": [
    {
     "data": {
      "text/html": [
       "<div>\n",
       "<style>\n",
       "    .dataframe thead tr:only-child th {\n",
       "        text-align: right;\n",
       "    }\n",
       "\n",
       "    .dataframe thead th {\n",
       "        text-align: left;\n",
       "    }\n",
       "\n",
       "    .dataframe tbody tr th {\n",
       "        vertical-align: top;\n",
       "    }\n",
       "</style>\n",
       "<table border=\"1\" class=\"dataframe\">\n",
       "  <thead>\n",
       "    <tr style=\"text-align: right;\">\n",
       "      <th></th>\n",
       "      <th>count</th>\n",
       "      <th>mean</th>\n",
       "      <th>std</th>\n",
       "      <th>min</th>\n",
       "      <th>25%</th>\n",
       "      <th>50%</th>\n",
       "      <th>75%</th>\n",
       "      <th>max</th>\n",
       "    </tr>\n",
       "  </thead>\n",
       "  <tbody>\n",
       "    <tr>\n",
       "      <th>0.3Msol</th>\n",
       "      <td>100000.0</td>\n",
       "      <td>86.666017</td>\n",
       "      <td>25.276031</td>\n",
       "      <td>47.793820</td>\n",
       "      <td>66.209441</td>\n",
       "      <td>82.780822</td>\n",
       "      <td>103.756507</td>\n",
       "      <td>151.34799</td>\n",
       "    </tr>\n",
       "    <tr>\n",
       "      <th>0.5Msol</th>\n",
       "      <td>100000.0</td>\n",
       "      <td>101.635550</td>\n",
       "      <td>29.680076</td>\n",
       "      <td>56.065275</td>\n",
       "      <td>77.518714</td>\n",
       "      <td>96.877105</td>\n",
       "      <td>121.758120</td>\n",
       "      <td>177.55120</td>\n",
       "    </tr>\n",
       "    <tr>\n",
       "      <th>0.7Msol</th>\n",
       "      <td>100000.0</td>\n",
       "      <td>112.761427</td>\n",
       "      <td>32.816785</td>\n",
       "      <td>62.282532</td>\n",
       "      <td>86.256620</td>\n",
       "      <td>107.381430</td>\n",
       "      <td>134.934715</td>\n",
       "      <td>197.22960</td>\n",
       "    </tr>\n",
       "    <tr>\n",
       "      <th>1.0Msol</th>\n",
       "      <td>100000.0</td>\n",
       "      <td>126.125117</td>\n",
       "      <td>36.724669</td>\n",
       "      <td>69.624182</td>\n",
       "      <td>96.416485</td>\n",
       "      <td>120.384990</td>\n",
       "      <td>150.995765</td>\n",
       "      <td>220.49399</td>\n",
       "    </tr>\n",
       "  </tbody>\n",
       "</table>\n",
       "</div>"
      ],
      "text/plain": [
       "            count        mean        std        min        25%         50%  \\\n",
       "0.3Msol  100000.0   86.666017  25.276031  47.793820  66.209441   82.780822   \n",
       "0.5Msol  100000.0  101.635550  29.680076  56.065275  77.518714   96.877105   \n",
       "0.7Msol  100000.0  112.761427  32.816785  62.282532  86.256620  107.381430   \n",
       "1.0Msol  100000.0  126.125117  36.724669  69.624182  96.416485  120.384990   \n",
       "\n",
       "                75%        max  \n",
       "0.3Msol  103.756507  151.34799  \n",
       "0.5Msol  121.758120  177.55120  \n",
       "0.7Msol  134.934715  197.22960  \n",
       "1.0Msol  150.995765  220.49399  "
      ]
     },
     "execution_count": 8,
     "metadata": {},
     "output_type": "execute_result"
    }
   ],
   "source": [
    "Mgrid.simlist.groupby(level=0).sigma0.describe()"
   ]
  },
  {
   "cell_type": "markdown",
   "metadata": {},
   "source": [
    "translate to disk mass to check its distribution (we have to work with a smaller sample because 400'000 entries are a bit heavy)"
   ]
  },
  {
   "cell_type": "code",
   "execution_count": 101,
   "metadata": {
    "collapsed": true
   },
   "outputs": [],
   "source": [
    "Mgrid.simlist['mDisk'] = Mgrid.simlist['sigma0']\n",
    "\n",
    "simlistSample= Mgrid.simlist.sample(10000)"
   ]
  },
  {
   "cell_type": "code",
   "execution_count": 102,
   "metadata": {
    "collapsed": true
   },
   "outputs": [],
   "source": [
    "simlistSample['mDisk'] = simlistSample['mDisk'].apply(utils.get_M0, args=(simlistSample['a_out'], 0.9))"
   ]
  },
  {
   "cell_type": "code",
   "execution_count": 103,
   "metadata": {},
   "outputs": [
    {
     "data": {
      "text/html": [
       "<div>\n",
       "<style>\n",
       "    .dataframe thead tr:only-child th {\n",
       "        text-align: right;\n",
       "    }\n",
       "\n",
       "    .dataframe thead th {\n",
       "        text-align: left;\n",
       "    }\n",
       "\n",
       "    .dataframe tbody tr th {\n",
       "        vertical-align: top;\n",
       "    }\n",
       "</style>\n",
       "<table border=\"1\" class=\"dataframe\">\n",
       "  <thead>\n",
       "    <tr style=\"text-align: right;\">\n",
       "      <th></th>\n",
       "      <th>count</th>\n",
       "      <th>mean</th>\n",
       "      <th>std</th>\n",
       "      <th>min</th>\n",
       "      <th>25%</th>\n",
       "      <th>50%</th>\n",
       "      <th>75%</th>\n",
       "      <th>max</th>\n",
       "    </tr>\n",
       "  </thead>\n",
       "  <tbody>\n",
       "    <tr>\n",
       "      <th>0.3Msol</th>\n",
       "      <td>2551.0</td>\n",
       "      <td>0.016767</td>\n",
       "      <td>0.004909</td>\n",
       "      <td>0.009203</td>\n",
       "      <td>0.012811</td>\n",
       "      <td>0.015870</td>\n",
       "      <td>0.020178</td>\n",
       "      <td>0.029114</td>\n",
       "    </tr>\n",
       "    <tr>\n",
       "      <th>0.5Msol</th>\n",
       "      <td>2446.0</td>\n",
       "      <td>0.019306</td>\n",
       "      <td>0.005683</td>\n",
       "      <td>0.010794</td>\n",
       "      <td>0.014705</td>\n",
       "      <td>0.018341</td>\n",
       "      <td>0.023296</td>\n",
       "      <td>0.034158</td>\n",
       "    </tr>\n",
       "    <tr>\n",
       "      <th>0.7Msol</th>\n",
       "      <td>2423.0</td>\n",
       "      <td>0.021892</td>\n",
       "      <td>0.006335</td>\n",
       "      <td>0.011996</td>\n",
       "      <td>0.016892</td>\n",
       "      <td>0.020824</td>\n",
       "      <td>0.026258</td>\n",
       "      <td>0.037877</td>\n",
       "    </tr>\n",
       "    <tr>\n",
       "      <th>1.0Msol</th>\n",
       "      <td>2580.0</td>\n",
       "      <td>0.024364</td>\n",
       "      <td>0.007136</td>\n",
       "      <td>0.013397</td>\n",
       "      <td>0.018567</td>\n",
       "      <td>0.023266</td>\n",
       "      <td>0.029310</td>\n",
       "      <td>0.042325</td>\n",
       "    </tr>\n",
       "  </tbody>\n",
       "</table>\n",
       "</div>"
      ],
      "text/plain": [
       "          count      mean       std       min       25%       50%       75%  \\\n",
       "0.3Msol  2551.0  0.016767  0.004909  0.009203  0.012811  0.015870  0.020178   \n",
       "0.5Msol  2446.0  0.019306  0.005683  0.010794  0.014705  0.018341  0.023296   \n",
       "0.7Msol  2423.0  0.021892  0.006335  0.011996  0.016892  0.020824  0.026258   \n",
       "1.0Msol  2580.0  0.024364  0.007136  0.013397  0.018567  0.023266  0.029310   \n",
       "\n",
       "              max  \n",
       "0.3Msol  0.029114  \n",
       "0.5Msol  0.034158  \n",
       "0.7Msol  0.037877  \n",
       "1.0Msol  0.042325  "
      ]
     },
     "execution_count": 103,
     "metadata": {},
     "output_type": "execute_result"
    }
   ],
   "source": [
    "simlistSample.groupby(level=0).mDisk.describe()"
   ]
  },
  {
   "cell_type": "code",
   "execution_count": 104,
   "metadata": {
    "scrolled": false
   },
   "outputs": [
    {
     "data": {
      "text/plain": [
       "<matplotlib.axes._subplots.AxesSubplot at 0x7f19248275c0>"
      ]
     },
     "execution_count": 104,
     "metadata": {},
     "output_type": "execute_result"
    },
    {
     "data": {
      "image/png": "[encoded data removed]",
      "text/plain": [
       "<matplotlib.figure.Figure at 0x7f191a514a58>"
      ]
     },
     "metadata": {},
     "output_type": "display_data"
    }
   ],
   "source": [
    "plot_multiHistogram(simlistSample, 'mDisk')#, histtype='stepfilled', edgecolor='black', linewidth=1.2, bins=50)"
   ]
  },
  {
   "cell_type": "code",
   "execution_count": null,
   "metadata": {
    "collapsed": true
   },
   "outputs": [],
   "source": [
    "simlistSample.groupby(level=0).groups.keys()"
   ]
  },
  {
   "cell_type": "markdown",
   "metadata": {},
   "source": [
    "does the linear scaling function work?"
   ]
  },
  {
   "cell_type": "code",
   "execution_count": null,
   "metadata": {
    "collapsed": true
   },
   "outputs": [],
   "source": [
    "fig, ax = plt.subplots()\n",
    "x = np.linspace(0,10)\n",
    "y = utils.linearScale(0,10,2,10,x)\n",
    "ax.plot(x, y)\n",
    "plt.show()"
   ]
  },
  {
   "cell_type": "markdown",
   "metadata": {},
   "source": [
    "looks good. "
   ]
  },
  {
   "cell_type": "markdown",
   "metadata": {},
   "source": [
    "The disk masses / Sigma_0 doesn't seem to scale linearly with Mstar as planned. let's try to reproduce what happens in make_list to find the bug"
   ]
  },
  {
   "cell_type": "code",
   "execution_count": 11,
   "metadata": {
    "collapsed": true
   },
   "outputs": [],
   "source": [
    "Mstar = [0.3, 0.5, 0.7, 1.0]\n",
    "\n",
    "# distribution from Andrews et al. (2010)\n",
    "MdiskDist = 10**(-1.66 + 0.56*np.random.normal(size=10000))\n",
    "\n",
    "# scale disk masses linearly with Mstar\n",
    "disk_mass = [MdiskDist*M**1.0 for M in Mstar]"
   ]
  },
  {
   "cell_type": "code",
   "execution_count": 133,
   "metadata": {
    "scrolled": true
   },
   "outputs": [
    {
     "data": {
      "text/html": [
       "<div>\n",
       "<style>\n",
       "    .dataframe thead tr:only-child th {\n",
       "        text-align: right;\n",
       "    }\n",
       "\n",
       "    .dataframe thead th {\n",
       "        text-align: left;\n",
       "    }\n",
       "\n",
       "    .dataframe tbody tr th {\n",
       "        vertical-align: top;\n",
       "    }\n",
       "</style>\n",
       "<table border=\"1\" class=\"dataframe\">\n",
       "  <thead>\n",
       "    <tr style=\"text-align: right;\">\n",
       "      <th></th>\n",
       "      <th>0.3</th>\n",
       "      <th>0.5</th>\n",
       "      <th>0.7</th>\n",
       "      <th>1.0</th>\n",
       "    </tr>\n",
       "  </thead>\n",
       "  <tbody>\n",
       "    <tr>\n",
       "      <th>count</th>\n",
       "      <td>10000.000000</td>\n",
       "      <td>10000.000000</td>\n",
       "      <td>10000.000000</td>\n",
       "      <td>10000.000000</td>\n",
       "    </tr>\n",
       "    <tr>\n",
       "      <th>mean</th>\n",
       "      <td>0.014361</td>\n",
       "      <td>0.023935</td>\n",
       "      <td>0.033508</td>\n",
       "      <td>0.047869</td>\n",
       "    </tr>\n",
       "    <tr>\n",
       "      <th>std</th>\n",
       "      <td>0.026670</td>\n",
       "      <td>0.044449</td>\n",
       "      <td>0.062229</td>\n",
       "      <td>0.088898</td>\n",
       "    </tr>\n",
       "    <tr>\n",
       "      <th>min</th>\n",
       "      <td>0.000042</td>\n",
       "      <td>0.000070</td>\n",
       "      <td>0.000098</td>\n",
       "      <td>0.000139</td>\n",
       "    </tr>\n",
       "    <tr>\n",
       "      <th>25%</th>\n",
       "      <td>0.002717</td>\n",
       "      <td>0.004528</td>\n",
       "      <td>0.006339</td>\n",
       "      <td>0.009056</td>\n",
       "    </tr>\n",
       "    <tr>\n",
       "      <th>50%</th>\n",
       "      <td>0.006487</td>\n",
       "      <td>0.010811</td>\n",
       "      <td>0.015135</td>\n",
       "      <td>0.021622</td>\n",
       "    </tr>\n",
       "    <tr>\n",
       "      <th>75%</th>\n",
       "      <td>0.015296</td>\n",
       "      <td>0.025493</td>\n",
       "      <td>0.035690</td>\n",
       "      <td>0.050986</td>\n",
       "    </tr>\n",
       "    <tr>\n",
       "      <th>max</th>\n",
       "      <td>0.577785</td>\n",
       "      <td>0.962975</td>\n",
       "      <td>1.348165</td>\n",
       "      <td>1.925949</td>\n",
       "    </tr>\n",
       "  </tbody>\n",
       "</table>\n",
       "</div>"
      ],
      "text/plain": [
       "                0.3           0.5           0.7           1.0\n",
       "count  10000.000000  10000.000000  10000.000000  10000.000000\n",
       "mean       0.014361      0.023935      0.033508      0.047869\n",
       "std        0.026670      0.044449      0.062229      0.088898\n",
       "min        0.000042      0.000070      0.000098      0.000139\n",
       "25%        0.002717      0.004528      0.006339      0.009056\n",
       "50%        0.006487      0.010811      0.015135      0.021622\n",
       "75%        0.015296      0.025493      0.035690      0.050986\n",
       "max        0.577785      0.962975      1.348165      1.925949"
      ]
     },
     "execution_count": 133,
     "metadata": {},
     "output_type": "execute_result"
    }
   ],
   "source": [
    "df = pd.DataFrame.from_items(zip([str(M) for M in Mstar], disk_mass))\n",
    "df.describe()"
   ]
  },
  {
   "cell_type": "code",
   "execution_count": 10,
   "metadata": {},
   "outputs": [
    {
     "ename": "NameError",
     "evalue": "name 'df' is not defined",
     "output_type": "error",
     "traceback": [
      "\u001b[0;31m---------------------------------------------------------------------------\u001b[0m",
      "\u001b[0;31mNameError\u001b[0m                                 Traceback (most recent call last)",
      "\u001b[0;32m<ipython-input-10-52735092643e>\u001b[0m in \u001b[0;36m<module>\u001b[0;34m()\u001b[0m\n\u001b[0;32m----> 1\u001b[0;31m \u001b[0mplot_multiHistogram\u001b[0m\u001b[0;34m(\u001b[0m\u001b[0mdf\u001b[0m\u001b[0;34m,\u001b[0m \u001b[0;34m[\u001b[0m\u001b[0mstr\u001b[0m\u001b[0;34m(\u001b[0m\u001b[0mM\u001b[0m\u001b[0;34m)\u001b[0m \u001b[0;32mfor\u001b[0m \u001b[0mM\u001b[0m \u001b[0;32min\u001b[0m \u001b[0mMstar\u001b[0m\u001b[0;34m]\u001b[0m\u001b[0;34m)\u001b[0m\u001b[0;34m\u001b[0m\u001b[0m\n\u001b[0m",
      "\u001b[0;31mNameError\u001b[0m: name 'df' is not defined"
     ]
    }
   ],
   "source": [
    "plot_multiHistogram(df, [str(M) for M in Mstar])"
   ]
  },
  {
   "cell_type": "markdown",
   "metadata": {},
   "source": [
    "We check the difference it makes when we apply the min/max cuts for mdisk"
   ]
  },
  {
   "cell_type": "code",
   "execution_count": 150,
   "metadata": {
    "collapsed": true
   },
   "outputs": [],
   "source": [
    "mdisks_nocut = '/home/schlecker/phd/planete/MstarGrid/mdisks_no_cut.csv'\n",
    "mdisks_nocut0p5 = '/home/schlecker/phd/planete/MstarGrid/mdisks_no_cut_0p5.csv'\n",
    "mdisksDebug = pd.read_csv(mdisks_nocut)\n",
    "mdisksDebug0p5 = pd.read_csv(mdisks_nocut0p5)"
   ]
  },
  {
   "cell_type": "code",
   "execution_count": 165,
   "metadata": {},
   "outputs": [
    {
     "data": {
      "text/plain": [
       "array([<matplotlib.axes._subplots.AxesSubplot object at 0x7f1904c689e8>], dtype=object)"
      ]
     },
     "execution_count": 165,
     "metadata": {},
     "output_type": "execute_result"
    }
   ],
   "source": [
    "ax = mdisksDebug0p5.hist(bins=50, alpha=.3)\n",
    "mdisksDebug.hist(bins=50, ax=ax, alpha=.3)"
   ]
  },
  {
   "cell_type": "markdown",
   "metadata": {},
   "source": [
    "-----------------------------"
   ]
  },
  {
   "cell_type": "markdown",
   "metadata": {},
   "source": [
    "#### look at the ref_red1e5, which include disk masses directly from make_list"
   ]
  },
  {
   "cell_type": "code",
   "execution_count": 18,
   "metadata": {},
   "outputs": [],
   "source": [
    "refred3e5Files = ['ref_red3e5_' + str(M) + 'Msol.dat' for M in Mstar]\n",
    "refred3e5Files = [outputs + s for s in refred3e5Files]\n",
    "MstarGrid3e5 = output.Population(refred3e5Files)"
   ]
  },
  {
   "cell_type": "code",
   "execution_count": 28,
   "metadata": {},
   "outputs": [
    {
     "data": {
      "text/plain": [
       "<matplotlib.axes._subplots.AxesSubplot at 0x7fe08002d128>"
      ]
     },
     "execution_count": 28,
     "metadata": {},
     "output_type": "execute_result"
    }
   ],
   "source": [
    "plots.plot_multiHistogram(MstarGrid3e5.data, 'mdiskg')"
   ]
  },
  {
   "cell_type": "code",
   "execution_count": 31,
   "metadata": {},
   "outputs": [
    {
     "data": {
      "text/html": [
       "<div>\n",
       "<style>\n",
       "    .dataframe thead tr:only-child th {\n",
       "        text-align: right;\n",
       "    }\n",
       "\n",
       "    .dataframe thead th {\n",
       "        text-align: left;\n",
       "    }\n",
       "\n",
       "    .dataframe tbody tr th {\n",
       "        vertical-align: top;\n",
       "    }\n",
       "</style>\n",
       "<table border=\"1\" class=\"dataframe\">\n",
       "  <thead>\n",
       "    <tr style=\"text-align: right;\">\n",
       "      <th></th>\n",
       "      <th>count</th>\n",
       "      <th>mean</th>\n",
       "      <th>std</th>\n",
       "      <th>min</th>\n",
       "      <th>25%</th>\n",
       "      <th>50%</th>\n",
       "      <th>75%</th>\n",
       "      <th>max</th>\n",
       "    </tr>\n",
       "  </thead>\n",
       "  <tbody>\n",
       "    <tr>\n",
       "      <th>0.3Msol</th>\n",
       "      <td>9988.0</td>\n",
       "      <td>0.008391</td>\n",
       "      <td>0.008878</td>\n",
       "      <td>0.000551</td>\n",
       "      <td>0.002114</td>\n",
       "      <td>0.004937</td>\n",
       "      <td>0.011421</td>\n",
       "      <td>0.041915</td>\n",
       "    </tr>\n",
       "    <tr>\n",
       "      <th>0.5Msol</th>\n",
       "      <td>9999.0</td>\n",
       "      <td>0.015109</td>\n",
       "      <td>0.015647</td>\n",
       "      <td>0.001136</td>\n",
       "      <td>0.003976</td>\n",
       "      <td>0.008934</td>\n",
       "      <td>0.020608</td>\n",
       "      <td>0.073322</td>\n",
       "    </tr>\n",
       "    <tr>\n",
       "      <th>0.7Msol</th>\n",
       "      <td>9993.0</td>\n",
       "      <td>0.021449</td>\n",
       "      <td>0.021921</td>\n",
       "      <td>0.001743</td>\n",
       "      <td>0.005901</td>\n",
       "      <td>0.012795</td>\n",
       "      <td>0.029140</td>\n",
       "      <td>0.104426</td>\n",
       "    </tr>\n",
       "    <tr>\n",
       "      <th>1.0Msol</th>\n",
       "      <td>9969.0</td>\n",
       "      <td>0.031076</td>\n",
       "      <td>0.030789</td>\n",
       "      <td>0.002721</td>\n",
       "      <td>0.009084</td>\n",
       "      <td>0.019530</td>\n",
       "      <td>0.042031</td>\n",
       "      <td>0.151233</td>\n",
       "    </tr>\n",
       "  </tbody>\n",
       "</table>\n",
       "</div>"
      ],
      "text/plain": [
       "          count      mean       std       min       25%       50%       75%  \\\n",
       "0.3Msol  9988.0  0.008391  0.008878  0.000551  0.002114  0.004937  0.011421   \n",
       "0.5Msol  9999.0  0.015109  0.015647  0.001136  0.003976  0.008934  0.020608   \n",
       "0.7Msol  9993.0  0.021449  0.021921  0.001743  0.005901  0.012795  0.029140   \n",
       "1.0Msol  9969.0  0.031076  0.030789  0.002721  0.009084  0.019530  0.042031   \n",
       "\n",
       "              max  \n",
       "0.3Msol  0.041915  \n",
       "0.5Msol  0.073322  \n",
       "0.7Msol  0.104426  \n",
       "1.0Msol  0.151233  "
      ]
     },
     "execution_count": 31,
     "metadata": {},
     "output_type": "execute_result"
    }
   ],
   "source": [
    "MstarGrid3e5.data.groupby(level=0).mdiskg.describe()"
   ]
  },
  {
   "cell_type": "markdown",
   "metadata": {},
   "source": [
    "This scales as expected."
   ]
  },
  {
   "cell_type": "markdown",
   "metadata": {
    "collapsed": true
   },
   "source": [
    "### check relation between Tdisk, Mwind, Sigma0"
   ]
  },
  {
   "cell_type": "code",
   "execution_count": null,
   "metadata": {
    "collapsed": true
   },
   "outputs": [],
   "source": [
    "from scipy.optimize import curve_fit\n",
    "\n",
    "def tDiskRel(Mwind, Sigma0, a, b, c):\n",
    "    return a*(1e-7/Mwind)**b*(Sigma0/100)**c\n",
    "\n",
    "params, covariance = curve_fit(tDiskRel, [simlistSample['windM'], simlistSample['sigma0']])"
   ]
  },
  {
   "cell_type": "code",
   "execution_count": null,
   "metadata": {
    "collapsed": true
   },
   "outputs": [],
   "source": [
    "plt.plot(simlistSample['windM'], tDiskRel(simlistSample['windM'], simlistSample['sigma0'], *params))"
   ]
  },
  {
   "cell_type": "markdown",
   "metadata": {},
   "source": [
    "...stopped for now"
   ]
  },
  {
   "cell_type": "markdown",
   "metadata": {
    "collapsed": true
   },
   "source": [
    "### Distributions for giant planets\n",
    "Since we are working with single-planet-populations, let's focus on giants (which should be little affected by planet-planet interactions) "
   ]
  },
  {
   "cell_type": "code",
   "execution_count": 32,
   "metadata": {},
   "outputs": [
    {
     "data": {
      "text/plain": [
       "2704"
      ]
     },
     "execution_count": 32,
     "metadata": {},
     "output_type": "execute_result"
    }
   ],
   "source": [
    "# define minimum mass for giant planet\n",
    "mGiant = 300.\n",
    "\n",
    "giants = Mgrid.data[(Mgrid.data['m'] > mGiant) & (Mgrid.data[64] == 0)]\n",
    "len(giants)"
   ]
  },
  {
   "cell_type": "code",
   "execution_count": 36,
   "metadata": {},
   "outputs": [
    {
     "data": {
      "text/plain": [
       "<matplotlib.axes._subplots.AxesSubplot at 0x7fec8d443630>"
      ]
     },
     "execution_count": 36,
     "metadata": {},
     "output_type": "execute_result"
    }
   ],
   "source": [
    "plot_multiHistogram(giants, 'a')"
   ]
  }
 ],
 "metadata": {
  "kernelspec": {
   "display_name": "Python 3",
   "language": "python",
   "name": "python3"
  },
  "language_info": {
   "codemirror_mode": {
    "name": "ipython",
    "version": 3
   },
   "file_extension": ".py",
   "mimetype": "text/x-python",
   "name": "python",
   "nbconvert_exporter": "python",
   "pygments_lexer": "ipython3",
   "version": "3.6.3"
  }
 },
 "nbformat": 4,
 "nbformat_minor": 2
}
