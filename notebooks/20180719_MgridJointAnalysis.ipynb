{
 "cells": [
  {
   "cell_type": "code",
   "execution_count": null,
   "metadata": {
    "collapsed": true
   },
   "outputs": [],
   "source": [
    "cd /home/schlecker/repos/planeteScripts"
   ]
  },
  {
   "cell_type": "code",
   "execution_count": 292,
   "metadata": {},
   "outputs": [
    {
     "name": "stdout",
     "output_type": "stream",
     "text": [
      "The autoreload extension is already loaded. To reload it, use:\n",
      "  %reload_ext autoreload\n"
     ]
    }
   ],
   "source": [
    "import numpy as np\n",
    "import matplotlib.pyplot as plt\n",
    "import seaborn as sns\n",
    "import pandas as pd\n",
    "from scipy.optimize import curve_fit\n",
    "\n",
    "import output\n",
    "import plots\n",
    "import stats\n",
    "import utils\n",
    "\n",
    "%load_ext autoreload\n",
    "%autoreload 2\n",
    "\n",
    "# default output folder\n",
    "# outputs = '/home/schlecker/phd/planete/outputs/pop06_MstarGrid/'\n",
    "outputs = '/media/martin/Daten/phd/planete/outputs/pop06_MstarGrid/'\n",
    "\n",
    "pd.set_option('display.max_columns', 500)"
   ]
  },
  {
   "cell_type": "markdown",
   "metadata": {},
   "source": [
    "Read ref_reds into a list of populations"
   ]
  },
  {
   "cell_type": "code",
   "execution_count": null,
   "metadata": {},
   "outputs": [],
   "source": [
    "filenames = ['ref_red5e9_0.3Msol.dat', 'ref_red5e9_0.5Msol.dat', 'ref_red5e9_0.7Msol.dat', 'ref_red5e9_1.0Msol.dat'] \n",
    "populations = [output.Population(outputs + f, name=f[11:18]) for f in filenames]"
   ]
  },
  {
   "cell_type": "code",
   "execution_count": null,
   "metadata": {
    "collapsed": true
   },
   "outputs": [],
   "source": [
    "pops = output.Population([outputs + f for f in filenames])"
   ]
  },
  {
   "cell_type": "markdown",
   "metadata": {},
   "source": [
    "concatenate population data into a single multiindex-dataframe"
   ]
  },
  {
   "cell_type": "code",
   "execution_count": null,
   "metadata": {
    "collapsed": true,
    "scrolled": true
   },
   "outputs": [],
   "source": [
    "jointdf = pd.concat([pop.data for pop in populations], axis=0, keys=[pop.name for pop in populations])"
   ]
  },
  {
   "cell_type": "markdown",
   "metadata": {},
   "source": [
    "not yet sure what to do with this... lets get some stats"
   ]
  },
  {
   "cell_type": "code",
   "execution_count": null,
   "metadata": {
    "collapsed": true
   },
   "outputs": [],
   "source": [
    "stats = {p.name : p.get_typeStats() for p in populations}"
   ]
  },
  {
   "cell_type": "code",
   "execution_count": null,
   "metadata": {
    "collapsed": true,
    "scrolled": true
   },
   "outputs": [],
   "source": [
    "stats['0.5Msol']"
   ]
  },
  {
   "cell_type": "code",
   "execution_count": null,
   "metadata": {
    "collapsed": true
   },
   "outputs": [],
   "source": [
    "for planetType in stats['0.5Msol']:\n",
    "    print(planetType)"
   ]
  },
  {
   "cell_type": "markdown",
   "metadata": {},
   "source": [
    "how about a summary plot?"
   ]
  },
  {
   "cell_type": "code",
   "execution_count": null,
   "metadata": {
    "collapsed": true
   },
   "outputs": [],
   "source": [
    "def plot_typeStats(populations):\n",
    "    \"\"\"\n",
    "    \n",
    "    \"\"\"\n",
    "    if isinstance(populations, list):\n",
    "        stats = {p.name : p.get_typeStats() for p in populations}\n",
    "        fig, ax = plt.subplots()\n",
    "        stellarMasses = [0.3, 0.5, 0.7, 1.0]\n",
    "        for M, Mstar in enumerate(stats.keys()):\n",
    "            for planetType in stats[Mstar]:\n",
    "                plt.errorbar(stellarMasses[M], stats[Mstar][planetType]['meanMetallicity'], stats[Mstar][planetType]['stdMetallicity'],\n",
    "                             capsize=40., fmt='o', label=planetType)\n",
    "        plt.legend()"
   ]
  },
  {
   "cell_type": "code",
   "execution_count": null,
   "metadata": {
    "collapsed": true
   },
   "outputs": [],
   "source": [
    "plot_typeStats(populations)"
   ]
  },
  {
   "cell_type": "markdown",
   "metadata": {},
   "source": [
    "wow, this was rough. let's try something else"
   ]
  },
  {
   "cell_type": "code",
   "execution_count": null,
   "metadata": {
    "collapsed": true,
    "scrolled": true
   },
   "outputs": [],
   "source": [
    "for Mstar, MPop in jointdf.groupby(level=0):"
   ]
  },
  {
   "cell_type": "code",
   "execution_count": null,
   "metadata": {
    "collapsed": true
   },
   "outputs": [],
   "source": [
    "sns.catplot(x='Mstar', y='Metallicity', kind='bar', data=jointdf)"
   ]
  },
  {
   "cell_type": "markdown",
   "metadata": {},
   "source": [
    "## disk lifetime analysis"
   ]
  },
  {
   "cell_type": "code",
   "execution_count": 293,
   "metadata": {},
   "outputs": [],
   "source": [
    "tDiskFiles = [outputs + s for s in ['ref_redtdisk_0.3Msol.dat','ref_redtdisk_0.5Msol.dat', 'ref_redtdisk_0.7Msol.dat', 'ref_redtdisk_1.0Msol.dat']]"
   ]
  },
  {
   "cell_type": "code",
   "execution_count": 294,
   "metadata": {},
   "outputs": [],
   "source": [
    "Mgrid = output.Population()\n",
    "Mgrid.read_tDiskData(tDiskFiles)"
   ]
  },
  {
   "cell_type": "markdown",
   "metadata": {},
   "source": [
    "compute disk fractions and store them separately for each Mstar"
   ]
  },
  {
   "cell_type": "code",
   "execution_count": 373,
   "metadata": {},
   "outputs": [],
   "source": [
    "diskFractions = {Mstar : utils.get_diskFractions(tDiskData, Ntimes=50) for Mstar, tDiskData in Mgrid.tDiskData.groupby(level=0)}"
   ]
  },
  {
   "cell_type": "code",
   "execution_count": 343,
   "metadata": {},
   "outputs": [
    {
     "data": {
      "text/plain": [
       "count    9.988000e+03\n",
       "mean     8.929732e+06\n",
       "std      4.701408e+06\n",
       "min      1.298540e+06\n",
       "25%      5.220575e+06\n",
       "50%      7.918750e+06\n",
       "75%      1.172385e+07\n",
       "max      3.102870e+07\n",
       "Name: t, dtype: float64"
      ]
     },
     "execution_count": 343,
     "metadata": {},
     "output_type": "execute_result"
    }
   ],
   "source": [
    "# just a quick check\n",
    "group = Mgrid.tDiskData.groupby(level=0)\n",
    "tDiskData03 = group.get_group('0.3Msol')\n",
    "tDiskData03.t.describe()"
   ]
  },
  {
   "cell_type": "markdown",
   "metadata": {},
   "source": [
    "fit exponential function to disk fractions"
   ]
  },
  {
   "cell_type": "code",
   "execution_count": 339,
   "metadata": {
    "collapsed": true
   },
   "outputs": [],
   "source": [
    "def exponential(t, A, tau, C):\n",
    "    return A*np.exp(-t/tau) + C"
   ]
  },
  {
   "cell_type": "code",
   "execution_count": 326,
   "metadata": {},
   "outputs": [],
   "source": [
    "def fit_diskFractions(times, fractions):\n",
    "    paramsBounds = ([0.,1e3,-np.inf], [10.,1e9, np.inf])\n",
    "    params, covariance = curve_fit(exponential, times, fractions, bounds=paramsBounds)\n",
    "#     params_std = np.sqrt(np.diag(covariance))\n",
    "    print(params)\n",
    "#     print(covariance)\n",
    "#     print('std of parameter errors: {}'.format(params_std))\n",
    "    \n",
    "    return params, covariance"
   ]
  },
  {
   "cell_type": "code",
   "execution_count": 332,
   "metadata": {},
   "outputs": [],
   "source": [
    "def get_fitRangeMask(fractions, f0=0.85, f1=0.01):\n",
    "    \"\"\"create mask to constrain range for the fit.\"\"\"\n",
    "    return np.ma.masked_inside(fractions, f0, f1)"
   ]
  },
  {
   "cell_type": "markdown",
   "metadata": {},
   "source": [
    "To parametrize the fraction of remaining disks, we apply a simple exponential fit of the form f(t) = A*exp(-t/tau) + C. There is a clear trend of increasing disk lifetimes with increasing stellar mass. "
   ]
  },
  {
   "cell_type": "code",
   "execution_count": 450,
   "metadata": {},
   "outputs": [
    {
     "name": "stdout",
     "output_type": "stream",
     "text": [
      "[  1.74768871e+00   7.04689235e+06  -7.93697370e-02]\n",
      "[  1.73571094e+00   9.37474430e+06  -8.82690210e-02]\n",
      "[  1.71768957e+00   1.12617687e+07  -1.01268908e-01]\n",
      "[  1.76474029e+00   1.38840446e+07  -1.51234559e-01]\n"
     ]
    }
   ],
   "source": [
    "fig, ax = plt.subplots()\n",
    "\n",
    "tau = []\n",
    "std_tau = []\n",
    "for Mstar, fractions in diskFractions.items():\n",
    "    \n",
    "    # mask times and fit exponential function\n",
    "    fitRangeMask = get_fitRangeMask(fractions[1])\n",
    "    fitParams = fit_diskFractions(fractions[0][fitRangeMask.mask], fractions[1][fitRangeMask.mask])\n",
    "    diskFractions[Mstar] += fitParams\n",
    "    \n",
    "    tau.append(fitParams[0][1])\n",
    "    std_tau.append(np.sqrt(np.diag(fitParams[1]))[1])\n",
    "    \n",
    "    # plot fractions\n",
    "    ax.scatter(fractions[0], fractions[1], marker='x', label=Mstar[:-4] + r'$\\mathrm{M_\\odot}$' + r', $\\tau = {:1.1f}$ Myr'.format(tau[-1]/1e6))\n",
    "    \n",
    "    # plot fits\n",
    "    ax.plot(fractions[0][fitRangeMask.mask], exponential(fractions[0][fitRangeMask.mask], \n",
    "            fitParams[0][0], fitParams[0][1], fitParams[0][2]))\n",
    "#     ax.set_xscale('log')\n",
    "plt.legend()\n",
    "\n",
    "ax.axhline(.5, ls='--')\n",
    "\n",
    "ax.set_xlabel('Time [yr]')\n",
    "ax.set_ylabel('Disk Fraction')\n",
    "plt.show()"
   ]
  },
  {
   "cell_type": "markdown",
   "metadata": {},
   "source": [
    "what is the trend in 'tau'?"
   ]
  },
  {
   "cell_type": "code",
   "execution_count": 413,
   "metadata": {},
   "outputs": [],
   "source": [
    "def linear(x, a, b):\n",
    "    y = a*np.array(x) + b\n",
    "    return y"
   ]
  },
  {
   "cell_type": "code",
   "execution_count": 448,
   "metadata": {},
   "outputs": [
    {
     "data": {
      "text/plain": [
       "<matplotlib.legend.Legend at 0x7f3cc396e240>"
      ]
     },
     "execution_count": 448,
     "metadata": {},
     "output_type": "execute_result"
    }
   ],
   "source": [
    "Mstar = [float(key[:-4]) for key in diskFractions.keys()]\n",
    "tau = [m[2][1] for m in diskFractions.values()]\n",
    "\n",
    "params, covariance = curve_fit(linear, Mstar, tau, sigma=np.array(std_tau))\n",
    "pErr = np.sqrt(np.diag(covariance))\n",
    "\n",
    "# prepare confidence intervals\n",
    "nSigma = 1.\n",
    "pHi = params + nSigma*pErr\n",
    "pLo = params - nSigma*pErr\n",
    "\n",
    "fit = linear(Mstar, *params)\n",
    "fitHi = linear(Mstar, *pHi)\n",
    "fitLo = linear(Mstar, *pLo)\n",
    "\n",
    "fig, ax = plt.subplots()\n",
    "(_, caps, _) = ax.errorbar(Mstar, tau, std_tau, lw=2, capsize=5, fmt='o', label=r'$\\tau ( \\mathrm{M_\\star})$')\n",
    "ax.plot(Mstar, fit, c='gray', label=r'$\\tau = ({:1.1f}*\\mathrm{{M_\\star}} + {:1.1f}$) Myr'.format(*params/1e6))\n",
    "ax.fill_between(Mstar, fitHi, fitLo, alpha=.2, label=r'$1\\sigma$ confidence interval')\n",
    "\n",
    "\n",
    "# dirty hack to recover errorbar caps\n",
    "for cap in caps:\n",
    "    cap.set_markeredgewidth(1)\n",
    "\n",
    "ax.set_xlabel(r'Host Star Mass $[M_\\odot]$')\n",
    "ax.set_ylabel(r'Time Constant $\\tau$')\n",
    "plt.legend()"
   ]
  }
 ],
 "metadata": {
  "kernelspec": {
   "display_name": "Python 3",
   "language": "python",
   "name": "python3"
  },
  "language_info": {
   "codemirror_mode": {
    "name": "ipython",
    "version": 3
   },
   "file_extension": ".py",
   "mimetype": "text/x-python",
   "name": "python",
   "nbconvert_exporter": "python",
   "pygments_lexer": "ipython3",
   "version": "3.6.3"
  }
 },
 "nbformat": 4,
 "nbformat_minor": 2
}
