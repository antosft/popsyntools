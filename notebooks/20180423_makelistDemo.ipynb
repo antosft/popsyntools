{
 "cells": [
  {
   "cell_type": "code",
   "execution_count": 1,
   "metadata": {
    "collapsed": true
   },
   "outputs": [],
   "source": [
    "%load_ext autoreload\n",
    "%autoreload 2"
   ]
  },
  {
   "cell_type": "code",
   "execution_count": 11,
   "metadata": {},
   "outputs": [],
   "source": [
    "import numpy as np\n",
    "from planeteOutput import *\n",
    "from make_list import *"
   ]
  },
  {
   "cell_type": "code",
   "execution_count": 8,
   "metadata": {},
   "outputs": [],
   "source": [
    "listFile = '/home/schlecker/phd/planete/zubehoer/simulation_list.dat_chris_trappist1'\n",
    "T1list = read_simlist(listFile)"
   ]
  },
  {
   "cell_type": "code",
   "execution_count": 9,
   "metadata": {},
   "outputs": [
    {
     "data": {
      "text/html": [
       "<div>\n",
       "<style>\n",
       "    .dataframe thead tr:only-child th {\n",
       "        text-align: right;\n",
       "    }\n",
       "\n",
       "    .dataframe thead th {\n",
       "        text-align: left;\n",
       "    }\n",
       "\n",
       "    .dataframe tbody tr th {\n",
       "        vertical-align: top;\n",
       "    }\n",
       "</style>\n",
       "<table border=\"1\" class=\"dataframe\">\n",
       "  <thead>\n",
       "    <tr style=\"text-align: right;\">\n",
       "      <th></th>\n",
       "      <th>fgp</th>\n",
       "      <th>diskM</th>\n",
       "      <th>a_in</th>\n",
       "      <th>a_out</th>\n",
       "      <th>expo</th>\n",
       "      <th>windM</th>\n",
       "      <th>a_start</th>\n",
       "      <th>t_start</th>\n",
       "    </tr>\n",
       "  </thead>\n",
       "  <tbody>\n",
       "    <tr>\n",
       "      <th>count</th>\n",
       "      <td>100000.000000</td>\n",
       "      <td>100000.000000</td>\n",
       "      <td>1.000000e+05</td>\n",
       "      <td>100000.000000</td>\n",
       "      <td>1.000000e+05</td>\n",
       "      <td>1.000000e+05</td>\n",
       "      <td>100000.0</td>\n",
       "      <td>100000.0</td>\n",
       "    </tr>\n",
       "    <tr>\n",
       "      <th>mean</th>\n",
       "      <td>59.648641</td>\n",
       "      <td>61.380114</td>\n",
       "      <td>1.000000e-02</td>\n",
       "      <td>13.005040</td>\n",
       "      <td>9.000000e-01</td>\n",
       "      <td>1.943776e-09</td>\n",
       "      <td>0.0</td>\n",
       "      <td>0.0</td>\n",
       "    </tr>\n",
       "    <tr>\n",
       "      <th>std</th>\n",
       "      <td>32.322233</td>\n",
       "      <td>17.895616</td>\n",
       "      <td>1.027482e-14</td>\n",
       "      <td>7.633313</td>\n",
       "      <td>1.481045e-13</td>\n",
       "      <td>3.161075e-09</td>\n",
       "      <td>0.0</td>\n",
       "      <td>0.0</td>\n",
       "    </tr>\n",
       "    <tr>\n",
       "      <th>min</th>\n",
       "      <td>6.734485</td>\n",
       "      <td>33.905736</td>\n",
       "      <td>1.000000e-02</td>\n",
       "      <td>3.657394</td>\n",
       "      <td>9.000000e-01</td>\n",
       "      <td>8.139314e-12</td>\n",
       "      <td>0.0</td>\n",
       "      <td>0.0</td>\n",
       "    </tr>\n",
       "    <tr>\n",
       "      <th>25%</th>\n",
       "      <td>37.158188</td>\n",
       "      <td>46.932584</td>\n",
       "      <td>1.000000e-02</td>\n",
       "      <td>7.007681</td>\n",
       "      <td>9.000000e-01</td>\n",
       "      <td>4.618127e-10</td>\n",
       "      <td>0.0</td>\n",
       "      <td>0.0</td>\n",
       "    </tr>\n",
       "    <tr>\n",
       "      <th>50%</th>\n",
       "      <td>52.492923</td>\n",
       "      <td>58.501375</td>\n",
       "      <td>1.000000e-02</td>\n",
       "      <td>10.888237</td>\n",
       "      <td>9.000000e-01</td>\n",
       "      <td>1.002430e-09</td>\n",
       "      <td>0.0</td>\n",
       "      <td>0.0</td>\n",
       "    </tr>\n",
       "    <tr>\n",
       "      <th>75%</th>\n",
       "      <td>73.848327</td>\n",
       "      <td>73.433544</td>\n",
       "      <td>1.000000e-02</td>\n",
       "      <td>17.155936</td>\n",
       "      <td>9.000000e-01</td>\n",
       "      <td>2.186872e-09</td>\n",
       "      <td>0.0</td>\n",
       "      <td>0.0</td>\n",
       "    </tr>\n",
       "    <tr>\n",
       "      <th>max</th>\n",
       "      <td>389.323220</td>\n",
       "      <td>107.369280</td>\n",
       "      <td>1.000000e-02</td>\n",
       "      <td>36.676302</td>\n",
       "      <td>9.000000e-01</td>\n",
       "      <td>1.127499e-07</td>\n",
       "      <td>0.0</td>\n",
       "      <td>0.0</td>\n",
       "    </tr>\n",
       "  </tbody>\n",
       "</table>\n",
       "</div>"
      ],
      "text/plain": [
       "                 fgp          diskM          a_in          a_out  \\\n",
       "count  100000.000000  100000.000000  1.000000e+05  100000.000000   \n",
       "mean       59.648641      61.380114  1.000000e-02      13.005040   \n",
       "std        32.322233      17.895616  1.027482e-14       7.633313   \n",
       "min         6.734485      33.905736  1.000000e-02       3.657394   \n",
       "25%        37.158188      46.932584  1.000000e-02       7.007681   \n",
       "50%        52.492923      58.501375  1.000000e-02      10.888237   \n",
       "75%        73.848327      73.433544  1.000000e-02      17.155936   \n",
       "max       389.323220     107.369280  1.000000e-02      36.676302   \n",
       "\n",
       "               expo         windM   a_start   t_start  \n",
       "count  1.000000e+05  1.000000e+05  100000.0  100000.0  \n",
       "mean   9.000000e-01  1.943776e-09       0.0       0.0  \n",
       "std    1.481045e-13  3.161075e-09       0.0       0.0  \n",
       "min    9.000000e-01  8.139314e-12       0.0       0.0  \n",
       "25%    9.000000e-01  4.618127e-10       0.0       0.0  \n",
       "50%    9.000000e-01  1.002430e-09       0.0       0.0  \n",
       "75%    9.000000e-01  2.186872e-09       0.0       0.0  \n",
       "max    9.000000e-01  1.127499e-07       0.0       0.0  "
      ]
     },
     "execution_count": 9,
     "metadata": {},
     "output_type": "execute_result"
    }
   ],
   "source": [
    "T1list.describe()"
   ]
  },
  {
   "cell_type": "code",
   "execution_count": null,
   "metadata": {
    "collapsed": true
   },
   "outputs": [],
   "source": []
  }
 ],
 "metadata": {
  "kernelspec": {
   "display_name": "Python 3",
   "language": "python",
   "name": "python3"
  },
  "language_info": {
   "codemirror_mode": {
    "name": "ipython",
    "version": 3
   },
   "file_extension": ".py",
   "mimetype": "text/x-python",
   "name": "python",
   "nbconvert_exporter": "python",
   "pygments_lexer": "ipython3",
   "version": "3.6.3"
  }
 },
 "nbformat": 4,
 "nbformat_minor": 2
}
