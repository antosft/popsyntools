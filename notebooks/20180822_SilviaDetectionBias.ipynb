{
 "cells": [
  {
   "cell_type": "code",
   "execution_count": 1,
   "metadata": {},
   "outputs": [
    {
     "name": "stdout",
     "output_type": "stream",
     "text": [
      "/home/schlecker/repos/planeteScripts\n"
     ]
    }
   ],
   "source": [
    "cd /home/schlecker/repos/planeteScripts"
   ]
  },
  {
   "cell_type": "code",
   "execution_count": 4,
   "metadata": {},
   "outputs": [
    {
     "name": "stdout",
     "output_type": "stream",
     "text": [
      "The autoreload extension is already loaded. To reload it, use:\n",
      "  %reload_ext autoreload\n"
     ]
    }
   ],
   "source": [
    "import numpy as np\n",
    "import matplotlib.pyplot as plt\n",
    "import pandas as pd\n",
    "\n",
    "import output\n",
    "import plots\n",
    "import stats\n",
    "import utils\n",
    "\n",
    "%load_ext autoreload\n",
    "%autoreload 2\n",
    "\n",
    "# default output folder\n",
    "outputs = '/home/schlecker/phd/planete/outputs/pop06_MstarGrid/'\n",
    "\n",
    "# show more columns in pandas data frames\n",
    "pd.set_option('display.max_columns', 500)"
   ]
  },
  {
   "cell_type": "code",
   "execution_count": 15,
   "metadata": {},
   "outputs": [],
   "source": [
    "# read 0.3Msol population and compute orbital period\n",
    "filename = 'ref_red5e9_0.3Msol.dat'\n",
    "pop0M3 = output.Population(outputs + filename, name='0.3Msol')\n",
    "pop0M3.data = utils.get_orbitalPeriod(pop0M3.data, 0.3)"
   ]
  },
  {
   "cell_type": "code",
   "execution_count": 20,
   "metadata": {},
   "outputs": [],
   "source": [
    "# save desired columns to csv file\n",
    "columns = ['isystem','m', 'period','e', 'i']\n",
    "pop0M3.data.to_csv(outputs + pop0M3.name + '.csv', columns=columns)"
   ]
  },
  {
   "cell_type": "code",
   "execution_count": 24,
   "metadata": {},
   "outputs": [
    {
     "data": {
      "text/plain": [
       "count     9988.000000\n",
       "mean      3609.523690\n",
       "std       8680.356665\n",
       "min          1.174889\n",
       "25%          4.636793\n",
       "50%         17.397878\n",
       "75%        969.601901\n",
       "max      45298.302436\n",
       "Name: period, dtype: float64"
      ]
     },
     "execution_count": 24,
     "metadata": {},
     "output_type": "execute_result"
    }
   ],
   "source": [
    "pop0M3.data.period.describe()"
   ]
  },
  {
   "cell_type": "code",
   "execution_count": null,
   "metadata": {
    "collapsed": true
   },
   "outputs": [],
   "source": []
  }
 ],
 "metadata": {
  "kernelspec": {
   "display_name": "Python 3",
   "language": "python",
   "name": "python3"
  },
  "language_info": {
   "codemirror_mode": {
    "name": "ipython",
    "version": 3
   },
   "file_extension": ".py",
   "mimetype": "text/x-python",
   "name": "python",
   "nbconvert_exporter": "python",
   "pygments_lexer": "ipython3",
   "version": "3.6.3"
  }
 },
 "nbformat": 4,
 "nbformat_minor": 2
}
