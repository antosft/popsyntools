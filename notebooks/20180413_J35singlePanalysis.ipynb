{
 "cells": [
  {
   "cell_type": "code",
   "execution_count": 3,
   "metadata": {},
   "outputs": [
    {
     "name": "stdout",
     "output_type": "stream",
     "text": [
      "/home/schlecker/repos/planeteScripts\n"
     ]
    }
   ],
   "source": [
    "cd .."
   ]
  },
  {
   "cell_type": "code",
   "execution_count": 4,
   "metadata": {
    "scrolled": true
   },
   "outputs": [],
   "source": [
    "from planeteOutput import *\n",
    "from planetePlots import *\n",
    "import numpy as np\n",
    "import matplotlib.pyplot as plt"
   ]
  },
  {
   "cell_type": "code",
   "execution_count": 5,
   "metadata": {
    "collapsed": true
   },
   "outputs": [],
   "source": [
    "%load_ext autoreload\n",
    "%autoreload 2"
   ]
  },
  {
   "cell_type": "code",
   "execution_count": 24,
   "metadata": {},
   "outputs": [
    {
     "name": "stdout",
     "output_type": "stream",
     "text": [
      "-rw-r--r-- 1 schlecker 28646770848 Apr 13 19:12 /home/schlecker/phd/planete/outputs/J35/pop04f_J35.hd5\r\n"
     ]
    }
   ],
   "source": [
    "ll '/home/schlecker/phd/planete/outputs/J35/pop04f_J35.hd5'"
   ]
  },
  {
   "cell_type": "code",
   "execution_count": 22,
   "metadata": {},
   "outputs": [
    {
     "ename": "HDF5ExtError",
     "evalue": "HDF5 error back trace\n\n  File \"H5F.c\", line 586, in H5Fopen\n    unable to open file\n  File \"H5Fint.c\", line 1384, in H5F_open\n    unable to read superblock\n  File \"H5Fsuper.c\", line 360, in H5F__super_read\n    file signature not found\n\nEnd of HDF5 error back trace\n\nUnable to open/create file '/home/schlecker/phd/planete/outputs/J35/pop04f_J35.hd5'",
     "output_type": "error",
     "traceback": [
      "\u001b[0;31m---------------------------------------------------------------------------\u001b[0m",
      "\u001b[0;31mHDF5ExtError\u001b[0m                              Traceback (most recent call last)",
      "\u001b[0;32m<ipython-input-22-2b5e3fc50333>\u001b[0m in \u001b[0;36m<module>\u001b[0;34m()\u001b[0m\n\u001b[1;32m      3\u001b[0m \u001b[0;34m\u001b[0m\u001b[0m\n\u001b[1;32m      4\u001b[0m \u001b[0mfile_b\u001b[0m \u001b[0;34m=\u001b[0m  \u001b[0;34m'/home/schlecker/phd/planete/outputs/J35/pop04f_J35.hd5'\u001b[0m\u001b[0;34m\u001b[0m\u001b[0m\n\u001b[0;32m----> 5\u001b[0;31m \u001b[0mpopJ35\u001b[0m \u001b[0;34m=\u001b[0m \u001b[0mread_popHdf5\u001b[0m\u001b[0;34m(\u001b[0m\u001b[0mfile_b\u001b[0m\u001b[0;34m)\u001b[0m\u001b[0;34m\u001b[0m\u001b[0m\n\u001b[0m",
      "\u001b[0;32m~/repos/planeteScripts/planeteOutput.py\u001b[0m in \u001b[0;36mread_popHdf5\u001b[0;34m(filename)\u001b[0m\n\u001b[1;32m    147\u001b[0m     \"\"\"\n\u001b[1;32m    148\u001b[0m     \u001b[0;31m# read hdf5 file with pytables\u001b[0m\u001b[0;34m\u001b[0m\u001b[0;34m\u001b[0m\u001b[0m\n\u001b[0;32m--> 149\u001b[0;31m     \u001b[0mtab\u001b[0m \u001b[0;34m=\u001b[0m \u001b[0mtables\u001b[0m\u001b[0;34m.\u001b[0m\u001b[0mopen_file\u001b[0m\u001b[0;34m(\u001b[0m\u001b[0mfilename\u001b[0m\u001b[0;34m)\u001b[0m\u001b[0;34m\u001b[0m\u001b[0m\n\u001b[0m\u001b[1;32m    150\u001b[0m     \u001b[0mpopulation\u001b[0m \u001b[0;34m=\u001b[0m \u001b[0;34m{\u001b[0m\u001b[0;34m}\u001b[0m\u001b[0;34m\u001b[0m\u001b[0m\n\u001b[1;32m    151\u001b[0m     \u001b[0;32mfor\u001b[0m \u001b[0mi\u001b[0m\u001b[0;34m,\u001b[0m \u001b[0msim\u001b[0m \u001b[0;32min\u001b[0m \u001b[0menumerate\u001b[0m\u001b[0;34m(\u001b[0m\u001b[0mtab\u001b[0m\u001b[0;34m.\u001b[0m\u001b[0mwalk_groups\u001b[0m\u001b[0;34m(\u001b[0m\u001b[0;34m'/'\u001b[0m\u001b[0;34m)\u001b[0m\u001b[0;34m)\u001b[0m\u001b[0;34m:\u001b[0m\u001b[0;34m\u001b[0m\u001b[0m\n",
      "\u001b[0;32m~/bin/anaconda3/lib/python3.6/site-packages/tables/file.py\u001b[0m in \u001b[0;36mopen_file\u001b[0;34m(filename, mode, title, root_uep, filters, **kwargs)\u001b[0m\n\u001b[1;32m    318\u001b[0m \u001b[0;34m\u001b[0m\u001b[0m\n\u001b[1;32m    319\u001b[0m     \u001b[0;31m# Finally, create the File instance, and return it\u001b[0m\u001b[0;34m\u001b[0m\u001b[0;34m\u001b[0m\u001b[0m\n\u001b[0;32m--> 320\u001b[0;31m     \u001b[0;32mreturn\u001b[0m \u001b[0mFile\u001b[0m\u001b[0;34m(\u001b[0m\u001b[0mfilename\u001b[0m\u001b[0;34m,\u001b[0m \u001b[0mmode\u001b[0m\u001b[0;34m,\u001b[0m \u001b[0mtitle\u001b[0m\u001b[0;34m,\u001b[0m \u001b[0mroot_uep\u001b[0m\u001b[0;34m,\u001b[0m \u001b[0mfilters\u001b[0m\u001b[0;34m,\u001b[0m \u001b[0;34m**\u001b[0m\u001b[0mkwargs\u001b[0m\u001b[0;34m)\u001b[0m\u001b[0;34m\u001b[0m\u001b[0m\n\u001b[0m\u001b[1;32m    321\u001b[0m \u001b[0;34m\u001b[0m\u001b[0m\n\u001b[1;32m    322\u001b[0m \u001b[0;34m\u001b[0m\u001b[0m\n",
      "\u001b[0;32m~/bin/anaconda3/lib/python3.6/site-packages/tables/file.py\u001b[0m in \u001b[0;36m__init__\u001b[0;34m(self, filename, mode, title, root_uep, filters, **kwargs)\u001b[0m\n\u001b[1;32m    782\u001b[0m \u001b[0;34m\u001b[0m\u001b[0m\n\u001b[1;32m    783\u001b[0m         \u001b[0;31m# Now, it is time to initialize the File extension\u001b[0m\u001b[0;34m\u001b[0m\u001b[0;34m\u001b[0m\u001b[0m\n\u001b[0;32m--> 784\u001b[0;31m         \u001b[0mself\u001b[0m\u001b[0;34m.\u001b[0m\u001b[0m_g_new\u001b[0m\u001b[0;34m(\u001b[0m\u001b[0mfilename\u001b[0m\u001b[0;34m,\u001b[0m \u001b[0mmode\u001b[0m\u001b[0;34m,\u001b[0m \u001b[0;34m**\u001b[0m\u001b[0mparams\u001b[0m\u001b[0;34m)\u001b[0m\u001b[0;34m\u001b[0m\u001b[0m\n\u001b[0m\u001b[1;32m    785\u001b[0m \u001b[0;34m\u001b[0m\u001b[0m\n\u001b[1;32m    786\u001b[0m         \u001b[0;31m# Check filters and set PyTables format version for new files.\u001b[0m\u001b[0;34m\u001b[0m\u001b[0;34m\u001b[0m\u001b[0m\n",
      "\u001b[0;32mtables/hdf5extension.pyx\u001b[0m in \u001b[0;36mtables.hdf5extension.File._g_new\u001b[0;34m()\u001b[0m\n",
      "\u001b[0;31mHDF5ExtError\u001b[0m: HDF5 error back trace\n\n  File \"H5F.c\", line 586, in H5Fopen\n    unable to open file\n  File \"H5Fint.c\", line 1384, in H5F_open\n    unable to read superblock\n  File \"H5Fsuper.c\", line 360, in H5F__super_read\n    file signature not found\n\nEnd of HDF5 error back trace\n\nUnable to open/create file '/home/schlecker/phd/planete/outputs/J35/pop04f_J35.hd5'"
     ]
    }
   ],
   "source": [
    "# file_a = '/home/schlecker/phd/planete/outputs/J35/J35singlePlanet.hd5'\n",
    "# popJ35a = read_popHdf5(file_a)\n",
    "\n",
    "file_b =  '/home/schlecker/phd/planete/outputs/J35/pop04f_J35.hd5'\n",
    "popJ35 = read_popHdf5(file_b)"
   ]
  },
  {
   "cell_type": "code",
   "execution_count": 26,
   "metadata": {},
   "outputs": [
    {
     "name": "stdout",
     "output_type": "stream",
     "text": [
      "/SIM0001 (Group) ''\n",
      "/SIM0002 (Group) ''\n"
     ]
    }
   ],
   "source": [
    "popJ35a = read_popHdf5(file_a)\n",
    "sim1p1 = popJ35a['SIM0001']['planet_001']\n",
    "sim2p1 = popJ35a['SIM0002']['planet_001']"
   ]
  },
  {
   "cell_type": "code",
   "execution_count": 28,
   "metadata": {},
   "outputs": [],
   "source": [
    "sim1p1 = get_orbitalPeriod(sim1p1)\n",
    "sim2p1 = get_orbitalPeriod(sim2p1)"
   ]
  },
  {
   "cell_type": "code",
   "execution_count": 32,
   "metadata": {},
   "outputs": [
    {
     "data": {
      "text/html": [
       "<div>\n",
       "<style>\n",
       "    .dataframe thead tr:only-child th {\n",
       "        text-align: right;\n",
       "    }\n",
       "\n",
       "    .dataframe thead th {\n",
       "        text-align: left;\n",
       "    }\n",
       "\n",
       "    .dataframe tbody tr th {\n",
       "        vertical-align: top;\n",
       "    }\n",
       "</style>\n",
       "<table border=\"1\" class=\"dataframe\">\n",
       "  <thead>\n",
       "    <tr style=\"text-align: right;\">\n",
       "      <th></th>\n",
       "      <th>n</th>\n",
       "      <th>t</th>\n",
       "      <th>mCore</th>\n",
       "      <th>menv</th>\n",
       "      <th>m</th>\n",
       "      <th>L</th>\n",
       "      <th>Lcomp</th>\n",
       "      <th>mdotcore</th>\n",
       "      <th>mdotgasl</th>\n",
       "      <th>rcore</th>\n",
       "      <th>...</th>\n",
       "      <th>109</th>\n",
       "      <th>110</th>\n",
       "      <th>111</th>\n",
       "      <th>112</th>\n",
       "      <th>113</th>\n",
       "      <th>114</th>\n",
       "      <th>115</th>\n",
       "      <th>systemNo</th>\n",
       "      <th>planetNo</th>\n",
       "      <th>period</th>\n",
       "    </tr>\n",
       "  </thead>\n",
       "  <tbody>\n",
       "    <tr>\n",
       "      <th>count</th>\n",
       "      <td>31843.000000</td>\n",
       "      <td>3.184300e+04</td>\n",
       "      <td>31843.000000</td>\n",
       "      <td>3.184300e+04</td>\n",
       "      <td>31843.000000</td>\n",
       "      <td>3.184300e+04</td>\n",
       "      <td>3.184300e+04</td>\n",
       "      <td>3.184300e+04</td>\n",
       "      <td>3.184300e+04</td>\n",
       "      <td>31843.000000</td>\n",
       "      <td>...</td>\n",
       "      <td>3.184300e+04</td>\n",
       "      <td>3.184300e+04</td>\n",
       "      <td>3.184300e+04</td>\n",
       "      <td>3.184300e+04</td>\n",
       "      <td>3.184300e+04</td>\n",
       "      <td>3.184300e+04</td>\n",
       "      <td>31843.000000</td>\n",
       "      <td>31843.000000</td>\n",
       "      <td>31843.000000</td>\n",
       "      <td>31843.000000</td>\n",
       "    </tr>\n",
       "    <tr>\n",
       "      <th>mean</th>\n",
       "      <td>15922.000000</td>\n",
       "      <td>1.185200e+08</td>\n",
       "      <td>8.243874</td>\n",
       "      <td>5.089564e-03</td>\n",
       "      <td>8.248963</td>\n",
       "      <td>5.792825e+00</td>\n",
       "      <td>5.792825e+00</td>\n",
       "      <td>1.020348e-07</td>\n",
       "      <td>-6.000494e-10</td>\n",
       "      <td>0.194729</td>\n",
       "      <td>...</td>\n",
       "      <td>2.898496e-02</td>\n",
       "      <td>7.039808e+01</td>\n",
       "      <td>9.000000e-01</td>\n",
       "      <td>1.576693e+01</td>\n",
       "      <td>2.229686e+00</td>\n",
       "      <td>2.789192e-10</td>\n",
       "      <td>0.354841</td>\n",
       "      <td>0.250988</td>\n",
       "      <td>440.358150</td>\n",
       "      <td>63.381909</td>\n",
       "    </tr>\n",
       "    <tr>\n",
       "      <th>std</th>\n",
       "      <td>9192.426647</td>\n",
       "      <td>8.662262e+07</td>\n",
       "      <td>1.081203</td>\n",
       "      <td>1.114265e-02</td>\n",
       "      <td>1.081717</td>\n",
       "      <td>7.406851e+01</td>\n",
       "      <td>7.406851e+01</td>\n",
       "      <td>1.016552e-06</td>\n",
       "      <td>3.515043e-08</td>\n",
       "      <td>0.017296</td>\n",
       "      <td>...</td>\n",
       "      <td>1.932859e-14</td>\n",
       "      <td>2.616259e-11</td>\n",
       "      <td>1.393352e-13</td>\n",
       "      <td>1.137952e-11</td>\n",
       "      <td>6.239551e-13</td>\n",
       "      <td>9.093960e-23</td>\n",
       "      <td>0.022235</td>\n",
       "      <td>0.001023</td>\n",
       "      <td>2950.691186</td>\n",
       "      <td>446.801944</td>\n",
       "    </tr>\n",
       "    <tr>\n",
       "      <th>min</th>\n",
       "      <td>1.000000</td>\n",
       "      <td>2.000149e+05</td>\n",
       "      <td>0.010107</td>\n",
       "      <td>1.000000e-08</td>\n",
       "      <td>0.010107</td>\n",
       "      <td>9.214607e-14</td>\n",
       "      <td>9.214607e-14</td>\n",
       "      <td>0.000000e+00</td>\n",
       "      <td>-7.315764e-07</td>\n",
       "      <td>0.026283</td>\n",
       "      <td>...</td>\n",
       "      <td>2.898497e-02</td>\n",
       "      <td>7.039808e+01</td>\n",
       "      <td>9.000000e-01</td>\n",
       "      <td>1.576693e+01</td>\n",
       "      <td>2.229686e+00</td>\n",
       "      <td>2.789192e-10</td>\n",
       "      <td>0.351558</td>\n",
       "      <td>0.242703</td>\n",
       "      <td>0.000000</td>\n",
       "      <td>1.172787</td>\n",
       "    </tr>\n",
       "    <tr>\n",
       "      <th>25%</th>\n",
       "      <td>7961.500000</td>\n",
       "      <td>3.523850e+07</td>\n",
       "      <td>8.399336</td>\n",
       "      <td>7.961618e-04</td>\n",
       "      <td>8.400133</td>\n",
       "      <td>3.144957e-03</td>\n",
       "      <td>3.144957e-03</td>\n",
       "      <td>0.000000e+00</td>\n",
       "      <td>0.000000e+00</td>\n",
       "      <td>0.197039</td>\n",
       "      <td>...</td>\n",
       "      <td>2.898497e-02</td>\n",
       "      <td>7.039808e+01</td>\n",
       "      <td>9.000000e-01</td>\n",
       "      <td>1.576693e+01</td>\n",
       "      <td>2.229686e+00</td>\n",
       "      <td>2.789192e-10</td>\n",
       "      <td>0.351558</td>\n",
       "      <td>0.251141</td>\n",
       "      <td>0.000000</td>\n",
       "      <td>1.172787</td>\n",
       "    </tr>\n",
       "    <tr>\n",
       "      <th>50%</th>\n",
       "      <td>15922.000000</td>\n",
       "      <td>1.148435e+08</td>\n",
       "      <td>8.399336</td>\n",
       "      <td>7.961618e-04</td>\n",
       "      <td>8.400133</td>\n",
       "      <td>3.479213e-03</td>\n",
       "      <td>3.479213e-03</td>\n",
       "      <td>0.000000e+00</td>\n",
       "      <td>0.000000e+00</td>\n",
       "      <td>0.197039</td>\n",
       "      <td>...</td>\n",
       "      <td>2.898497e-02</td>\n",
       "      <td>7.039808e+01</td>\n",
       "      <td>9.000000e-01</td>\n",
       "      <td>1.576693e+01</td>\n",
       "      <td>2.229686e+00</td>\n",
       "      <td>2.789192e-10</td>\n",
       "      <td>0.351558</td>\n",
       "      <td>0.251141</td>\n",
       "      <td>0.000000</td>\n",
       "      <td>1.172787</td>\n",
       "    </tr>\n",
       "    <tr>\n",
       "      <th>75%</th>\n",
       "      <td>23882.500000</td>\n",
       "      <td>1.944485e+08</td>\n",
       "      <td>8.399336</td>\n",
       "      <td>7.961618e-04</td>\n",
       "      <td>8.400133</td>\n",
       "      <td>4.619013e-03</td>\n",
       "      <td>4.619013e-03</td>\n",
       "      <td>0.000000e+00</td>\n",
       "      <td>0.000000e+00</td>\n",
       "      <td>0.197040</td>\n",
       "      <td>...</td>\n",
       "      <td>2.898497e-02</td>\n",
       "      <td>7.039808e+01</td>\n",
       "      <td>9.000000e-01</td>\n",
       "      <td>1.576693e+01</td>\n",
       "      <td>2.229686e+00</td>\n",
       "      <td>2.789192e-10</td>\n",
       "      <td>0.351558</td>\n",
       "      <td>0.251141</td>\n",
       "      <td>0.000000</td>\n",
       "      <td>1.172787</td>\n",
       "    </tr>\n",
       "    <tr>\n",
       "      <th>max</th>\n",
       "      <td>31843.000000</td>\n",
       "      <td>2.740535e+08</td>\n",
       "      <td>8.399336</td>\n",
       "      <td>1.309515e-01</td>\n",
       "      <td>8.430262</td>\n",
       "      <td>1.802282e+03</td>\n",
       "      <td>1.802282e+03</td>\n",
       "      <td>1.811859e-05</td>\n",
       "      <td>2.087203e-06</td>\n",
       "      <td>0.197041</td>\n",
       "      <td>...</td>\n",
       "      <td>2.898497e-02</td>\n",
       "      <td>7.039808e+01</td>\n",
       "      <td>9.000000e-01</td>\n",
       "      <td>1.576693e+01</td>\n",
       "      <td>2.229686e+00</td>\n",
       "      <td>2.789192e-10</td>\n",
       "      <td>0.511435</td>\n",
       "      <td>0.251141</td>\n",
       "      <td>23695.066000</td>\n",
       "      <td>3845.605167</td>\n",
       "    </tr>\n",
       "  </tbody>\n",
       "</table>\n",
       "<p>8 rows × 119 columns</p>\n",
       "</div>"
      ],
      "text/plain": [
       "                  n             t         mCore          menv             m  \\\n",
       "count  31843.000000  3.184300e+04  31843.000000  3.184300e+04  31843.000000   \n",
       "mean   15922.000000  1.185200e+08      8.243874  5.089564e-03      8.248963   \n",
       "std     9192.426647  8.662262e+07      1.081203  1.114265e-02      1.081717   \n",
       "min        1.000000  2.000149e+05      0.010107  1.000000e-08      0.010107   \n",
       "25%     7961.500000  3.523850e+07      8.399336  7.961618e-04      8.400133   \n",
       "50%    15922.000000  1.148435e+08      8.399336  7.961618e-04      8.400133   \n",
       "75%    23882.500000  1.944485e+08      8.399336  7.961618e-04      8.400133   \n",
       "max    31843.000000  2.740535e+08      8.399336  1.309515e-01      8.430262   \n",
       "\n",
       "                  L         Lcomp      mdotcore      mdotgasl         rcore  \\\n",
       "count  3.184300e+04  3.184300e+04  3.184300e+04  3.184300e+04  31843.000000   \n",
       "mean   5.792825e+00  5.792825e+00  1.020348e-07 -6.000494e-10      0.194729   \n",
       "std    7.406851e+01  7.406851e+01  1.016552e-06  3.515043e-08      0.017296   \n",
       "min    9.214607e-14  9.214607e-14  0.000000e+00 -7.315764e-07      0.026283   \n",
       "25%    3.144957e-03  3.144957e-03  0.000000e+00  0.000000e+00      0.197039   \n",
       "50%    3.479213e-03  3.479213e-03  0.000000e+00  0.000000e+00      0.197039   \n",
       "75%    4.619013e-03  4.619013e-03  0.000000e+00  0.000000e+00      0.197040   \n",
       "max    1.802282e+03  1.802282e+03  1.811859e-05  2.087203e-06      0.197041   \n",
       "\n",
       "           ...                109           110           111           112  \\\n",
       "count      ...       3.184300e+04  3.184300e+04  3.184300e+04  3.184300e+04   \n",
       "mean       ...       2.898496e-02  7.039808e+01  9.000000e-01  1.576693e+01   \n",
       "std        ...       1.932859e-14  2.616259e-11  1.393352e-13  1.137952e-11   \n",
       "min        ...       2.898497e-02  7.039808e+01  9.000000e-01  1.576693e+01   \n",
       "25%        ...       2.898497e-02  7.039808e+01  9.000000e-01  1.576693e+01   \n",
       "50%        ...       2.898497e-02  7.039808e+01  9.000000e-01  1.576693e+01   \n",
       "75%        ...       2.898497e-02  7.039808e+01  9.000000e-01  1.576693e+01   \n",
       "max        ...       2.898497e-02  7.039808e+01  9.000000e-01  1.576693e+01   \n",
       "\n",
       "                113           114           115      systemNo      planetNo  \\\n",
       "count  3.184300e+04  3.184300e+04  31843.000000  31843.000000  31843.000000   \n",
       "mean   2.229686e+00  2.789192e-10      0.354841      0.250988    440.358150   \n",
       "std    6.239551e-13  9.093960e-23      0.022235      0.001023   2950.691186   \n",
       "min    2.229686e+00  2.789192e-10      0.351558      0.242703      0.000000   \n",
       "25%    2.229686e+00  2.789192e-10      0.351558      0.251141      0.000000   \n",
       "50%    2.229686e+00  2.789192e-10      0.351558      0.251141      0.000000   \n",
       "75%    2.229686e+00  2.789192e-10      0.351558      0.251141      0.000000   \n",
       "max    2.229686e+00  2.789192e-10      0.511435      0.251141  23695.066000   \n",
       "\n",
       "             period  \n",
       "count  31843.000000  \n",
       "mean      63.381909  \n",
       "std      446.801944  \n",
       "min        1.172787  \n",
       "25%        1.172787  \n",
       "50%        1.172787  \n",
       "75%        1.172787  \n",
       "max     3845.605167  \n",
       "\n",
       "[8 rows x 119 columns]"
      ]
     },
     "execution_count": 32,
     "metadata": {},
     "output_type": "execute_result"
    }
   ],
   "source": [
    "sim2p1.describe()"
   ]
  },
  {
   "cell_type": "code",
   "execution_count": 39,
   "metadata": {},
   "outputs": [
    {
     "name": "stdout",
     "output_type": "stream",
     "text": [
      "using only planets with status \"0\"\n"
     ]
    },
    {
     "data": {
      "image/png": "[encoded data removed]",
      "text/plain": [
       "<matplotlib.figure.Figure at 0x7f93f2bc1ba8>"
      ]
     },
     "metadata": {},
     "output_type": "display_data"
    }
   ],
   "source": [
    "h, xedges, yedges, ax = plot_occurrence(sim2p1, smooth=True)"
   ]
  },
  {
   "cell_type": "code",
   "execution_count": null,
   "metadata": {
    "collapsed": true
   },
   "outputs": [],
   "source": []
  }
 ],
 "metadata": {
  "kernelspec": {
   "display_name": "Python 3",
   "language": "python",
   "name": "python3"
  },
  "language_info": {
   "codemirror_mode": {
    "name": "ipython",
    "version": 3
   },
   "file_extension": ".py",
   "mimetype": "text/x-python",
   "name": "python",
   "nbconvert_exporter": "python",
   "pygments_lexer": "ipython3",
   "version": "3.6.3"
  }
 },
 "nbformat": 4,
 "nbformat_minor": 2
}
