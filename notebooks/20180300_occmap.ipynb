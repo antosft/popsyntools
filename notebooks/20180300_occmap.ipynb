{
 "cells": [
  {
   "cell_type": "code",
   "execution_count": 1,
   "metadata": {
    "scrolled": true
   },
   "outputs": [
    {
     "name": "stdout",
     "output_type": "stream",
     "text": [
      "Using matplotlib backend: Qt5Agg\n",
      "Populating the interactive namespace from numpy and matplotlib\n"
     ]
    }
   ],
   "source": [
    "import output\n",
    "import plots\n",
    "import matplotlib as mpl\n",
    "\n",
    "%pylab\n",
    "%load_ext autoreload\n",
    "%autoreload 2"
   ]
  },
  {
   "cell_type": "code",
   "execution_count": 2,
   "metadata": {},
   "outputs": [
    {
     "data": {
      "text/plain": [
       "count    9012.000000\n",
       "mean        6.326592\n",
       "std         9.738312\n",
       "min         0.004211\n",
       "25%         0.172314\n",
       "50%         1.129690\n",
       "75%         8.516183\n",
       "max        86.532200\n",
       "Name: a, dtype: float64"
      ]
     },
     "execution_count": 2,
     "metadata": {},
     "output_type": "execute_result"
    }
   ],
   "source": [
    "refred = '/home/schlecker/phd/planete/outputs/J31/ref_red5e9.dat_J31_11220'\n",
    "population = output.read_ref_red(refred)\n",
    "survivedPlanets = population[population['status'] == 0]\n",
    "survivedPlanets.a.describe()"
   ]
  },
  {
   "cell_type": "code",
   "execution_count": 3,
   "metadata": {},
   "outputs": [
    {
     "data": {
      "text/plain": [
       "count    9012.000000\n",
       "mean        0.153349\n",
       "std         0.211939\n",
       "min         0.003499\n",
       "25%         0.062964\n",
       "50%         0.080711\n",
       "75%         0.127807\n",
       "max         1.100610\n",
       "Name: r, dtype: float64"
      ]
     },
     "execution_count": 3,
     "metadata": {},
     "output_type": "execute_result"
    }
   ],
   "source": [
    "survivedPlanets.r.describe()"
   ]
  },
  {
   "cell_type": "code",
   "execution_count": 54,
   "metadata": {},
   "outputs": [
    {
     "data": {
      "text/plain": [
       "array([ 0.00349855,  0.04006893,  0.07663931,  0.1132097 ,  0.14978008,\n",
       "        0.18635046,  0.22292084,  0.25949122,  0.2960616 ,  0.33263199,\n",
       "        0.36920237,  0.40577275,  0.44234313,  0.47891351,  0.51548389,\n",
       "        0.55205428,  0.58862466,  0.62519504,  0.66176542,  0.6983358 ,\n",
       "        0.73490618,  0.77147657,  0.80804695,  0.84461733,  0.88118771,\n",
       "        0.91775809,  0.95432847,  0.99089886,  1.02746924,  1.06403962,\n",
       "        1.10061   ])"
      ]
     },
     "execution_count": 54,
     "metadata": {},
     "output_type": "execute_result"
    }
   ],
   "source": [
    "xAxis = 'a'\n",
    "yAxis = 'r'\n",
    "x = survivedPlanets[xAxis]\n",
    "y = survivedPlanets[yAxis]\n",
    "H, xedges, yedges= np.histogram2d(x, y, bins=30)\n",
    "yedges"
   ]
  },
  {
   "cell_type": "markdown",
   "metadata": {},
   "source": [
    "### Plot using cksmet"
   ]
  },
  {
   "cell_type": "code",
   "execution_count": 4,
   "metadata": {},
   "outputs": [
    {
     "name": "stdout",
     "output_type": "stream",
     "text": [
      "/home/schlecker/repos/planeteScripts/zubehoer/cksmet-master/cksmet/plotting\n"
     ]
    }
   ],
   "source": [
    "cd zubehoer/cksmet-master/cksmet/plotting"
   ]
  },
  {
   "cell_type": "code",
   "execution_count": 6,
   "metadata": {},
   "outputs": [
    {
     "ename": "SyntaxError",
     "evalue": "Missing parentheses in call to 'print'. Did you mean print(print xy)? (occur.py, line 392)",
     "output_type": "error",
     "traceback": [
      "Traceback \u001b[0;36m(most recent call last)\u001b[0m:\n",
      "  File \u001b[1;32m\"/home/schlecker/bin/anaconda3/lib/python3.6/site-packages/IPython/core/interactiveshell.py\"\u001b[0m, line \u001b[1;32m2862\u001b[0m, in \u001b[1;35mrun_code\u001b[0m\n    exec(code_obj, self.user_global_ns, self.user_ns)\n",
      "\u001b[0;36m  File \u001b[0;32m\"<ipython-input-6-111a0ec00026>\"\u001b[0;36m, line \u001b[0;32m1\u001b[0;36m, in \u001b[0;35m<module>\u001b[0;36m\u001b[0m\n\u001b[0;31m    import occur\u001b[0m\n",
      "\u001b[0;36m  File \u001b[0;32m\"/home/schlecker/repos/planeteScripts/zubehoer/cksmet-master/cksmet/plotting/occur.py\"\u001b[0;36m, line \u001b[0;32m392\u001b[0m\n\u001b[0;31m    print xy\u001b[0m\n\u001b[0m           ^\u001b[0m\n\u001b[0;31mSyntaxError\u001b[0m\u001b[0;31m:\u001b[0m Missing parentheses in call to 'print'. Did you mean print(print xy)?\n"
     ]
    }
   ],
   "source": [
    "import occur"
   ]
  },
  {
   "cell_type": "code",
   "execution_count": 7,
   "metadata": {},
   "outputs": [
    {
     "ename": "SyntaxError",
     "evalue": "Missing parentheses in call to 'print'. Did you mean print('l')? (<ipython-input-7-8096f4a00209>, line 1)",
     "output_type": "error",
     "traceback": [
      "\u001b[0;36m  File \u001b[0;32m\"<ipython-input-7-8096f4a00209>\"\u001b[0;36m, line \u001b[0;32m1\u001b[0m\n\u001b[0;31m    print 'l'\u001b[0m\n\u001b[0m            ^\u001b[0m\n\u001b[0;31mSyntaxError\u001b[0m\u001b[0;31m:\u001b[0m Missing parentheses in call to 'print'. Did you mean print('l')?\n"
     ]
    }
   ],
   "source": [
    "print 'l'"
   ]
  },
  {
   "cell_type": "code",
   "execution_count": null,
   "metadata": {
    "collapsed": true
   },
   "outputs": [],
   "source": []
  }
 ],
 "metadata": {
  "kernelspec": {
   "display_name": "Python 2",
   "language": "python",
   "name": "python2"
  },
  "language_info": {
   "codemirror_mode": {
    "name": "ipython",
    "version": 3
   },
   "file_extension": ".py",
   "mimetype": "text/x-python",
   "name": "python",
   "nbconvert_exporter": "python",
   "pygments_lexer": "ipython3",
   "version": "3.6.3"
  }
 },
 "nbformat": 4,
 "nbformat_minor": 2
}
