{
 "cells": [
  {
   "cell_type": "markdown",
   "metadata": {},
   "source": [
    "Plot occurrence maps for several populations\n",
    "========================="
   ]
  },
  {
   "cell_type": "code",
   "execution_count": 1,
   "metadata": {},
   "outputs": [
    {
     "name": "stdout",
     "output_type": "stream",
     "text": [
      "/media/martin/Daten/phd/planeteScripts\n"
     ]
    }
   ],
   "source": [
    "cd /media/martin/Daten/phd/planeteScripts"
   ]
  },
  {
   "cell_type": "code",
   "execution_count": 13,
   "metadata": {},
   "outputs": [
    {
     "name": "stdout",
     "output_type": "stream",
     "text": [
      "The autoreload extension is already loaded. To reload it, use:\n",
      "  %reload_ext autoreload\n"
     ]
    }
   ],
   "source": [
    "%load_ext autoreload\n",
    "%autoreload 2\n",
    "from planeteOutput import *\n",
    "from planetePlots import *\n",
    "from utils import *"
   ]
  },
  {
   "cell_type": "code",
   "execution_count": 3,
   "metadata": {
    "collapsed": true
   },
   "outputs": [],
   "source": [
    "plot_occurrence?"
   ]
  },
  {
   "cell_type": "markdown",
   "metadata": {},
   "source": [
    "### read ref_red files of populations"
   ]
  },
  {
   "cell_type": "code",
   "execution_count": 4,
   "metadata": {},
   "outputs": [],
   "source": [
    "rrJ31file = '/media/martin/Daten/phd/planete/outputs/J31/ref_red5e9.dat_J31_11220'\n",
    "rrJ34file = '/media/martin/Daten/phd/planete/outputs/J34/ref_red5e9.dat'\n",
    "rrJ39file = '/media/martin/Daten/phd/planete/outputs/J39/ref_red5e9.dat'"
   ]
  },
  {
   "cell_type": "code",
   "execution_count": 5,
   "metadata": {},
   "outputs": [],
   "source": [
    "rrJ31 = read_ref_red(rrJ31file)\n",
    "rrJ31 = get_orbitalPeriod(rrJ31, MstarRel=1.)\n",
    "\n",
    "rrJ34 = read_ref_red(rrJ34file)\n",
    "rrJ34 = get_orbitalPeriod(rrJ34, MstarRel=1.)\n",
    "\n",
    "rrJ39 = read_ref_red(rrJ39file)\n",
    "rrJ39 = get_orbitalPeriod(rrJ39, MstarRel=1.)"
   ]
  },
  {
   "cell_type": "markdown",
   "metadata": {},
   "source": [
    "## compute occurrence map for J31, J34, J39"
   ]
  },
  {
   "cell_type": "code",
   "execution_count": 6,
   "metadata": {},
   "outputs": [
    {
     "name": "stdout",
     "output_type": "stream",
     "text": [
      "Using matplotlib backend: Qt5Agg\n",
      "Populating the interactive namespace from numpy and matplotlib\n"
     ]
    }
   ],
   "source": [
    "%pylab"
   ]
  },
  {
   "cell_type": "code",
   "execution_count": null,
   "metadata": {},
   "outputs": [],
   "source": [
    "h, xe, ye, ax = plot_occurrence(rrJ31, xRange=(1.,300.), yRange=(0.5, 32.), logColormap=True)"
   ]
  },
  {
   "cell_type": "code",
   "execution_count": 9,
   "metadata": {
    "collapsed": true
   },
   "outputs": [],
   "source": [
    "import plotstyle"
   ]
  },
  {
   "cell_type": "code",
   "execution_count": 59,
   "metadata": {
    "scrolled": true
   },
   "outputs": [
    {
     "name": "stdout",
     "output_type": "stream",
     "text": [
      "using only planets with status \"0\"\n",
      "Number of Systems: 11406\n",
      "using only planets with status \"0\"\n",
      "Number of Systems: 4966\n"
     ]
    }
   ],
   "source": [
    "# J31occ = plot_occurrence(rrJ31, xRange=(1.,300.), yRange=(0.5, 32.), kind='annotated', binWidth_dex=(0.25, 0.1))\n",
    "# plt.title('J31')\n",
    "J34occ = plot_occurrence(rrJ34, xRange=(1.,300.), yRange=(0.5, 32.), kind='annotated', binWidth_dex=(0.25, 0.1))\n",
    "plt.title('J34')\n",
    "J39occ = plot_occurrence(rrJ39, xRange=(1.,300.), yRange=(0.5, 32.), kind='annotated', binWidth_dex=(0.25, 0.1))\n",
    "plt.title('J39')\n",
    "\n",
    "# workaround for axis labels\n",
    "occ = [J31occ, J34occ, J39occ]\n",
    "for o in occ:\n",
    "    o[-1].set_xlabel('Orbital Period [d]')\n",
    "    o[-1].annotate('Planet Size [$\\mathrm{R_{Earth}}$]', xy=(0.05,0.5), xytext=(0.02, 0.5), xycoords='figure fraction', textcoords='figure fraction', rotation=90, verticalalignment='center', size='medium')"
   ]
  },
  {
   "cell_type": "code",
   "execution_count": null,
   "metadata": {
    "collapsed": true
   },
   "outputs": [],
   "source": []
  }
 ],
 "metadata": {
  "kernelspec": {
   "display_name": "Python 3",
   "language": "python",
   "name": "python3"
  },
  "language_info": {
   "codemirror_mode": {
    "name": "ipython",
    "version": 3
   },
   "file_extension": ".py",
   "mimetype": "text/x-python",
   "name": "python",
   "nbconvert_exporter": "python",
   "pygments_lexer": "ipython3",
   "version": "3.6.3"
  }
 },
 "nbformat": 4,
 "nbformat_minor": 2
}
