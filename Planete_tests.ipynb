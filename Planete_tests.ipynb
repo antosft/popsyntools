{
 "cells": [
  {
   "cell_type": "code",
   "execution_count": 1,
   "metadata": {},
   "outputs": [],
   "source": [
    "import numpy as np\n",
    "import matplotlib.pyplot as plt\n",
    "import seaborn as sns\n",
    "import pandas as pd\n",
    "#%matplotlib inline\n",
    "%matplotlib notebook"
   ]
  },
  {
   "cell_type": "code",
   "execution_count": 7,
   "metadata": {},
   "outputs": [],
   "source": [
    "out001 = np.genfromtxt('outputs/tracks_001.outputdat')"
   ]
  },
  {
   "cell_type": "code",
   "execution_count": 8,
   "metadata": {},
   "outputs": [],
   "source": [
    "t=out001[:,1]\n",
    "m=out001[:,4]\n",
    "mCore=out001[:,2]\n",
    "r=out001[:,14]\n",
    "L=out001[:,5]"
   ]
  },
  {
   "cell_type": "markdown",
   "metadata": {},
   "source": [
    "### load data"
   ]
  },
  {
   "cell_type": "code",
   "execution_count": 5,
   "metadata": {},
   "outputs": [
    {
     "data": {
      "text/html": [
       "<div>\n",
       "<style>\n",
       "    .dataframe thead tr:only-child th {\n",
       "        text-align: right;\n",
       "    }\n",
       "\n",
       "    .dataframe thead th {\n",
       "        text-align: left;\n",
       "    }\n",
       "\n",
       "    .dataframe tbody tr th {\n",
       "        vertical-align: top;\n",
       "    }\n",
       "</style>\n",
       "<table border=\"1\" class=\"dataframe\">\n",
       "  <thead>\n",
       "    <tr style=\"text-align: right;\">\n",
       "      <th></th>\n",
       "      <th>1   0.1400000000000E+00   0.1000000000000E-02   0.2552938983427E-01   0.1158607759322E-03   0.3382611547737E+03   0.1625242907887E-14   0.0000000000000E+00   0.0000000000000E+00   0.0000000000000E+00   0.1279203141715E+05   0.0000000000000E+00   0.0000000000000E+00   0.0000000000000E+00   0.0000000000000E+00   0.0000000000000E+00   0.0000000000000E+00   0.0000000000000E+00   0.0000000000000E+00   0.0000000000000E+00   0.0000000000000E+00</th>\n",
       "    </tr>\n",
       "  </thead>\n",
       "  <tbody>\n",
       "    <tr>\n",
       "      <th>0</th>\n",
       "      <td>2   0.1403659795998E+00   0.6723619730563E...</td>\n",
       "    </tr>\n",
       "    <tr>\n",
       "      <th>1</th>\n",
       "      <td>3   0.1407329159215E+00   0.1340686377253E...</td>\n",
       "    </tr>\n",
       "    <tr>\n",
       "      <th>2</th>\n",
       "      <td>4   0.1411008114662E+00   0.2004991653299E...</td>\n",
       "    </tr>\n",
       "    <tr>\n",
       "      <th>3</th>\n",
       "      <td>5   0.1414696687412E+00   0.2665296165918E...</td>\n",
       "    </tr>\n",
       "    <tr>\n",
       "      <th>4</th>\n",
       "      <td>6   0.1418394902609E+00   0.3321618204145E...</td>\n",
       "    </tr>\n",
       "    <tr>\n",
       "      <th>5</th>\n",
       "      <td>7   0.1422102785458E+00   0.3973975981625E...</td>\n",
       "    </tr>\n",
       "    <tr>\n",
       "      <th>6</th>\n",
       "      <td>8   0.1425820361231E+00   0.4622387636904E...</td>\n",
       "    </tr>\n",
       "    <tr>\n",
       "      <th>7</th>\n",
       "      <td>9   0.1429547655268E+00   0.5266871233728E...</td>\n",
       "    </tr>\n",
       "    <tr>\n",
       "      <th>8</th>\n",
       "      <td>10   0.1433284692974E+00   0.5907444761333E...</td>\n",
       "    </tr>\n",
       "    <tr>\n",
       "      <th>9</th>\n",
       "      <td>11   0.1437031499819E+00   0.6544126134738E...</td>\n",
       "    </tr>\n",
       "  </tbody>\n",
       "</table>\n",
       "</div>"
      ],
      "text/plain": [
       "      1   0.1400000000000E+00   0.1000000000000E-02   0.2552938983427E-01   0.1158607759322E-03   0.3382611547737E+03   0.1625242907887E-14   0.0000000000000E+00   0.0000000000000E+00   0.0000000000000E+00   0.1279203141715E+05   0.0000000000000E+00   0.0000000000000E+00   0.0000000000000E+00   0.0000000000000E+00   0.0000000000000E+00   0.0000000000000E+00   0.0000000000000E+00   0.0000000000000E+00   0.0000000000000E+00   0.0000000000000E+00\n",
       "0      2   0.1403659795998E+00   0.6723619730563E...                                                                                                                                                                                                                                                                                                                                                                                                           \n",
       "1      3   0.1407329159215E+00   0.1340686377253E...                                                                                                                                                                                                                                                                                                                                                                                                           \n",
       "2      4   0.1411008114662E+00   0.2004991653299E...                                                                                                                                                                                                                                                                                                                                                                                                           \n",
       "3      5   0.1414696687412E+00   0.2665296165918E...                                                                                                                                                                                                                                                                                                                                                                                                           \n",
       "4      6   0.1418394902609E+00   0.3321618204145E...                                                                                                                                                                                                                                                                                                                                                                                                           \n",
       "5      7   0.1422102785458E+00   0.3973975981625E...                                                                                                                                                                                                                                                                                                                                                                                                           \n",
       "6      8   0.1425820361231E+00   0.4622387636904E...                                                                                                                                                                                                                                                                                                                                                                                                           \n",
       "7      9   0.1429547655268E+00   0.5266871233728E...                                                                                                                                                                                                                                                                                                                                                                                                           \n",
       "8     10   0.1433284692974E+00   0.5907444761333E...                                                                                                                                                                                                                                                                                                                                                                                                           \n",
       "9     11   0.1437031499819E+00   0.6544126134738E...                                                                                                                                                                                                                                                                                                                                                                                                           "
      ]
     },
     "execution_count": 5,
     "metadata": {},
     "output_type": "execute_result"
    }
   ],
   "source": [
    "disk = pd.read_csv('outputs/structure_disk.outputdat')\n",
    "#disk = disk.rename(columns = {'})\n",
    "disk.head(10)"
   ]
  },
  {
   "cell_type": "code",
   "execution_count": null,
   "metadata": {},
   "outputs": [],
   "source": []
  }
 ],
 "metadata": {
  "kernelspec": {
   "display_name": "Python 3",
   "language": "python",
   "name": "python3"
  },
  "language_info": {
   "codemirror_mode": {
    "name": "ipython",
    "version": 3
   },
   "file_extension": ".py",
   "mimetype": "text/x-python",
   "name": "python",
   "nbconvert_exporter": "python",
   "pygments_lexer": "ipython3",
   "version": "3.6.2"
  }
 },
 "nbformat": 4,
 "nbformat_minor": 2
}
